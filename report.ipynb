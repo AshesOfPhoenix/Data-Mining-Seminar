{
 "cells": [
  {
   "cell_type": "markdown",
   "metadata": {},
   "source": [
    "# Raziskava netflix baze"
   ]
  },
  {
   "cell_type": "markdown",
   "metadata": {},
   "source": [
    "Avtorji:\n",
    "\n",
    "- Kristjan Križman,\n",
    "- Boštjan Perkan,\n",
    "- Gregor Šink,\n",
    "- Martin Potočan,\n",
    "- Žan Dodič Bržan.\n",
    "\n",
    "Mentor:\n",
    "\n",
    "- doc. dr. Tomaž Curk"
   ]
  },
  {
   "cell_type": "markdown",
   "metadata": {},
   "source": [
    "## Priprava podatkov\n",
    "\n",
    "Za začetek smo posebej prebrali netflix_titles.csv ter vse IMDB csv datoteke. Ustvarili smo svoj csv file kjer smo vse neznane režiserje v netflixu probali najti te režiserje v IMDB bazi ter prazne prostore tako nadomestili z imenom oz -1, če ta režiser tega filma sploh ne obstaja. Datoteko smo še izvozili ter z njim delali v nadalnjih raziskavah."
   ]
  },
  {
   "cell_type": "markdown",
   "metadata": {},
   "source": [
    "## Glavne Ugotovitve\n",
    "\n",
    "Zaenkrat imamo par ugotovitev, kot so:\n",
    "\n",
    "- Če delimo podatke na dva tipa, torej filmi in serije, Netflix vsebuje kar 40% serij\n",
    "- Najbolje ocenjen film na Netflixu je God of War\n",
    "- Najbolje ocenjena serija na Netflix je Planet Earth II\n",
    "- Na Netflixu je 60% filmov in 40% serij\n",
    "- Največ filmov je posnetih v ZDA, zatem sledijo presenetljivo Indija, Velika Britanija, Kanada ter Francija.\n",
    "- Najboljši režiserji v Ameriki so Ken Burns,Vikramaditya Motwane in Louis C.K. Najslabši pa Ron Howard, Chris Stokes ter Mark A.Z Dippe. Poizvedbe o najboljših režiserjih smo naredili tudi za Veliko Britanijo, Francijo, Nemčijo ter Indijo. Za več podrobnosti obiščite report.ipynb."
   ]
  },
  {
   "cell_type": "markdown",
   "metadata": {},
   "source": [
    "# Martin"
   ]
  },
  {
   "cell_type": "markdown",
   "metadata": {},
   "source": [
    "![caption](wordcloud.png)"
   ]
  },
  {
   "cell_type": "markdown",
   "metadata": {},
   "source": [
    "# Gregor"
   ]
  },
  {
   "cell_type": "markdown",
   "metadata": {},
   "source": [
    "![caption](movie_tvshow_ration.png)"
   ]
  },
  {
   "cell_type": "markdown",
   "metadata": {},
   "source": [
    "# Boštjan"
   ]
  },
  {
   "cell_type": "markdown",
   "metadata": {},
   "source": [
    "### Število narejeniv filmov v posamezni državi. Brez nobenega presenecenja smo ugotovili, da se največ filmov proizvede v USA ampak da je na drugem mestu Indija je pa precej presenetljivo. Drugace na grafu je izpisanih 20 najbolj popularnih držav kjer nastajajo filmi na Netflixu. Za bolj podrobno število narejenih filmov obiščite direktorji.ipynb.\n",
    "\n",
    "\n",
    "![caption](country.png)"
   ]
  },
  {
   "cell_type": "markdown",
   "metadata": {},
   "source": [
    "### V spodnjih grafih so prikazani najboljši in najslabši direkotrji po posamezni državi. Izbrali smo 5 nakjlucnih držav v katerih so bili posneti filmi. Najbolšega direktorja smo izbrali iz povprečja ocen njegovih filmov v posamezni državi. Za posamezno državo je izpisanih 5 najboljih in 5 najslabših direktorjev. V poročilo smo dodali samo USA za ostale 4 države torej Nemčijo, Francijo, Veliko Britanijo in Indijo pa si najboljše oz najslabše direktorje lahko pogledate v direktorji.ipynb.\n",
    "\n",
    "![caption](worst_directors.png)"
   ]
  },
  {
   "cell_type": "markdown",
   "metadata": {},
   "source": [
    "![caption](best_directors.png)"
   ]
  },
  {
   "cell_type": "markdown",
   "metadata": {},
   "source": [
    "# Boštjan & Gregor"
   ]
  },
  {
   "cell_type": "markdown",
   "metadata": {},
   "source": [
    "![caption](hie_clustering.png)\n"
   ]
  },
  {
   "cell_type": "markdown",
   "metadata": {},
   "source": [
    "# Žan"
   ]
  },
  {
   "cell_type": "code",
   "execution_count": null,
   "metadata": {},
   "outputs": [],
   "source": []
  },
  {
   "cell_type": "markdown",
   "metadata": {},
   "source": [
    "# Kristjan"
   ]
  },
  {
   "cell_type": "markdown",
   "metadata": {},
   "source": [
    "### Vprašali smo se kako bi prikazali raznolikost igralcev po temah, kakor jih ima netflix razvžčene in katere teme so najbolj pogoste.\n",
    "\n",
    "#### Odločili smo se, da bomo to prikazali s pomočjo povezovalnega omrežja, spečifično affiliation network, z dvemi tipi vozlišč.\n",
    "Diamanti predstavljajo igralce, hexagoni pa teme/žanre. Prikazani so le igralci, katerih filmi/serije imajo skupaj enako ali več kot 11 različnih tem. Povezava med vozliči pomeni, da ima igralec vsaj en film/serijo, ki je v to temo uvrščena.\n",
    "\n",
    "### Ugotovitve:\n",
    "- najbolj \"raznolik\" igralec je Ron Perlman, katerega filmi/serije so bile uvrščene v 15 različnih del\n",
    "- najbolj pogosta/popularna tematika je Drama."
   ]
  },
  {
   "cell_type": "markdown",
   "metadata": {},
   "source": [
    "![caption](network.png)"
   ]
  }
 ],
 "metadata": {
  "language_info": {
   "codemirror_mode": {
    "name": "ipython",
    "version": 3
   },
   "file_extension": ".py",
   "mimetype": "text/x-python",
   "name": "python",
   "nbconvert_exporter": "python",
   "pygments_lexer": "ipython3",
   "version": "3.7.6-final"
  },
  "orig_nbformat": 2,
  "kernelspec": {
   "name": "python3",
   "display_name": "Python 3"
  }
 },
 "nbformat": 4,
 "nbformat_minor": 2
}