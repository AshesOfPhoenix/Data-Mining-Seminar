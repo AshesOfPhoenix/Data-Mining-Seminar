{
 "cells": [
  {
   "cell_type": "markdown",
   "metadata": {},
   "source": [
    "# Raziskava netflix baze"
   ]
  },
  {
   "cell_type": "markdown",
   "metadata": {},
   "source": [
    "Avtorji:\n",
    "\n",
    "- Kristjan Križman,\n",
    "- Boštjan Perkan,\n",
    "- Gregor Šink,\n",
    "- Martin Potočan,\n",
    "- Žan Dodič Bržan.\n",
    "\n",
    "Mentor:\n",
    "\n",
    "- doc. dr. Tomaž Curk"
   ]
  },
  {
   "cell_type": "markdown",
   "metadata": {},
   "source": [
    "## Priprava podatkov\n",
    "\n",
    "Za začetek smo posebej prebrali netflix_titles.csv ter vse IMDB csv datoteke. Ustvarili smo svoj csv file kjer smo vse neznane režiserje v netflixu probali najti te režiserje v IMDB bazi ter prazne prostore tako nadomestili z imenom oz -1, če ta režiser tega filma sploh ne obstaja. Datoteko smo še izvozili ter z njim delali v nadalnjih raziskavah.\n",
    "\n",
    "*** Koda se nahaja v datoteki priprava_podatkov.ipynb ***"
   ]
  },
  {
   "cell_type": "markdown",
   "metadata": {},
   "source": [
    "## Glavne Ugotovitve\n",
    "\n",
    "Zaenkrat imamo par ugotovitev, kot so:\n",
    "\n",
    "- Če delimo podatke na dva tipa, torej filmi in serije, Netflix vsebuje kar 40% serij\n",
    "- Najbolje ocenjen film na Netflixu je God of War\n",
    "- Najbolje ocenjena serija na Netflix je Planet Earth II\n",
    "- Na Netflixu je 60% filmov in 40% serij\n",
    "- Največ filmov je posnetih v ZDA, zatem sledijo presenetljivo Indija, Velika Britanija, Kanada ter Francija.\n",
    "- Najboljši režiserji v Ameriki so Ken Burns,Vikramaditya Motwane in Louis C.K. Najslabši pa Ron Howard, Chris Stokes ter Mark A.Z Dippe. Poizvedbe o najboljših režiserjih smo naredili tudi za Veliko Britanijo, Francijo, Nemčijo ter Indijo. Za več podrobnosti obiščite report.ipynb."
   ]
  },
  {
   "cell_type": "markdown",
   "metadata": {},
   "source": [
    "### Wordcloud\n",
    "Ustvarili smo wordcloud, v katerem velikost besed predstavlja število njihovih ponovitev v opisih filmov, s tem, da večja kot je beseda, bolj pogosto se pojavi. Seveda smo le te besede tudi filtrirali ter izločili veznike, predloge ter ostale neuporabne besedne vrste. Celoten wordcloud smo tudi proecirali na Netflixev logotip."
   ]
  },
  {
   "cell_type": "markdown",
   "metadata": {},
   "source": [
    "*** Koda in graf se nahajata v datoteki descVisual.ipynb ***\n",
    "\n",
    "![caption](img/wordcloud.png)"
   ]
  },
  {
   "cell_type": "markdown",
   "metadata": {},
   "source": [
    "### Interaktiven razpršeni graf\n",
    "S tem smo prikazali pogostost pojavitve posameznih besed v opisih filmov glede na povprečno oceno le teh in sicer za 3 najštevličnejše žanre (drame, komedije ter dokumentarce). Število pojavitev potrebnih, da se le ta na grafu prikaže smo omejili zato, da smo lahko odstranili osamelce. Tako smo prišli do korelacije med povprečno oceno filma ter določenimi besedami, ki ne nahajajo v njihovih opisih. Tu je nekaj izmed bolj zanimivh:"
   ]
  },
  {
   "cell_type": "markdown",
   "metadata": {},
   "source": [
    "![caption](img/avgDrama.png)\n",
    "\n",
    "### -drame:\n",
    "| Beseda | Število pojavitev | Povp. ocena filma |\n",
    "|:-:|:-:|:-:|\n",
    "| Series | 60 | 7.1 |\n",
    "| Family | 187 | 6.677 |\n",
    "| Young | 294 | 6.107 |\n",
    "| Other | 62 | 5.76 |\n",
    "\n",
    "\n",
    "### -komedije:\n",
    "| Beseda | Število pojavitev | Povp. ocena filma |\n",
    "|:-:|:-:|:-:|\n",
    "| Special | 105 | 6.623 |\n",
    "| She | 125 | 6.139 |\n",
    "| Man | 120 | 5.741 |\n",
    "| Woman | 94 | 5.539 |"
   ]
  },
  {
   "cell_type": "markdown",
   "metadata": {},
   "source": [
    "### Zanimalo nas je kako je Netflix dodajal filme in serije na platformo skozi leta. Na spodnjem grafu je prikazano kako je počasi višal popularnost in kako so zahteve uporabnikov rasle saj se po letu 2015 vidi, da so začeli dodajati ogromno serij in filmov na platformo. Vidi se za filmi vedno prevladujejo, a se tudi dodaja vedno več serij."
   ]
  },
  {
   "cell_type": "markdown",
   "metadata": {},
   "source": [
    "*** Koda in graf se nahajata v datoteki contentRatios.ipynb ***\n",
    "\n",
    "![caption](img/movie_tvshow_ration.png)"
   ]
  },
  {
   "cell_type": "markdown",
   "metadata": {},
   "source": [
    "### Hoteli smo tudi izvedeti, kaj je bolj popularno/ocenjeno tv serije ali filmi? Tu smo izračunali povpreče ocen vseh serij/filmov ter jih medseboj primerjali, tukaj je vidno, da so serije bolj ocenjene, ampak to je tudi možno zato, ker je filmov veliko več kot serij, kar pomeni da je tudi več slabših, ki slabše ocenjene."
   ]
  },
  {
   "cell_type": "markdown",
   "metadata": {},
   "source": [
    "![caption](img/top_ten_movie.png)"
   ]
  },
  {
   "cell_type": "markdown",
   "metadata": {},
   "source": [
    "![caption](img/top_ten_tvshow.png)"
   ]
  },
  {
   "cell_type": "markdown",
   "metadata": {},
   "source": [
    "![caption](img/average.png)"
   ]
  },
  {
   "cell_type": "markdown",
   "metadata": {},
   "source": [
    "### Število narejeniv filmov v posamezni državi. Brez nobenega presenecenja smo ugotovili, da se največ filmov proizvede v USA ampak da je na drugem mestu Indija je pa precej presenetljivo. Drugace na grafu je izpisanih 20 najbolj popularnih držav kjer nastajajo filmi na Netflixu. Za bolj podrobno število narejenih filmov obiščite direktorji.ipynb."
   ]
  },
  {
   "cell_type": "markdown",
   "metadata": {},
   "source": [
    "*** Koda in graf se nahajata v datoteki direktorji.ipynb ***\n",
    "\n",
    "![caption](img/country.png)"
   ]
  },
  {
   "cell_type": "markdown",
   "metadata": {},
   "source": [
    "### V spodnjih grafih so prikazani najboljši in najslabši direkotrji po posamezni državi. Izbrali smo 5 nakjlucnih držav v katerih so bili posneti filmi. Najbolšega direktorja smo izbrali iz povprečja ocen njegovih filmov v posamezni državi. Za posamezno državo je izpisanih 5 najboljih in 5 najslabših direktorjev. V poročilo smo dodali samo USA za ostale 4 države torej Nemčijo, Francijo, Veliko Britanijo in Indijo pa si najboljše oz najslabše direktorje lahko pogledate v direktorji.ipynb."
   ]
  },
  {
   "cell_type": "markdown",
   "metadata": {},
   "source": [
    "*** Koda in graf se nahajata v datoteki direktorji.ipynb ***\n",
    "\n",
    "![caption](img/worst_directors.png)"
   ]
  },
  {
   "cell_type": "markdown",
   "metadata": {},
   "source": [
    "*** Koda in graf se nahajata v datoteki direktorji.ipynb ***\n",
    "\n",
    "![caption](best_directors.png)\n"
   ]
  },
  {
   "cell_type": "markdown",
   "metadata": {},
   "source": [
    "### Vzeli smo 100 najbolj popularnih filmov ter z njimi ustvarili matriko, ki prikazuje podatke v številski obliki. Za metodo povezovanja smo izbrali \"average\", ker smo želeli dobiti povprečno razdaljo med vsemi filmi. Za mero razdalj smo uporabli jaccardov index, saj ima vsak film največ štiri žanre, to pomeni, da imamo veliko mankajočih vrednosti v tabeli.  Na grafu je razvidno, da so se filmi z istimi žanri dejansko povezali v gruče."
   ]
  },
  {
   "cell_type": "markdown",
   "metadata": {},
   "source": [
    "*** Koda in graf se nahajata v datoteki grucenje.ipynb ***\n",
    "\n",
    "![caption](img/hie_clustering.png)\n"
   ]
  },
  {
   "cell_type": "markdown",
   "metadata": {},
   "source": [
    "### Vprašali smo se kako bi prikazali raznolikost igralcev po temah, kakor jih ima netflix razvžčene in katere teme so najbolj pogoste.\n",
    "\n",
    "#### Odločili smo se, da bomo to prikazali s pomočjo povezovalnega omrežja, spečifično affiliation network, z dvemi tipi vozlišč.\n",
    "Diamanti predstavljajo igralce, hexagoni pa teme/žanre. Prikazani so le igralci, katerih filmi/serije imajo skupaj enako ali več kot 11 različnih tem. Povezava med vozliči pomeni, da ima igralec vsaj en film/serijo, ki je v to temo uvrščena.\n",
    "\n",
    "### Ugotovitve:\n",
    "- najbolj \"raznolik\" igralec je Ron Perlman, katerega filmi/serije so bile uvrščene v 15 različnih del\n",
    "- najbolj pogosta/popularna tematika je Drama.\n",
    "\n",
    "\n",
    "\n"
   ]
  },
  {
   "cell_type": "markdown",
   "metadata": {},
   "source": [
    "*** Koda in interaktiven graf se nahajata v datoteki network.ipynb ***\n",
    "![caption](img/network.png)"
   ]
  },
  {
   "cell_type": "markdown",
   "metadata": {},
   "source": [
    "### Sledeče omrežje je tipa actor-actor, v katerem so igralci povezani med seboj, pod pogojem, da so nastopali v vsaj štirih filmih (ni nujno skupaj). Pogoj je bil, da so pred tem nastopali v vsaj 4 filmih ter v vlogi glavnega igralca (prvi in drugi po vrsti v vlogi filma).\n"
   ]
  },
  {
   "cell_type": "markdown",
   "metadata": {},
   "source": [
    "*** Koda in interaktiven graf se nahajata v datoteki network.ipynb ***\n",
    "\n",
    "![caption](img/connected_actors.png)\n"
   ]
  },
  {
   "cell_type": "markdown",
   "metadata": {},
   "source": [
    "### Pogledali smo najbolj popularne žanre oziroma kot netflix pravi pod kaj so filmi razvrščeni. Imeli smo malo probleme z tem ker netfliova baza razvršča filme v čudne kategorije kot so Mednarodni filmi, zato sem mogel ročno opustit par zvrsti, ki se mi niso zdele pomembne.  Prvo smo naredili smo en graf, ki nam ne prece številsko ampak grafično nam prikaže katere žanre so najbolj popularne. Nato smo prikazali nekaj najbolj popularnih žanr ter njihove nabolj popularne filme, ampak predvsem nas je zanimalo kako se držijo ocene npr. kakšna je reazlika v grafu ocen top 200 izbrane žanre, torej za primer uzamemo drame, ki majo predvsem stabilne visoke ocene in npr Cult Movies, kjer pa nimajo tako stabilnih ocen namreč takoj opazimo da mamo par dobro ocenenih filmov nato pa graf kr pada."
   ]
  },
  {
   "cell_type": "markdown",
   "metadata": {},
   "source": [
    "*** Koda in graf se nahajata v datoteki listed_themes.ipynb ***\n",
    "\n",
    "![caption](img/listed_in.png)"
   ]
  },
  {
   "cell_type": "markdown",
   "metadata": {},
   "source": [
    "*** Koda in graf se nahajata v datoteki listed_themes.ipynb ***\n",
    "\n",
    "![caption](img/top_drame.png)"
   ]
  },
  {
   "cell_type": "markdown",
   "metadata": {},
   "source": [
    "*** Koda in graf se nahajata v datoteki listed_themes.ipynb ***\n",
    "\n",
    "![caption](img/rating_drame.png)"
   ]
  },
  {
   "cell_type": "markdown",
   "metadata": {},
   "source": [
    "*** Koda in graf se nahajata v datoteki listed_themes.ipynb ***\n",
    "\n",
    "![caption](img/top_reality.png)"
   ]
  },
  {
   "cell_type": "markdown",
   "metadata": {},
   "source": [
    "*** Koda in graf se nahajata v datoteki listed_themes.ipynb ***\n",
    "\n",
    "![caption](img/rating_reality.png)"
   ]
  }
 ],
 "metadata": {
  "language_info": {
   "codemirror_mode": {
    "name": "ipython",
    "version": 3
   },
   "file_extension": ".py",
   "mimetype": "text/x-python",
   "name": "python",
   "nbconvert_exporter": "python",
   "pygments_lexer": "ipython3",
   "version": "3.7.6-final"
  },
  "orig_nbformat": 2,
  "kernelspec": {
   "name": "python3",
   "display_name": "Python 3"
  }
 },
 "nbformat": 4,
 "nbformat_minor": 2
}