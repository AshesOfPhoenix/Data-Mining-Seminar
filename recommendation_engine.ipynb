{
 "cells": [
  {
   "cell_type": "markdown",
   "metadata": {},
   "source": [
    "# PRIPOROČILNI SISTEM GLEDE NA ... (To be added)\n",
    "\n",
    "## CILJI:\n",
    "    - na podlagi podanih informacij (izbranih žanr) najti filme, ki najbolj ustrezajo tem parametrom"
   ]
  },
  {
   "cell_type": "code",
   "execution_count": 32,
   "metadata": {},
   "outputs": [],
   "source": [
    "import networkx as nx\n",
    "import matplotlib.pyplot as plt\n",
    "import pandas as pd\n",
    "import numpy as np\n",
    "import math as math\n",
    "import time \n",
    "\n",
    "from sklearn.feature_extraction.text import TfidfVectorizer\n",
    "from sklearn.metrics.pairwise import linear_kernel\n",
    "from sklearn.cluster import MiniBatchKMeans\n"
   ]
  },
  {
   "cell_type": "code",
   "execution_count": 33,
   "metadata": {},
   "outputs": [],
   "source": [
    "netflix = pd.read_csv('Netflix_all.csv')\n",
    "\n",
    "netflix['date_added'] = pd.to_datetime(netflix['date_added'], format=\"%Y/%m/%d\") \n",
    "netflix['day'] = netflix['date_added'].dt.day"
   ]
  },
  {
   "cell_type": "code",
   "execution_count": 34,
   "metadata": {},
   "outputs": [
    {
     "output_type": "execute_result",
     "data": {
      "text/plain": "    show_id     type                                    title  \\\n0  81145628    Movie  Norm of the North: King Sized Adventure   \n1  80117401    Movie               Jandino: Whatever it Takes   \n2  70234439  TV Show                       Transformers Prime   \n3  80058654  TV Show         Transformers: Robots in Disguise   \n4  80125979    Movie                             #realityhigh   \n\n                   director  \\\n0  Richard Finn, Tim Maltby   \n1                        -1   \n2                        -1   \n3                        -1   \n4          Fernando Lebrija   \n\n                                                cast  \\\n0  Alan Marriott, Andrew Toth, Brian Dobson, Cole...   \n1                                   Jandino Asporaat   \n2  Peter Cullen, Sumalee Montano, Frank Welker, J...   \n3  Will Friedle, Darren Criss, Constance Zimmer, ...   \n4  Nesta Cooper, Kate Walsh, John Michael Higgins...   \n\n                                    country date_added  release_year  \\\n0  United States, India, South Korea, China 2019-09-09          2019   \n1                            United Kingdom 2016-09-09          2016   \n2                             United States 2018-09-08          2013   \n3                             United States 2018-09-08          2016   \n4                             United States 2017-09-08          2017   \n\n     rating  duration  ...                                        description  \\\n0     TV-PG    90 min  ...  Before planning an awesome wedding for his gra...   \n1     TV-MA    94 min  ...  Jandino Asporaat riffs on the challenges of ra...   \n2  TV-Y7-FV  1 Season  ...  With the help of three human allies, the Autob...   \n3     TV-Y7  1 Season  ...  When a prison ship crash unleashes hundreds of...   \n4     TV-14    99 min  ...  When nerdy high schooler Dani finally attracts...   \n\n  averageRating  numVotes  month_added year_added  day  \\\n0           3.1     249.0    September       2019  9.0   \n1           5.2      18.0    September       2016  9.0   \n2           7.8    4968.0    September       2018  8.0   \n3           6.0     774.0    September       2018  8.0   \n4           5.2    4980.0    September       2017  8.0   \n\n                    directors                            categories  \\\n0  [Richard Finn, Tim Maltby]  [Children & Family Movies, Comedies]   \n1                        [-1]                     [Stand-Up Comedy]   \n2                        [-1]                            [Kids' TV]   \n3                        [-1]                            [Kids' TV]   \n4          [Fernando Lebrija]                            [Comedies]   \n\n                                              actors  \\\n0  [Alan Marriott, Andrew Toth, Brian Dobson, Col...   \n1                                 [Jandino Asporaat]   \n2  [Peter Cullen, Sumalee Montano, Frank Welker, ...   \n3  [Will Friedle, Darren Criss, Constance Zimmer,...   \n4  [Nesta Cooper, Kate Walsh, John Michael Higgin...   \n\n                                    countries  \n0  [United States, India, South Korea, China]  \n1                            [United Kingdom]  \n2                             [United States]  \n3                             [United States]  \n4                             [United States]  \n\n[5 rows x 21 columns]",
      "text/html": "<div>\n<style scoped>\n    .dataframe tbody tr th:only-of-type {\n        vertical-align: middle;\n    }\n\n    .dataframe tbody tr th {\n        vertical-align: top;\n    }\n\n    .dataframe thead th {\n        text-align: right;\n    }\n</style>\n<table border=\"1\" class=\"dataframe\">\n  <thead>\n    <tr style=\"text-align: right;\">\n      <th></th>\n      <th>show_id</th>\n      <th>type</th>\n      <th>title</th>\n      <th>director</th>\n      <th>cast</th>\n      <th>country</th>\n      <th>date_added</th>\n      <th>release_year</th>\n      <th>rating</th>\n      <th>duration</th>\n      <th>...</th>\n      <th>description</th>\n      <th>averageRating</th>\n      <th>numVotes</th>\n      <th>month_added</th>\n      <th>year_added</th>\n      <th>day</th>\n      <th>directors</th>\n      <th>categories</th>\n      <th>actors</th>\n      <th>countries</th>\n    </tr>\n  </thead>\n  <tbody>\n    <tr>\n      <th>0</th>\n      <td>81145628</td>\n      <td>Movie</td>\n      <td>Norm of the North: King Sized Adventure</td>\n      <td>Richard Finn, Tim Maltby</td>\n      <td>Alan Marriott, Andrew Toth, Brian Dobson, Cole...</td>\n      <td>United States, India, South Korea, China</td>\n      <td>2019-09-09</td>\n      <td>2019</td>\n      <td>TV-PG</td>\n      <td>90 min</td>\n      <td>...</td>\n      <td>Before planning an awesome wedding for his gra...</td>\n      <td>3.1</td>\n      <td>249.0</td>\n      <td>September</td>\n      <td>2019</td>\n      <td>9.0</td>\n      <td>[Richard Finn, Tim Maltby]</td>\n      <td>[Children &amp; Family Movies, Comedies]</td>\n      <td>[Alan Marriott, Andrew Toth, Brian Dobson, Col...</td>\n      <td>[United States, India, South Korea, China]</td>\n    </tr>\n    <tr>\n      <th>1</th>\n      <td>80117401</td>\n      <td>Movie</td>\n      <td>Jandino: Whatever it Takes</td>\n      <td>-1</td>\n      <td>Jandino Asporaat</td>\n      <td>United Kingdom</td>\n      <td>2016-09-09</td>\n      <td>2016</td>\n      <td>TV-MA</td>\n      <td>94 min</td>\n      <td>...</td>\n      <td>Jandino Asporaat riffs on the challenges of ra...</td>\n      <td>5.2</td>\n      <td>18.0</td>\n      <td>September</td>\n      <td>2016</td>\n      <td>9.0</td>\n      <td>[-1]</td>\n      <td>[Stand-Up Comedy]</td>\n      <td>[Jandino Asporaat]</td>\n      <td>[United Kingdom]</td>\n    </tr>\n    <tr>\n      <th>2</th>\n      <td>70234439</td>\n      <td>TV Show</td>\n      <td>Transformers Prime</td>\n      <td>-1</td>\n      <td>Peter Cullen, Sumalee Montano, Frank Welker, J...</td>\n      <td>United States</td>\n      <td>2018-09-08</td>\n      <td>2013</td>\n      <td>TV-Y7-FV</td>\n      <td>1 Season</td>\n      <td>...</td>\n      <td>With the help of three human allies, the Autob...</td>\n      <td>7.8</td>\n      <td>4968.0</td>\n      <td>September</td>\n      <td>2018</td>\n      <td>8.0</td>\n      <td>[-1]</td>\n      <td>[Kids' TV]</td>\n      <td>[Peter Cullen, Sumalee Montano, Frank Welker, ...</td>\n      <td>[United States]</td>\n    </tr>\n    <tr>\n      <th>3</th>\n      <td>80058654</td>\n      <td>TV Show</td>\n      <td>Transformers: Robots in Disguise</td>\n      <td>-1</td>\n      <td>Will Friedle, Darren Criss, Constance Zimmer, ...</td>\n      <td>United States</td>\n      <td>2018-09-08</td>\n      <td>2016</td>\n      <td>TV-Y7</td>\n      <td>1 Season</td>\n      <td>...</td>\n      <td>When a prison ship crash unleashes hundreds of...</td>\n      <td>6.0</td>\n      <td>774.0</td>\n      <td>September</td>\n      <td>2018</td>\n      <td>8.0</td>\n      <td>[-1]</td>\n      <td>[Kids' TV]</td>\n      <td>[Will Friedle, Darren Criss, Constance Zimmer,...</td>\n      <td>[United States]</td>\n    </tr>\n    <tr>\n      <th>4</th>\n      <td>80125979</td>\n      <td>Movie</td>\n      <td>#realityhigh</td>\n      <td>Fernando Lebrija</td>\n      <td>Nesta Cooper, Kate Walsh, John Michael Higgins...</td>\n      <td>United States</td>\n      <td>2017-09-08</td>\n      <td>2017</td>\n      <td>TV-14</td>\n      <td>99 min</td>\n      <td>...</td>\n      <td>When nerdy high schooler Dani finally attracts...</td>\n      <td>5.2</td>\n      <td>4980.0</td>\n      <td>September</td>\n      <td>2017</td>\n      <td>8.0</td>\n      <td>[Fernando Lebrija]</td>\n      <td>[Comedies]</td>\n      <td>[Nesta Cooper, Kate Walsh, John Michael Higgin...</td>\n      <td>[United States]</td>\n    </tr>\n  </tbody>\n</table>\n<p>5 rows × 21 columns</p>\n</div>"
     },
     "metadata": {},
     "execution_count": 34
    }
   ],
   "source": [
    "netflix['directors'] = netflix['director'].apply(lambda l: [] if pd.isna(l) else [i.strip() for i in l.split(\",\")])\n",
    "netflix['categories'] = netflix['listed_in'].apply(lambda l: [] if pd.isna(l) else [i.strip() for i in l.split(\",\")])\n",
    "netflix['actors'] = netflix['cast'].apply(lambda l: [] if pd.isna(l) else [i.strip() for i in l.split(\",\")])\n",
    "netflix['countries'] = netflix['country'].apply(lambda l: [] if pd.isna(l) else [i.strip() for i in l.split(\",\")])\n",
    "netflix.head(10)"
   ]
  },
  {
   "cell_type": "code",
   "execution_count": null,
   "metadata": {},
   "outputs": [],
   "source": [
    "text_content = netflix['description']\n",
    "vector = TfidfVectorizer(max_df=0.4,         # drop words that occur in more than X percent of documents\n",
    "                             min_df=1,      # only use words that appear at least X times\n",
    "                             stop_words='english', # remove stop words\n",
    "                             lowercase=True, # Convert everything to lower case \n",
    "                             use_idf=True,   # Use idf\n",
    "                             norm=u'l2',     # Normalization\n",
    "                             smooth_idf=True # Prevents divide-by-zero errors\n",
    "                            )\n",
    "tfidf = vector.fit_transform(text_content)"
   ]
  }
 ],
 "metadata": {
  "language_info": {
   "codemirror_mode": {
    "name": "ipython",
    "version": 3
   },
   "file_extension": ".py",
   "mimetype": "text/x-python",
   "name": "python",
   "nbconvert_exporter": "python",
   "pygments_lexer": "ipython3",
   "version": "3.7.6-final"
  },
  "orig_nbformat": 2,
  "kernelspec": {
   "name": "python3",
   "display_name": "Python 3"
  }
 },
 "nbformat": 4,
 "nbformat_minor": 2
}