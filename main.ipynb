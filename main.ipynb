{
 "nbformat": 4,
 "nbformat_minor": 2,
 "metadata": {
  "language_info": {
   "name": "python",
   "codemirror_mode": {
    "name": "ipython",
    "version": 3
   },
   "version": "3.8.2-final"
  },
  "orig_nbformat": 2,
  "file_extension": ".py",
  "mimetype": "text/x-python",
  "name": "python",
  "npconvert_exporter": "python",
  "pygments_lexer": "ipython3",
  "version": 3,
  "kernelspec": {
   "name": "python38264bit553e3e8ec99a4b87b1b2505e7b40f543",
   "display_name": "Python 3.8.2 64-bit"
  }
 },
 "cells": [
  {
   "cell_type": "code",
   "execution_count": 3,
   "metadata": {},
   "outputs": [],
   "source": [
    "import numpy as np\n",
    "import pandas as pd \n",
    "from datetime import datetime"
   ]
  },
  {
   "cell_type": "markdown",
   "metadata": {},
   "source": [
    "Transform to csv files"
   ]
  },
  {
   "cell_type": "code",
   "execution_count": 78,
   "metadata": {},
   "outputs": [],
   "source": [
    "#import pandas as pd \n",
    "#tsv_file=\"/Users/gregorsink/Desktop/PR Projekt/Data/title.akas.tsv\"\n",
    "#csv_table=pd.read_table(tsv_file,sep='\\t')\n",
    "#csv_table.to_csv('/Users/gregorsink/Desktop/PR Projekt/Data/Dataakas.csv',index=False)"
   ]
  },
  {
   "cell_type": "markdown",
   "metadata": {},
   "source": [
    "Preberimo datoteke"
   ]
  },
  {
   "cell_type": "code",
   "execution_count": 44,
   "metadata": {},
   "outputs": [],
   "source": [
    "\n",
    "\n",
    "#movies = pd.read_csv(\"Data/akas.csv\")\n",
    "#ratings = pd.read_csv(\"Data/ratings.csv\")\n",
    "#netflix = pd.read_csv(\"Data/netflix_titles.csv\")\n",
    "netflix1 = pd.read_csv(\"Netflix_all.csv\")\n",
    "#names = pd.read_csv(\"Data/names_basic.csv\")\n",
    ""
   ]
  },
  {
   "cell_type": "code",
   "execution_count": null,
   "metadata": {},
   "outputs": [],
   "source": []
  },
  {
   "cell_type": "code",
   "execution_count": 29,
   "metadata": {},
   "outputs": [],
   "source": [
    "ratings = ratings.rename(columns = {'tconst':'titleId'})\n",
    ""
   ]
  },
  {
   "cell_type": "code",
   "execution_count": 30,
   "metadata": {},
   "outputs": [],
   "source": [
    "originals = movies[movies[\"types\"] == \"original\"]\n",
    "#originals = originals[[\"titleId\", \"title\"]]\n",
    "\n",
    "originals = originals.merge(ratings, on=\"titleId\")\n",
    "#netflix1 = netflix.merge(originals, on=\"title\")"
   ]
  },
  {
   "cell_type": "code",
   "execution_count": 48,
   "metadata": {},
   "outputs": [
    {
     "output_type": "execute_result",
     "data": {
      "text/plain": "array(['TV-PG', 'TV-MA', 'TV-Y7-FV', 'TV-Y7', 'TV-14', 'R', 'TV-Y', 'NR',\n       'PG-13', 'TV-G', 'PG', 'G', nan, 'UR', 'NC-17'], dtype=object)"
     },
     "metadata": {},
     "execution_count": 48
    }
   ],
   "source": [
    "def najdi(table):\n",
    "    if table.empty:\n",
    "        return table\n",
    "    else:\n",
    "        return table.iloc[table[\"numVotes\"].argmax()]\n",
    "\n",
    "def getMovieDirID(MovieName):\n",
    "    for index, row in projekt.iterrows():\n",
    "        if (projekt.loc[index, row[\"title\"]] == MovieName):\n",
    "            return projekt.loc[index, row[\"directors\"]]\n",
    "\n",
    "def getDirector(dirID):\n",
    "    df=director_names_and_stats[[\"nconst\",\"primaryName\"]]\n",
    "    for index, row in df.iterrows():     \n",
    "        if(df.loc[index, row[\"nconst\"]] == dirID):\n",
    "            return df.loc[index,\"primaryName\"]\n",
    "\n",
    "netflix['rating'].unique()"
   ]
  },
  {
   "cell_type": "code",
   "execution_count": 33,
   "metadata": {},
   "outputs": [
    {
     "output_type": "stream",
     "name": "stdout",
     "text": "100\n200\n300\n400\n500\n600\n700\n800\n900\n1000\n1100\n1200\n1300\n1400\n1500\n1600\n1700\n1800\n1900\n2000\n2100\n2200\n2300\n2400\n2500\n2600\n2700\n2800\n2900\n3000\n3100\n3200\n3300\n3400\n3500\n3600\n3700\n3800\n3900\n4000\n4100\n4200\n4300\n4400\n4500\n4600\n4700\n4800\n4900\n5000\n5100\n5200\n5300\n5400\n5500\n5600\n5700\n5800\n5900\n6000\n6100\n6200\n"
    }
   ],
   "source": [
    "i = 0\n",
    "netflix1 = netflix\n",
    "for idx, naslov in enumerate(netflix1[\"title\"]):\n",
    "    i += 1\n",
    "    table = originals[originals[\"title\"] == naslov]\n",
    "    if table.empty:\n",
    "        pass\n",
    "    else:\n",
    "        a = najdi(originals[originals[\"title\"] == naslov])\n",
    "        netflix1.loc[idx, \"averageRating\"] = a[\"averageRating\"]\n",
    "        netflix1.loc[idx, \"numVotes\"] = a[\"numVotes\"]"
   ]
  },
  {
   "cell_type": "code",
   "execution_count": 1,
   "metadata": {},
   "outputs": [],
   "source": [
    "from imdb import IMDb\n",
    "\n",
    "movs = IMDb()"
   ]
  },
  {
   "cell_type": "code",
   "execution_count": 15,
   "metadata": {
    "tags": [
     "outputPrepend"
    ]
   },
   "outputs": [
    {
     "output_type": "stream",
     "name": "stdout",
     "text": "100\n200\n300\n400\n500\n600\n700\n800\n900\n1000\n1100\n1200\n1300\n1400\n1500\n1600\n1700\n1800\n1900\n2000\n2100\n2200\n2300\n2400\n2500\n2600\n2700\n2800\n2900\n3000\n3100\n3200\n3300\n3400\n3500\n3600\n3700\n3800\n3900\n4000\n4100\n4200\n4300\n4400\n4500\n4600\n4700\n4800\n4900\n5000\n5100\n5200\n5300\n5400\n5500\n5600\n5700\n5800\n5900\n6000\n6100\n6200\n"
    }
   ],
   "source": [
    "from imdb import IMDb\n",
    "from imdb import IMDbDataAccessError\n",
    "\n",
    "movs = IMDb()\n",
    "i = 0\n",
    "\n",
    "for idx, naslov in enumerate(netflix1[\"title\"]):\n",
    "    i += 1\n",
    "    if netflix1.loc[idx, \"director\"] == \"0\":\n",
    "        m = movs.search_movie(naslov)\n",
    "        if len(m) > 0:\n",
    "            try:\n",
    "                data = movs.get_movie(m[0].movieID)\n",
    "                netflix1.loc[idx, \"director\"] = data[\"director\"][0]['name']\n",
    "            except KeyError as e:\n",
    "                netflix1.loc[idx, \"director\"] = \"-1\"\n",
    "            except (URLError, IMDbDataAccessErro) as e:\n",
    "                print(data)\n",
    "    if i%100 == 0:\n",
    "        print(i)"
   ]
  },
  {
   "cell_type": "code",
   "execution_count": 46,
   "metadata": {},
   "outputs": [],
   "source": [
    "\n",
    "for index, row in netflix1.iterrows():\n",
    "    if(netflix1.loc[index, \"date_added\"] != \"0\"):\n",
    "        netflix1.loc[index, \"date_added\"] =pd.to_datetime(netflix1.loc[index, \"date_added\"], dayfirst=False, exact=False)"
   ]
  },
  {
   "cell_type": "code",
   "execution_count": null,
   "metadata": {},
   "outputs": [],
   "source": [
    "#netflix1.to_csv(\"/Users/gregorsink/Desktop/PR Projekt/PR19KKZDBMPBPGS/Netflix_all.csv\", index=False)"
   ]
  }
 ]
}