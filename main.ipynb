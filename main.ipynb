{
 "nbformat": 4,
 "nbformat_minor": 2,
 "metadata": {
  "language_info": {
   "name": "python",
   "codemirror_mode": {
    "name": "ipython",
    "version": 3
   },
   "version": "2.7.16-final"
  },
  "orig_nbformat": 2,
  "file_extension": ".py",
  "mimetype": "text/x-python",
  "name": "python",
  "npconvert_exporter": "python",
  "pygments_lexer": "ipython3",
  "version": 3,
  "kernelspec": {
   "name": "python36564bit17b4b45766eb48c6b2460796bb36d8e0",
   "display_name": "Python 3.6.5 64-bit"
  }
 },
 "cells": [
  {
   "cell_type": "code",
   "execution_count": 4,
   "metadata": {},
   "outputs": [],
   "source": [
    "import numpy as np\n",
    "import pandas as pd "
   ]
  },
  {
   "cell_type": "markdown",
   "metadata": {},
   "source": [
    "Transform to csv files"
   ]
  },
  {
   "cell_type": "code",
   "execution_count": 78,
   "metadata": {},
   "outputs": [],
   "source": [
    "import pandas as pd \n",
    "tsv_file=\"/Users/gregorsink/Desktop/PR Projekt/Data/title.akas.tsv\"\n",
    "csv_table=pd.read_table(tsv_file,sep='\\t')\n",
    "csv_table.to_csv('/Users/gregorsink/Desktop/PR Projekt/Data/Dataakas.csv',index=False)"
   ]
  },
  {
   "cell_type": "markdown",
   "metadata": {},
   "source": [
    "Preberimo datoteke"
   ]
  },
  {
   "cell_type": "code",
   "execution_count": 23,
   "metadata": {},
   "outputs": [],
   "source": [
    "import pandas as pd\n",
    "from datetime import datetime\n",
    "movies = pd.read_csv(\"/Users/gregorsink/Desktop/PR Projekt/Data/Dataakas.csv\")\n",
    "ratings = pd.read_csv(\"/Users/gregorsink/Desktop/PR Projekt/Data/Dataratings.csv\")\n",
    "netflix = pd.read_csv(\"/Users/gregorsink/Desktop/PR Projekt/Data/netflix_titles.csv\")\n",
    "#crew = pd.read_csv(\"/Users/gregorsink/Desktop/PR Projekt/Data/Datacrew.csv\")\n",
    "#names = pd.read_csv(\"/Users/gregorsink/Desktop/PR Projekt/Data/Datanames.csv\")\n",
    ""
   ]
  },
  {
   "cell_type": "code",
   "execution_count": 29,
   "metadata": {},
   "outputs": [],
   "source": [
    "ratings = ratings.rename(columns = {'tconst':'titleId'})\n",
    ""
   ]
  },
  {
   "cell_type": "code",
   "execution_count": 30,
   "metadata": {},
   "outputs": [],
   "source": [
    "originals = movies[movies[\"types\"] == \"original\"]\n",
    "#originals = originals[[\"titleId\", \"title\"]]\n",
    "\n",
    "originals = originals.merge(ratings, on=\"titleId\")\n",
    "#netflix1 = netflix.merge(originals, on=\"title\")"
   ]
  },
  {
   "cell_type": "code",
   "execution_count": 32,
   "metadata": {},
   "outputs": [],
   "source": [
    "def najdi(table):\n",
    "    if table.empty:\n",
    "        return table\n",
    "    else:\n",
    "        return table.iloc[table[\"numVotes\"].argmax()]"
   ]
  },
  {
   "cell_type": "code",
   "execution_count": 33,
   "metadata": {},
   "outputs": [
    {
     "output_type": "stream",
     "name": "stdout",
     "text": "100\n200\n300\n400\n500\n600\n700\n800\n900\n1000\n1100\n1200\n1300\n1400\n1500\n1600\n1700\n1800\n1900\n2000\n2100\n2200\n2300\n2400\n2500\n2600\n2700\n2800\n2900\n3000\n3100\n3200\n3300\n3400\n3500\n3600\n3700\n3800\n3900\n4000\n4100\n4200\n4300\n4400\n4500\n4600\n4700\n4800\n4900\n5000\n5100\n5200\n5300\n5400\n5500\n5600\n5700\n5800\n5900\n6000\n6100\n6200\n"
    }
   ],
   "source": [
    "i = 0\n",
    "netflix1 = netflix\n",
    "for idx, naslov in enumerate(netflix1[\"title\"]):\n",
    "    i += 1\n",
    "    table = originals[originals[\"title\"] == naslov]\n",
    "    if table.empty:\n",
    "        pass\n",
    "    else:\n",
    "        a = najdi(originals[originals[\"title\"] == naslov])\n",
    "        netflix1.loc[idx, \"averageRating\"] = a[\"averageRating\"]\n",
    "        netflix1.loc[idx, \"numVotes\"] = a[\"numVotes\"]\n",
    "\n",
    "    if i%100 == 0:\n",
    "        print(i)"
   ]
  },
  {
   "cell_type": "code",
   "execution_count": 38,
   "metadata": {},
   "outputs": [
    {
     "output_type": "execute_result",
     "data": {
      "text/plain": "       show_id     type                                        title  \\\n0     81145628    Movie      Norm of the North: King Sized Adventure   \n1     80117401    Movie                   Jandino: Whatever it Takes   \n2     70234439  TV Show                           Transformers Prime   \n3     80058654  TV Show             Transformers: Robots in Disguise   \n4     80125979    Movie                                 #realityhigh   \n...        ...      ...                                          ...   \n6229  80000063  TV Show                                 Red vs. Blue   \n6230  70286564  TV Show                                        Maron   \n6231  80116008    Movie       Little Baby Bum: Nursery Rhyme Friends   \n6232  70281022  TV Show  A Young Doctor's Notebook and Other Stories   \n6233  70153404  TV Show                                      Friends   \n\n                      director  \\\n0     Richard Finn, Tim Maltby   \n1                            0   \n2                            0   \n3                            0   \n4             Fernando Lebrija   \n...                        ...   \n6229                         0   \n6230                         0   \n6231                         0   \n6232                         0   \n6233                         0   \n\n                                                   cast  \\\n0     Alan Marriott, Andrew Toth, Brian Dobson, Cole...   \n1                                      Jandino Asporaat   \n2     Peter Cullen, Sumalee Montano, Frank Welker, J...   \n3     Will Friedle, Darren Criss, Constance Zimmer, ...   \n4     Nesta Cooper, Kate Walsh, John Michael Higgins...   \n...                                                 ...   \n6229  Burnie Burns, Jason Saldaña, Gustavo Sorola, G...   \n6230  Marc Maron, Judd Hirsch, Josh Brener, Nora Zeh...   \n6231                                                  0   \n6232  Daniel Radcliffe, Jon Hamm, Adam Godley, Chris...   \n6233  Jennifer Aniston, Courteney Cox, Lisa Kudrow, ...   \n\n                                       country         date_added  \\\n0     United States, India, South Korea, China  September 9, 2019   \n1                               United Kingdom  September 9, 2016   \n2                                United States  September 8, 2018   \n3                                United States  September 8, 2018   \n4                                United States  September 8, 2017   \n...                                        ...                ...   \n6229                             United States                  0   \n6230                             United States                  0   \n6231                                         0                  0   \n6232                            United Kingdom                  0   \n6233                             United States                  0   \n\n      release_year    rating    duration  \\\n0             2019     TV-PG      90 min   \n1             2016     TV-MA      94 min   \n2             2013  TV-Y7-FV    1 Season   \n3             2016     TV-Y7    1 Season   \n4             2017     TV-14      99 min   \n...            ...       ...         ...   \n6229          2015        NR  13 Seasons   \n6230          2016     TV-MA   4 Seasons   \n6231          2016         0      60 min   \n6232          2013     TV-MA   2 Seasons   \n6233          2003     TV-14  10 Seasons   \n\n                                              listed_in  \\\n0                    Children & Family Movies, Comedies   \n1                                       Stand-Up Comedy   \n2                                              Kids' TV   \n3                                              Kids' TV   \n4                                              Comedies   \n...                                                 ...   \n6229  TV Action & Adventure, TV Comedies, TV Sci-Fi ...   \n6230                                        TV Comedies   \n6231                                             Movies   \n6232           British TV Shows, TV Comedies, TV Dramas   \n6233                     Classic & Cult TV, TV Comedies   \n\n                                            description  averageRating  \\\n0     Before planning an awesome wedding for his gra...            3.1   \n1     Jandino Asporaat riffs on the challenges of ra...            5.2   \n2     With the help of three human allies, the Autob...            7.8   \n3     When a prison ship crash unleashes hundreds of...            6.0   \n4     When nerdy high schooler Dani finally attracts...            0.0   \n...                                                 ...            ...   \n6229  This parody of first-person shooter games, mil...            8.3   \n6230  Marc Maron stars as Marc Maron, who interviews...            7.7   \n6231  Nursery rhymes and original music for children...            0.0   \n6232  Set during the Russian Revolution, this comic ...            0.0   \n6233  This hit sitcom follows the merry misadventure...            8.9   \n\n      numVotes  \n0        249.0  \n1         18.0  \n2       4968.0  \n3        774.0  \n4          0.0  \n...        ...  \n6229    8711.0  \n6230    4423.0  \n6231       0.0  \n6232       0.0  \n6233  745757.0  \n\n[6234 rows x 14 columns]",
      "text/html": "<div>\n<style scoped>\n    .dataframe tbody tr th:only-of-type {\n        vertical-align: middle;\n    }\n\n    .dataframe tbody tr th {\n        vertical-align: top;\n    }\n\n    .dataframe thead th {\n        text-align: right;\n    }\n</style>\n<table border=\"1\" class=\"dataframe\">\n  <thead>\n    <tr style=\"text-align: right;\">\n      <th></th>\n      <th>show_id</th>\n      <th>type</th>\n      <th>title</th>\n      <th>director</th>\n      <th>cast</th>\n      <th>country</th>\n      <th>date_added</th>\n      <th>release_year</th>\n      <th>rating</th>\n      <th>duration</th>\n      <th>listed_in</th>\n      <th>description</th>\n      <th>averageRating</th>\n      <th>numVotes</th>\n    </tr>\n  </thead>\n  <tbody>\n    <tr>\n      <th>0</th>\n      <td>81145628</td>\n      <td>Movie</td>\n      <td>Norm of the North: King Sized Adventure</td>\n      <td>Richard Finn, Tim Maltby</td>\n      <td>Alan Marriott, Andrew Toth, Brian Dobson, Cole...</td>\n      <td>United States, India, South Korea, China</td>\n      <td>September 9, 2019</td>\n      <td>2019</td>\n      <td>TV-PG</td>\n      <td>90 min</td>\n      <td>Children &amp; Family Movies, Comedies</td>\n      <td>Before planning an awesome wedding for his gra...</td>\n      <td>3.1</td>\n      <td>249.0</td>\n    </tr>\n    <tr>\n      <th>1</th>\n      <td>80117401</td>\n      <td>Movie</td>\n      <td>Jandino: Whatever it Takes</td>\n      <td>0</td>\n      <td>Jandino Asporaat</td>\n      <td>United Kingdom</td>\n      <td>September 9, 2016</td>\n      <td>2016</td>\n      <td>TV-MA</td>\n      <td>94 min</td>\n      <td>Stand-Up Comedy</td>\n      <td>Jandino Asporaat riffs on the challenges of ra...</td>\n      <td>5.2</td>\n      <td>18.0</td>\n    </tr>\n    <tr>\n      <th>2</th>\n      <td>70234439</td>\n      <td>TV Show</td>\n      <td>Transformers Prime</td>\n      <td>0</td>\n      <td>Peter Cullen, Sumalee Montano, Frank Welker, J...</td>\n      <td>United States</td>\n      <td>September 8, 2018</td>\n      <td>2013</td>\n      <td>TV-Y7-FV</td>\n      <td>1 Season</td>\n      <td>Kids' TV</td>\n      <td>With the help of three human allies, the Autob...</td>\n      <td>7.8</td>\n      <td>4968.0</td>\n    </tr>\n    <tr>\n      <th>3</th>\n      <td>80058654</td>\n      <td>TV Show</td>\n      <td>Transformers: Robots in Disguise</td>\n      <td>0</td>\n      <td>Will Friedle, Darren Criss, Constance Zimmer, ...</td>\n      <td>United States</td>\n      <td>September 8, 2018</td>\n      <td>2016</td>\n      <td>TV-Y7</td>\n      <td>1 Season</td>\n      <td>Kids' TV</td>\n      <td>When a prison ship crash unleashes hundreds of...</td>\n      <td>6.0</td>\n      <td>774.0</td>\n    </tr>\n    <tr>\n      <th>4</th>\n      <td>80125979</td>\n      <td>Movie</td>\n      <td>#realityhigh</td>\n      <td>Fernando Lebrija</td>\n      <td>Nesta Cooper, Kate Walsh, John Michael Higgins...</td>\n      <td>United States</td>\n      <td>September 8, 2017</td>\n      <td>2017</td>\n      <td>TV-14</td>\n      <td>99 min</td>\n      <td>Comedies</td>\n      <td>When nerdy high schooler Dani finally attracts...</td>\n      <td>0.0</td>\n      <td>0.0</td>\n    </tr>\n    <tr>\n      <th>...</th>\n      <td>...</td>\n      <td>...</td>\n      <td>...</td>\n      <td>...</td>\n      <td>...</td>\n      <td>...</td>\n      <td>...</td>\n      <td>...</td>\n      <td>...</td>\n      <td>...</td>\n      <td>...</td>\n      <td>...</td>\n      <td>...</td>\n      <td>...</td>\n    </tr>\n    <tr>\n      <th>6229</th>\n      <td>80000063</td>\n      <td>TV Show</td>\n      <td>Red vs. Blue</td>\n      <td>0</td>\n      <td>Burnie Burns, Jason Saldaña, Gustavo Sorola, G...</td>\n      <td>United States</td>\n      <td>0</td>\n      <td>2015</td>\n      <td>NR</td>\n      <td>13 Seasons</td>\n      <td>TV Action &amp; Adventure, TV Comedies, TV Sci-Fi ...</td>\n      <td>This parody of first-person shooter games, mil...</td>\n      <td>8.3</td>\n      <td>8711.0</td>\n    </tr>\n    <tr>\n      <th>6230</th>\n      <td>70286564</td>\n      <td>TV Show</td>\n      <td>Maron</td>\n      <td>0</td>\n      <td>Marc Maron, Judd Hirsch, Josh Brener, Nora Zeh...</td>\n      <td>United States</td>\n      <td>0</td>\n      <td>2016</td>\n      <td>TV-MA</td>\n      <td>4 Seasons</td>\n      <td>TV Comedies</td>\n      <td>Marc Maron stars as Marc Maron, who interviews...</td>\n      <td>7.7</td>\n      <td>4423.0</td>\n    </tr>\n    <tr>\n      <th>6231</th>\n      <td>80116008</td>\n      <td>Movie</td>\n      <td>Little Baby Bum: Nursery Rhyme Friends</td>\n      <td>0</td>\n      <td>0</td>\n      <td>0</td>\n      <td>0</td>\n      <td>2016</td>\n      <td>0</td>\n      <td>60 min</td>\n      <td>Movies</td>\n      <td>Nursery rhymes and original music for children...</td>\n      <td>0.0</td>\n      <td>0.0</td>\n    </tr>\n    <tr>\n      <th>6232</th>\n      <td>70281022</td>\n      <td>TV Show</td>\n      <td>A Young Doctor's Notebook and Other Stories</td>\n      <td>0</td>\n      <td>Daniel Radcliffe, Jon Hamm, Adam Godley, Chris...</td>\n      <td>United Kingdom</td>\n      <td>0</td>\n      <td>2013</td>\n      <td>TV-MA</td>\n      <td>2 Seasons</td>\n      <td>British TV Shows, TV Comedies, TV Dramas</td>\n      <td>Set during the Russian Revolution, this comic ...</td>\n      <td>0.0</td>\n      <td>0.0</td>\n    </tr>\n    <tr>\n      <th>6233</th>\n      <td>70153404</td>\n      <td>TV Show</td>\n      <td>Friends</td>\n      <td>0</td>\n      <td>Jennifer Aniston, Courteney Cox, Lisa Kudrow, ...</td>\n      <td>United States</td>\n      <td>0</td>\n      <td>2003</td>\n      <td>TV-14</td>\n      <td>10 Seasons</td>\n      <td>Classic &amp; Cult TV, TV Comedies</td>\n      <td>This hit sitcom follows the merry misadventure...</td>\n      <td>8.9</td>\n      <td>745757.0</td>\n    </tr>\n  </tbody>\n</table>\n<p>6234 rows × 14 columns</p>\n</div>"
     },
     "metadata": {},
     "execution_count": 38
    }
   ],
   "source": [
    "netflix1"
   ]
  },
  {
   "cell_type": "code",
   "execution_count": 49,
   "metadata": {},
   "outputs": [
    {
     "output_type": "error",
     "ename": "KeyError",
     "evalue": "'rating'",
     "traceback": [
      "\u001b[0;31m---------------------------------------------------------------------------\u001b[0m",
      "\u001b[0;31mKeyError\u001b[0m                                  Traceback (most recent call last)",
      "\u001b[0;32m<ipython-input-49-a93dfb37385a>\u001b[0m in \u001b[0;36m<module>\u001b[0;34m\u001b[0m\n\u001b[1;32m      4\u001b[0m \u001b[0;34m\u001b[0m\u001b[0m\n\u001b[1;32m      5\u001b[0m \u001b[0mmovie\u001b[0m \u001b[0;34m=\u001b[0m \u001b[0mmovs\u001b[0m\u001b[0;34m.\u001b[0m\u001b[0mget_movie\u001b[0m\u001b[0;34m(\u001b[0m\u001b[0;34m\"8672310\"\u001b[0m\u001b[0;34m)\u001b[0m\u001b[0;34m\u001b[0m\u001b[0m\n\u001b[0;32m----> 6\u001b[0;31m \u001b[0mmovie\u001b[0m\u001b[0;34m[\u001b[0m\u001b[0;34m'rating'\u001b[0m\u001b[0;34m]\u001b[0m\u001b[0;34m\u001b[0m\u001b[0m\n\u001b[0m",
      "\u001b[0;32m/Library/Frameworks/Python.framework/Versions/3.6/lib/python3.6/site-packages/imdb/utils.py\u001b[0m in \u001b[0;36m__getitem__\u001b[0;34m(self, key)\u001b[0m\n\u001b[1;32m   1502\u001b[0m         \u001b[0;31m# Handle key aliases.\u001b[0m\u001b[0;34m\u001b[0m\u001b[0;34m\u001b[0m\u001b[0m\n\u001b[1;32m   1503\u001b[0m         \u001b[0mkey\u001b[0m \u001b[0;34m=\u001b[0m \u001b[0mself\u001b[0m\u001b[0;34m.\u001b[0m\u001b[0mkeys_alias\u001b[0m\u001b[0;34m.\u001b[0m\u001b[0mget\u001b[0m\u001b[0;34m(\u001b[0m\u001b[0mkey\u001b[0m\u001b[0;34m,\u001b[0m \u001b[0mkey\u001b[0m\u001b[0;34m)\u001b[0m\u001b[0;34m\u001b[0m\u001b[0m\n\u001b[0;32m-> 1504\u001b[0;31m         \u001b[0mrawData\u001b[0m \u001b[0;34m=\u001b[0m \u001b[0mself\u001b[0m\u001b[0;34m.\u001b[0m\u001b[0mdata\u001b[0m\u001b[0;34m[\u001b[0m\u001b[0mkey\u001b[0m\u001b[0;34m]\u001b[0m\u001b[0;34m\u001b[0m\u001b[0m\n\u001b[0m\u001b[1;32m   1505\u001b[0m         \u001b[0;32mif\u001b[0m \u001b[0mkey\u001b[0m \u001b[0;32min\u001b[0m \u001b[0mself\u001b[0m\u001b[0;34m.\u001b[0m\u001b[0mkeys_tomodify\u001b[0m \u001b[0;32mand\u001b[0m\u001b[0;31m \u001b[0m\u001b[0;31m\\\u001b[0m\u001b[0;34m\u001b[0m\u001b[0m\n\u001b[1;32m   1506\u001b[0m                 \u001b[0mself\u001b[0m\u001b[0;34m.\u001b[0m\u001b[0mmodFunct\u001b[0m \u001b[0;32mnot\u001b[0m \u001b[0;32min\u001b[0m \u001b[0;34m(\u001b[0m\u001b[0;32mNone\u001b[0m\u001b[0;34m,\u001b[0m \u001b[0mmodNull\u001b[0m\u001b[0;34m)\u001b[0m\u001b[0;34m:\u001b[0m\u001b[0;34m\u001b[0m\u001b[0m\n",
      "\u001b[0;31mKeyError\u001b[0m: 'rating'"
     ]
    }
   ],
   "source": [
    "from imdb import IMDb\n",
    "\n",
    "movs = IMDb()\n",
    "\n",
    "movie = movs.get_movie(\"8672310\")\n",
    "movie['rating']"
   ]
  },
  {
   "cell_type": "code",
   "execution_count": 5,
   "metadata": {},
   "outputs": [],
   "source": [
    "netflix1 = pd.read_csv(\"/Users/gregorsink/Desktop/PR Projekt/PR19KKZDBMPBPGS/Netflix_all.csv\")"
   ]
  },
  {
   "cell_type": "code",
   "execution_count": 15,
   "metadata": {
    "tags": [
     "outputPrepend"
    ]
   },
   "outputs": [
    {
     "output_type": "stream",
     "name": "stdout",
     "text": "100\n200\n300\n400\n500\n600\n700\n800\n900\n1000\n1100\n1200\n1300\n1400\n1500\n1600\n1700\n1800\n1900\n2000\n2100\n2200\n2300\n2400\n2500\n2600\n2700\n2800\n2900\n3000\n3100\n3200\n3300\n3400\n3500\n3600\n3700\n3800\n3900\n4000\n4100\n4200\n4300\n4400\n4500\n4600\n4700\n4800\n4900\n5000\n5100\n5200\n5300\n5400\n5500\n5600\n5700\n5800\n5900\n6000\n6100\n6200\n"
    }
   ],
   "source": [
    "from imdb import IMDb\n",
    "from imdb import IMDbDataAccessError\n",
    "\n",
    "movs = IMDb()\n",
    "i = 0\n",
    "\n",
    "for idx, naslov in enumerate(netflix1[\"title\"]):\n",
    "    i += 1\n",
    "    if netflix1.loc[idx, \"director\"] == \"0\":\n",
    "        m = movs.search_movie(naslov)\n",
    "        if len(m) > 0:\n",
    "            try:\n",
    "                data = movs.get_movie(m[0].movieID)\n",
    "                netflix1.loc[idx, \"director\"] = data[\"director\"][0]['name']\n",
    "            except KeyError as e:\n",
    "                netflix1.loc[idx, \"director\"] = \"-1\"\n",
    "            except (URLError, IMDbDataAccessErro) as e:\n",
    "                print(data)\n",
    "    if i%100 == 0:\n",
    "        print(i)"
   ]
  },
  {
   "cell_type": "code",
   "execution_count": 23,
   "metadata": {},
   "outputs": [],
   "source": [
    "netflix1.to_csv(\"/Users/gregorsink/Desktop/PR Projekt/PR19KKZDBMPBPGS/Netflix_all.csv\", index=False)"
   ]
  },
  {
   "cell_type": "code",
   "execution_count": 22,
   "metadata": {},
   "outputs": [
    {
     "output_type": "execute_result",
     "data": {
      "text/plain": "       show_id     type                                        title  \\\n0     81145628    Movie      Norm of the North: King Sized Adventure   \n1     80117401    Movie                   Jandino: Whatever it Takes   \n2     70234439  TV Show                           Transformers Prime   \n3     80058654  TV Show             Transformers: Robots in Disguise   \n4     80125979    Movie                                 #realityhigh   \n...        ...      ...                                          ...   \n6229  80000063  TV Show                                 Red vs. Blue   \n6230  70286564  TV Show                                        Maron   \n6231  80116008    Movie       Little Baby Bum: Nursery Rhyme Friends   \n6232  70281022  TV Show  A Young Doctor's Notebook and Other Stories   \n6233  70153404  TV Show                                      Friends   \n\n                      director  \\\n0     Richard Finn, Tim Maltby   \n1                           -1   \n2                           -1   \n3                           -1   \n4             Fernando Lebrija   \n...                        ...   \n6229                        -1   \n6230                        -1   \n6231                        -1   \n6232                        -1   \n6233                        -1   \n\n                                                   cast  \\\n0     Alan Marriott, Andrew Toth, Brian Dobson, Cole...   \n1                                      Jandino Asporaat   \n2     Peter Cullen, Sumalee Montano, Frank Welker, J...   \n3     Will Friedle, Darren Criss, Constance Zimmer, ...   \n4     Nesta Cooper, Kate Walsh, John Michael Higgins...   \n...                                                 ...   \n6229  Burnie Burns, Jason Saldaña, Gustavo Sorola, G...   \n6230  Marc Maron, Judd Hirsch, Josh Brener, Nora Zeh...   \n6231                                                  0   \n6232  Daniel Radcliffe, Jon Hamm, Adam Godley, Chris...   \n6233  Jennifer Aniston, Courteney Cox, Lisa Kudrow, ...   \n\n                                       country         date_added  \\\n0     United States, India, South Korea, China  September 9, 2019   \n1                               United Kingdom  September 9, 2016   \n2                                United States  September 8, 2018   \n3                                United States  September 8, 2018   \n4                                United States  September 8, 2017   \n...                                        ...                ...   \n6229                             United States                  0   \n6230                             United States                  0   \n6231                                         0                  0   \n6232                            United Kingdom                  0   \n6233                             United States                  0   \n\n      release_year    rating    duration  \\\n0             2019     TV-PG      90 min   \n1             2016     TV-MA      94 min   \n2             2013  TV-Y7-FV    1 Season   \n3             2016     TV-Y7    1 Season   \n4             2017     TV-14      99 min   \n...            ...       ...         ...   \n6229          2015        NR  13 Seasons   \n6230          2016     TV-MA   4 Seasons   \n6231          2016         0      60 min   \n6232          2013     TV-MA   2 Seasons   \n6233          2003     TV-14  10 Seasons   \n\n                                              listed_in  \\\n0                    Children & Family Movies, Comedies   \n1                                       Stand-Up Comedy   \n2                                              Kids' TV   \n3                                              Kids' TV   \n4                                              Comedies   \n...                                                 ...   \n6229  TV Action & Adventure, TV Comedies, TV Sci-Fi ...   \n6230                                        TV Comedies   \n6231                                             Movies   \n6232           British TV Shows, TV Comedies, TV Dramas   \n6233                     Classic & Cult TV, TV Comedies   \n\n                                            description  averageRating  \\\n0     Before planning an awesome wedding for his gra...            3.1   \n1     Jandino Asporaat riffs on the challenges of ra...            5.2   \n2     With the help of three human allies, the Autob...            7.8   \n3     When a prison ship crash unleashes hundreds of...            6.0   \n4     When nerdy high schooler Dani finally attracts...            5.2   \n...                                                 ...            ...   \n6229  This parody of first-person shooter games, mil...            8.3   \n6230  Marc Maron stars as Marc Maron, who interviews...            7.7   \n6231  Nursery rhymes and original music for children...            5.0   \n6232  Set during the Russian Revolution, this comic ...            7.9   \n6233  This hit sitcom follows the merry misadventure...            8.9   \n\n      numVotes  \n0        249.0  \n1         18.0  \n2       4968.0  \n3        774.0  \n4       4980.0  \n...        ...  \n6229    8711.0  \n6230    4423.0  \n6231       6.0  \n6232   13839.0  \n6233  745757.0  \n\n[6234 rows x 14 columns]",
      "text/html": "<div>\n<style scoped>\n    .dataframe tbody tr th:only-of-type {\n        vertical-align: middle;\n    }\n\n    .dataframe tbody tr th {\n        vertical-align: top;\n    }\n\n    .dataframe thead th {\n        text-align: right;\n    }\n</style>\n<table border=\"1\" class=\"dataframe\">\n  <thead>\n    <tr style=\"text-align: right;\">\n      <th></th>\n      <th>show_id</th>\n      <th>type</th>\n      <th>title</th>\n      <th>director</th>\n      <th>cast</th>\n      <th>country</th>\n      <th>date_added</th>\n      <th>release_year</th>\n      <th>rating</th>\n      <th>duration</th>\n      <th>listed_in</th>\n      <th>description</th>\n      <th>averageRating</th>\n      <th>numVotes</th>\n    </tr>\n  </thead>\n  <tbody>\n    <tr>\n      <th>0</th>\n      <td>81145628</td>\n      <td>Movie</td>\n      <td>Norm of the North: King Sized Adventure</td>\n      <td>Richard Finn, Tim Maltby</td>\n      <td>Alan Marriott, Andrew Toth, Brian Dobson, Cole...</td>\n      <td>United States, India, South Korea, China</td>\n      <td>September 9, 2019</td>\n      <td>2019</td>\n      <td>TV-PG</td>\n      <td>90 min</td>\n      <td>Children &amp; Family Movies, Comedies</td>\n      <td>Before planning an awesome wedding for his gra...</td>\n      <td>3.1</td>\n      <td>249.0</td>\n    </tr>\n    <tr>\n      <th>1</th>\n      <td>80117401</td>\n      <td>Movie</td>\n      <td>Jandino: Whatever it Takes</td>\n      <td>-1</td>\n      <td>Jandino Asporaat</td>\n      <td>United Kingdom</td>\n      <td>September 9, 2016</td>\n      <td>2016</td>\n      <td>TV-MA</td>\n      <td>94 min</td>\n      <td>Stand-Up Comedy</td>\n      <td>Jandino Asporaat riffs on the challenges of ra...</td>\n      <td>5.2</td>\n      <td>18.0</td>\n    </tr>\n    <tr>\n      <th>2</th>\n      <td>70234439</td>\n      <td>TV Show</td>\n      <td>Transformers Prime</td>\n      <td>-1</td>\n      <td>Peter Cullen, Sumalee Montano, Frank Welker, J...</td>\n      <td>United States</td>\n      <td>September 8, 2018</td>\n      <td>2013</td>\n      <td>TV-Y7-FV</td>\n      <td>1 Season</td>\n      <td>Kids' TV</td>\n      <td>With the help of three human allies, the Autob...</td>\n      <td>7.8</td>\n      <td>4968.0</td>\n    </tr>\n    <tr>\n      <th>3</th>\n      <td>80058654</td>\n      <td>TV Show</td>\n      <td>Transformers: Robots in Disguise</td>\n      <td>-1</td>\n      <td>Will Friedle, Darren Criss, Constance Zimmer, ...</td>\n      <td>United States</td>\n      <td>September 8, 2018</td>\n      <td>2016</td>\n      <td>TV-Y7</td>\n      <td>1 Season</td>\n      <td>Kids' TV</td>\n      <td>When a prison ship crash unleashes hundreds of...</td>\n      <td>6.0</td>\n      <td>774.0</td>\n    </tr>\n    <tr>\n      <th>4</th>\n      <td>80125979</td>\n      <td>Movie</td>\n      <td>#realityhigh</td>\n      <td>Fernando Lebrija</td>\n      <td>Nesta Cooper, Kate Walsh, John Michael Higgins...</td>\n      <td>United States</td>\n      <td>September 8, 2017</td>\n      <td>2017</td>\n      <td>TV-14</td>\n      <td>99 min</td>\n      <td>Comedies</td>\n      <td>When nerdy high schooler Dani finally attracts...</td>\n      <td>5.2</td>\n      <td>4980.0</td>\n    </tr>\n    <tr>\n      <th>...</th>\n      <td>...</td>\n      <td>...</td>\n      <td>...</td>\n      <td>...</td>\n      <td>...</td>\n      <td>...</td>\n      <td>...</td>\n      <td>...</td>\n      <td>...</td>\n      <td>...</td>\n      <td>...</td>\n      <td>...</td>\n      <td>...</td>\n      <td>...</td>\n    </tr>\n    <tr>\n      <th>6229</th>\n      <td>80000063</td>\n      <td>TV Show</td>\n      <td>Red vs. Blue</td>\n      <td>-1</td>\n      <td>Burnie Burns, Jason Saldaña, Gustavo Sorola, G...</td>\n      <td>United States</td>\n      <td>0</td>\n      <td>2015</td>\n      <td>NR</td>\n      <td>13 Seasons</td>\n      <td>TV Action &amp; Adventure, TV Comedies, TV Sci-Fi ...</td>\n      <td>This parody of first-person shooter games, mil...</td>\n      <td>8.3</td>\n      <td>8711.0</td>\n    </tr>\n    <tr>\n      <th>6230</th>\n      <td>70286564</td>\n      <td>TV Show</td>\n      <td>Maron</td>\n      <td>-1</td>\n      <td>Marc Maron, Judd Hirsch, Josh Brener, Nora Zeh...</td>\n      <td>United States</td>\n      <td>0</td>\n      <td>2016</td>\n      <td>TV-MA</td>\n      <td>4 Seasons</td>\n      <td>TV Comedies</td>\n      <td>Marc Maron stars as Marc Maron, who interviews...</td>\n      <td>7.7</td>\n      <td>4423.0</td>\n    </tr>\n    <tr>\n      <th>6231</th>\n      <td>80116008</td>\n      <td>Movie</td>\n      <td>Little Baby Bum: Nursery Rhyme Friends</td>\n      <td>-1</td>\n      <td>0</td>\n      <td>0</td>\n      <td>0</td>\n      <td>2016</td>\n      <td>0</td>\n      <td>60 min</td>\n      <td>Movies</td>\n      <td>Nursery rhymes and original music for children...</td>\n      <td>5.0</td>\n      <td>6.0</td>\n    </tr>\n    <tr>\n      <th>6232</th>\n      <td>70281022</td>\n      <td>TV Show</td>\n      <td>A Young Doctor's Notebook and Other Stories</td>\n      <td>-1</td>\n      <td>Daniel Radcliffe, Jon Hamm, Adam Godley, Chris...</td>\n      <td>United Kingdom</td>\n      <td>0</td>\n      <td>2013</td>\n      <td>TV-MA</td>\n      <td>2 Seasons</td>\n      <td>British TV Shows, TV Comedies, TV Dramas</td>\n      <td>Set during the Russian Revolution, this comic ...</td>\n      <td>7.9</td>\n      <td>13839.0</td>\n    </tr>\n    <tr>\n      <th>6233</th>\n      <td>70153404</td>\n      <td>TV Show</td>\n      <td>Friends</td>\n      <td>-1</td>\n      <td>Jennifer Aniston, Courteney Cox, Lisa Kudrow, ...</td>\n      <td>United States</td>\n      <td>0</td>\n      <td>2003</td>\n      <td>TV-14</td>\n      <td>10 Seasons</td>\n      <td>Classic &amp; Cult TV, TV Comedies</td>\n      <td>This hit sitcom follows the merry misadventure...</td>\n      <td>8.9</td>\n      <td>745757.0</td>\n    </tr>\n  </tbody>\n</table>\n<p>6234 rows × 14 columns</p>\n</div>"
     },
     "metadata": {},
     "execution_count": 22
    }
   ],
   "source": [
    "netflix1"
   ]
  },
  {
   "cell_type": "code",
   "execution_count": null,
   "metadata": {},
   "outputs": [],
   "source": []
  }
 ]
}