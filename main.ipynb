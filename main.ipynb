{
 "nbformat": 4,
 "nbformat_minor": 2,
 "metadata": {
  "language_info": {
   "name": "python",
   "codemirror_mode": {
    "name": "ipython",
    "version": 3
   },
   "version": "3.7.6-final"
  },
  "orig_nbformat": 2,
  "file_extension": ".py",
  "mimetype": "text/x-python",
  "name": "python",
  "npconvert_exporter": "python",
  "pygments_lexer": "ipython3",
  "version": 3,
  "kernelspec": {
   "name": "python37664bit6692b6271fd544f8b15eca3f177d9dda",
   "display_name": "Python 3.7.6 64-bit"
  }
 },
 "cells": [
  {
   "cell_type": "code",
   "execution_count": 37,
   "metadata": {},
   "outputs": [],
   "source": [
    "import numpy as np"
   ]
  },
  {
   "cell_type": "markdown",
   "metadata": {},
   "source": [
    "Transform to csv files"
   ]
  },
  {
   "cell_type": "code",
   "execution_count": 10,
   "metadata": {},
   "outputs": [],
   "source": [
    "import pandas as pd \n",
    "tsv_file=\"D:\\Sola\\PR\\PR19KKZDBMPBPGS\\Data\\data.tsv\"\n",
    "csv_table=pd.read_table(tsv_file,sep='\\t')\n",
    "csv_table.to_csv('D:\\Sola\\PR\\PR19KKZDBMPBPGS\\Data\\Dataaskas.csv',index=False)"
   ]
  },
  {
   "cell_type": "markdown",
   "metadata": {},
   "source": [
    "Preberimo datoteke"
   ]
  },
  {
   "cell_type": "code",
   "execution_count": 14,
   "metadata": {},
   "outputs": [],
   "source": [
    "import pandas as pd\n",
    "from datetime import datetime\n",
    "movies=pd.read_csv(\"D:\\Sola\\PR\\PR19KKZDBMPBPGS\\Data\\Dataaskas.csv\")\n",
    ""
   ]
  },
  {
   "cell_type": "markdown",
   "metadata": {},
   "source": [
    "Izberemo samo tiste ki imajo region US."
   ]
  },
  {
   "cell_type": "code",
   "execution_count": 15,
   "metadata": {},
   "outputs": [
    {
     "output_type": "execute_result",
     "data": {
      "text/plain": "            titleId  ordering                     title region language  \\\n4         tt0000001         5                Carmencita     US       \\N   \n13        tt0000002         7    The Clown and His Dogs     US       \\N   \n32        tt0000005         1       Blacksmithing Scene     US       \\N   \n35        tt0000005         4       Blacksmith Scene #1     US       \\N   \n36        tt0000005         5             Blacksmithing     US       \\N   \n...             ...       ...                       ...    ...      ...   \n21105362  tt9916720        10           The Demonic Nun     US       \\N   \n21105364  tt9916720        12                 The Nun 2     US       \\N   \n21105378  tt9916734         1              Manca: Peleo     US       \\N   \n21105380  tt9916756         1  Pretty Pretty Black Girl     US       \\N   \n21105395  tt9916764         1                        38     US       \\N   \n\n                types                  attributes isOriginalTitle  \n4                  \\N                          \\N               0  \n13                 \\N       literal English title               0  \n32        alternative                          \\N               0  \n35        alternative                          \\N               0  \n36                 \\N  informal alternative title               0  \n...               ...                         ...             ...  \n21105362           tv                          \\N               0  \n21105364  imdbDisplay                          \\N               0  \n21105378           \\N                          \\N               0  \n21105380           \\N                          \\N               0  \n21105395           \\N                          \\N               0  \n\n[1017416 rows x 8 columns]",
      "text/html": "<div>\n<style scoped>\n    .dataframe tbody tr th:only-of-type {\n        vertical-align: middle;\n    }\n\n    .dataframe tbody tr th {\n        vertical-align: top;\n    }\n\n    .dataframe thead th {\n        text-align: right;\n    }\n</style>\n<table border=\"1\" class=\"dataframe\">\n  <thead>\n    <tr style=\"text-align: right;\">\n      <th></th>\n      <th>titleId</th>\n      <th>ordering</th>\n      <th>title</th>\n      <th>region</th>\n      <th>language</th>\n      <th>types</th>\n      <th>attributes</th>\n      <th>isOriginalTitle</th>\n    </tr>\n  </thead>\n  <tbody>\n    <tr>\n      <th>4</th>\n      <td>tt0000001</td>\n      <td>5</td>\n      <td>Carmencita</td>\n      <td>US</td>\n      <td>\\N</td>\n      <td>\\N</td>\n      <td>\\N</td>\n      <td>0</td>\n    </tr>\n    <tr>\n      <th>13</th>\n      <td>tt0000002</td>\n      <td>7</td>\n      <td>The Clown and His Dogs</td>\n      <td>US</td>\n      <td>\\N</td>\n      <td>\\N</td>\n      <td>literal English title</td>\n      <td>0</td>\n    </tr>\n    <tr>\n      <th>32</th>\n      <td>tt0000005</td>\n      <td>1</td>\n      <td>Blacksmithing Scene</td>\n      <td>US</td>\n      <td>\\N</td>\n      <td>alternative</td>\n      <td>\\N</td>\n      <td>0</td>\n    </tr>\n    <tr>\n      <th>35</th>\n      <td>tt0000005</td>\n      <td>4</td>\n      <td>Blacksmith Scene #1</td>\n      <td>US</td>\n      <td>\\N</td>\n      <td>alternative</td>\n      <td>\\N</td>\n      <td>0</td>\n    </tr>\n    <tr>\n      <th>36</th>\n      <td>tt0000005</td>\n      <td>5</td>\n      <td>Blacksmithing</td>\n      <td>US</td>\n      <td>\\N</td>\n      <td>\\N</td>\n      <td>informal alternative title</td>\n      <td>0</td>\n    </tr>\n    <tr>\n      <th>...</th>\n      <td>...</td>\n      <td>...</td>\n      <td>...</td>\n      <td>...</td>\n      <td>...</td>\n      <td>...</td>\n      <td>...</td>\n      <td>...</td>\n    </tr>\n    <tr>\n      <th>21105362</th>\n      <td>tt9916720</td>\n      <td>10</td>\n      <td>The Demonic Nun</td>\n      <td>US</td>\n      <td>\\N</td>\n      <td>tv</td>\n      <td>\\N</td>\n      <td>0</td>\n    </tr>\n    <tr>\n      <th>21105364</th>\n      <td>tt9916720</td>\n      <td>12</td>\n      <td>The Nun 2</td>\n      <td>US</td>\n      <td>\\N</td>\n      <td>imdbDisplay</td>\n      <td>\\N</td>\n      <td>0</td>\n    </tr>\n    <tr>\n      <th>21105378</th>\n      <td>tt9916734</td>\n      <td>1</td>\n      <td>Manca: Peleo</td>\n      <td>US</td>\n      <td>\\N</td>\n      <td>\\N</td>\n      <td>\\N</td>\n      <td>0</td>\n    </tr>\n    <tr>\n      <th>21105380</th>\n      <td>tt9916756</td>\n      <td>1</td>\n      <td>Pretty Pretty Black Girl</td>\n      <td>US</td>\n      <td>\\N</td>\n      <td>\\N</td>\n      <td>\\N</td>\n      <td>0</td>\n    </tr>\n    <tr>\n      <th>21105395</th>\n      <td>tt9916764</td>\n      <td>1</td>\n      <td>38</td>\n      <td>US</td>\n      <td>\\N</td>\n      <td>\\N</td>\n      <td>\\N</td>\n      <td>0</td>\n    </tr>\n  </tbody>\n</table>\n<p>1017416 rows × 8 columns</p>\n</div>"
     },
     "metadata": {},
     "execution_count": 15
    }
   ],
   "source": [
    "movies=movies[movies[\"region\"]==\"US\"]"
   ]
  },
  {
   "cell_type": "markdown",
   "metadata": {},
   "source": [
    "Exportamo v nov csv file"
   ]
  },
  {
   "cell_type": "code",
   "execution_count": null,
   "metadata": {},
   "outputs": [],
   "source": []
  },
  {
   "cell_type": "markdown",
   "metadata": {},
   "source": []
  }
 ]
}