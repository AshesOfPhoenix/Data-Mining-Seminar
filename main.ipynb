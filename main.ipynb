{
 "nbformat": 4,
 "nbformat_minor": 2,
 "metadata": {
  "language_info": {
   "name": "python",
   "codemirror_mode": {
    "name": "ipython",
    "version": 3
   },
   "version": "3.7.6-final"
  },
  "orig_nbformat": 2,
  "file_extension": ".py",
  "mimetype": "text/x-python",
  "name": "python",
  "npconvert_exporter": "python",
  "pygments_lexer": "ipython3",
  "version": 3,
  "kernelspec": {
   "name": "python37664bit6692b6271fd544f8b15eca3f177d9dda",
   "display_name": "Python 3.7.6 64-bit"
  }
 },
 "cells": [
  {
   "cell_type": "code",
   "execution_count": 37,
   "metadata": {},
   "outputs": [],
   "source": [
    "import numpy as np"
   ]
  },
  {
   "cell_type": "markdown",
   "metadata": {},
   "source": [
    "Transform to csv files"
   ]
  },
  {
   "cell_type": "code",
   "execution_count": 10,
   "metadata": {},
   "outputs": [],
   "source": [
    "#import pandas as pd \n",
    "#tsv_file=\"D:\\Sola\\PR\\PR19KKZDBMPBPGS\\Data\\data.tsv\"\n",
    "#csv_table=pd.read_table(tsv_file,sep='\\t')\n",
    "#csv_table.to_csv('D:\\Sola\\PR\\PR19KKZDBMPBPGS\\Data\\Dataaskas.csv',index=False)"
   ]
  },
  {
   "cell_type": "markdown",
   "metadata": {},
   "source": [
    "Preberimo datoteke"
   ]
  },
  {
   "cell_type": "code",
   "execution_count": 11,
   "metadata": {},
   "outputs": [],
   "source": [
    "import pandas as pd\n",
    "from datetime import datetime\n",
    "movies=pd.read_csv(\"Data\\\\akas.csv\")"
   ]
  },
  {
   "cell_type": "markdown",
   "metadata": {},
   "source": [
    "Izberemo samo tiste ki imajo region US."
   ]
  },
  {
   "cell_type": "code",
   "execution_count": 12,
   "metadata": {},
   "outputs": [],
   "source": [
    "movies=movies[movies[\"region\"]==\"US\"]"
   ]
  },
  {
   "cell_type": "markdown",
   "metadata": {},
   "source": []
  },
  {
   "cell_type": "code",
   "execution_count": 8,
   "metadata": {},
   "outputs": [
    {
     "output_type": "execute_result",
     "data": {
      "text/plain": "          titleId  ordering  \\\n0       tt0000001         5   \n1       tt0000002         7   \n2       tt0000005         1   \n3       tt0000005         4   \n4       tt0000005         5   \n...           ...       ...   \n375793  tt9915144         1   \n375794  tt9915674         1   \n375795  tt9916348         1   \n375796  tt9916720        10   \n375797  tt9916720        12   \n\n                                                    title region language  \\\n0                                              Carmencita     US       \\N   \n1                                  The Clown and His Dogs     US       \\N   \n2                                     Blacksmithing Scene     US       \\N   \n3                                     Blacksmith Scene #1     US       \\N   \n4                                           Blacksmithing     US       \\N   \n...                                                   ...    ...      ...   \n375793                                         Never Ever     US       \\N   \n375794  Tyler, the Creator Feat. Kali Uchis: See You A...     US       \\N   \n375795                              Ancient World Exposed     US       \\N   \n375796                                    The Demonic Nun     US       \\N   \n375797                                          The Nun 2     US       \\N   \n\n              types                  attributes isOriginalTitle  \\\n0                \\N                          \\N               0   \n1                \\N       literal English title               0   \n2       alternative                          \\N               0   \n3       alternative                          \\N               0   \n4                \\N  informal alternative title               0   \n...             ...                         ...             ...   \n375793           \\N                          \\N               0   \n375794           \\N                          \\N               0   \n375795           \\N                          \\N               0   \n375796           tv                          \\N               0   \n375797  imdbDisplay                          \\N               0   \n\n        averageRating  numVotes  \n0                 5.6      1592  \n1                 6.1       194  \n2                 6.1      2028  \n3                 6.1      2028  \n4                 6.1      2028  \n...               ...       ...  \n375793            8.6        32  \n375794            8.5        24  \n375795            8.9        14  \n375796            5.5        48  \n375797            5.5        48  \n\n[375798 rows x 10 columns]",
      "text/html": "<div>\n<style scoped>\n    .dataframe tbody tr th:only-of-type {\n        vertical-align: middle;\n    }\n\n    .dataframe tbody tr th {\n        vertical-align: top;\n    }\n\n    .dataframe thead th {\n        text-align: right;\n    }\n</style>\n<table border=\"1\" class=\"dataframe\">\n  <thead>\n    <tr style=\"text-align: right;\">\n      <th></th>\n      <th>titleId</th>\n      <th>ordering</th>\n      <th>title</th>\n      <th>region</th>\n      <th>language</th>\n      <th>types</th>\n      <th>attributes</th>\n      <th>isOriginalTitle</th>\n      <th>averageRating</th>\n      <th>numVotes</th>\n    </tr>\n  </thead>\n  <tbody>\n    <tr>\n      <th>0</th>\n      <td>tt0000001</td>\n      <td>5</td>\n      <td>Carmencita</td>\n      <td>US</td>\n      <td>\\N</td>\n      <td>\\N</td>\n      <td>\\N</td>\n      <td>0</td>\n      <td>5.6</td>\n      <td>1592</td>\n    </tr>\n    <tr>\n      <th>1</th>\n      <td>tt0000002</td>\n      <td>7</td>\n      <td>The Clown and His Dogs</td>\n      <td>US</td>\n      <td>\\N</td>\n      <td>\\N</td>\n      <td>literal English title</td>\n      <td>0</td>\n      <td>6.1</td>\n      <td>194</td>\n    </tr>\n    <tr>\n      <th>2</th>\n      <td>tt0000005</td>\n      <td>1</td>\n      <td>Blacksmithing Scene</td>\n      <td>US</td>\n      <td>\\N</td>\n      <td>alternative</td>\n      <td>\\N</td>\n      <td>0</td>\n      <td>6.1</td>\n      <td>2028</td>\n    </tr>\n    <tr>\n      <th>3</th>\n      <td>tt0000005</td>\n      <td>4</td>\n      <td>Blacksmith Scene #1</td>\n      <td>US</td>\n      <td>\\N</td>\n      <td>alternative</td>\n      <td>\\N</td>\n      <td>0</td>\n      <td>6.1</td>\n      <td>2028</td>\n    </tr>\n    <tr>\n      <th>4</th>\n      <td>tt0000005</td>\n      <td>5</td>\n      <td>Blacksmithing</td>\n      <td>US</td>\n      <td>\\N</td>\n      <td>\\N</td>\n      <td>informal alternative title</td>\n      <td>0</td>\n      <td>6.1</td>\n      <td>2028</td>\n    </tr>\n    <tr>\n      <th>...</th>\n      <td>...</td>\n      <td>...</td>\n      <td>...</td>\n      <td>...</td>\n      <td>...</td>\n      <td>...</td>\n      <td>...</td>\n      <td>...</td>\n      <td>...</td>\n      <td>...</td>\n    </tr>\n    <tr>\n      <th>375793</th>\n      <td>tt9915144</td>\n      <td>1</td>\n      <td>Never Ever</td>\n      <td>US</td>\n      <td>\\N</td>\n      <td>\\N</td>\n      <td>\\N</td>\n      <td>0</td>\n      <td>8.6</td>\n      <td>32</td>\n    </tr>\n    <tr>\n      <th>375794</th>\n      <td>tt9915674</td>\n      <td>1</td>\n      <td>Tyler, the Creator Feat. Kali Uchis: See You A...</td>\n      <td>US</td>\n      <td>\\N</td>\n      <td>\\N</td>\n      <td>\\N</td>\n      <td>0</td>\n      <td>8.5</td>\n      <td>24</td>\n    </tr>\n    <tr>\n      <th>375795</th>\n      <td>tt9916348</td>\n      <td>1</td>\n      <td>Ancient World Exposed</td>\n      <td>US</td>\n      <td>\\N</td>\n      <td>\\N</td>\n      <td>\\N</td>\n      <td>0</td>\n      <td>8.9</td>\n      <td>14</td>\n    </tr>\n    <tr>\n      <th>375796</th>\n      <td>tt9916720</td>\n      <td>10</td>\n      <td>The Demonic Nun</td>\n      <td>US</td>\n      <td>\\N</td>\n      <td>tv</td>\n      <td>\\N</td>\n      <td>0</td>\n      <td>5.5</td>\n      <td>48</td>\n    </tr>\n    <tr>\n      <th>375797</th>\n      <td>tt9916720</td>\n      <td>12</td>\n      <td>The Nun 2</td>\n      <td>US</td>\n      <td>\\N</td>\n      <td>imdbDisplay</td>\n      <td>\\N</td>\n      <td>0</td>\n      <td>5.5</td>\n      <td>48</td>\n    </tr>\n  </tbody>\n</table>\n<p>375798 rows × 10 columns</p>\n</div>"
     },
     "metadata": {},
     "execution_count": 8
    }
   ],
   "source": [
    "ratings=pd.read_csv(\"Data\\\\ratings.csv\")\n",
    "ratings.rename(columns = {'tconst':'titleId'}, inplace = True) \n",
    "projekt=movies.merge(ratings,on=\"titleId\")\n",
    "projekt[]"
   ]
  },
  {
   "cell_type": "markdown",
   "metadata": {},
   "source": [
    "Preberemo še netflix datoteke"
   ]
  },
  {
   "cell_type": "code",
   "execution_count": 22,
   "metadata": {},
   "outputs": [
    {
     "output_type": "execute_result",
     "data": {
      "text/plain": "          titleId  ordering        title region language        types  \\\n214184  tt1135081         5  The Witcher     US       \\N  imdbDisplay   \n326986  tt5180504        24  The Witcher     US       \\N  imdbDisplay   \n356428  tt7351402         1  The Witcher     US       \\N  imdbDisplay   \n\n       attributes isOriginalTitle  averageRating  numVotes  \n214184         \\N               0            8.6      3185  \n326986         \\N               0            8.3    236372  \n356428         \\N               0            4.0        70  ",
      "text/html": "<div>\n<style scoped>\n    .dataframe tbody tr th:only-of-type {\n        vertical-align: middle;\n    }\n\n    .dataframe tbody tr th {\n        vertical-align: top;\n    }\n\n    .dataframe thead th {\n        text-align: right;\n    }\n</style>\n<table border=\"1\" class=\"dataframe\">\n  <thead>\n    <tr style=\"text-align: right;\">\n      <th></th>\n      <th>titleId</th>\n      <th>ordering</th>\n      <th>title</th>\n      <th>region</th>\n      <th>language</th>\n      <th>types</th>\n      <th>attributes</th>\n      <th>isOriginalTitle</th>\n      <th>averageRating</th>\n      <th>numVotes</th>\n    </tr>\n  </thead>\n  <tbody>\n    <tr>\n      <th>214184</th>\n      <td>tt1135081</td>\n      <td>5</td>\n      <td>The Witcher</td>\n      <td>US</td>\n      <td>\\N</td>\n      <td>imdbDisplay</td>\n      <td>\\N</td>\n      <td>0</td>\n      <td>8.6</td>\n      <td>3185</td>\n    </tr>\n    <tr>\n      <th>326986</th>\n      <td>tt5180504</td>\n      <td>24</td>\n      <td>The Witcher</td>\n      <td>US</td>\n      <td>\\N</td>\n      <td>imdbDisplay</td>\n      <td>\\N</td>\n      <td>0</td>\n      <td>8.3</td>\n      <td>236372</td>\n    </tr>\n    <tr>\n      <th>356428</th>\n      <td>tt7351402</td>\n      <td>1</td>\n      <td>The Witcher</td>\n      <td>US</td>\n      <td>\\N</td>\n      <td>imdbDisplay</td>\n      <td>\\N</td>\n      <td>0</td>\n      <td>4.0</td>\n      <td>70</td>\n    </tr>\n  </tbody>\n</table>\n</div>"
     },
     "metadata": {},
     "execution_count": 22
    }
   ],
   "source": [
    "netflix=pd.read_csv(\"Data\\\\netflix_titles.csv\")\n",
    "projekt[projekt[\"title\"]==\"The Witcher\"]"
   ]
  },
  {
   "cell_type": "markdown",
   "metadata": {},
   "source": []
  }
 ]
}