{
 "cells": [
  {
   "cell_type": "code",
   "execution_count": 1,
   "metadata": {},
   "outputs": [],
   "source": [
    "import numpy as np\n",
    "import pandas as pd \n",
    "from datetime import datetime\n",
    "\n",
    "%matplotlib inline\n",
    "import matplotlib\n",
    "%config InlineBackend.figure_format = 'jpg'\n",
    "matplotlib.figure.Figure.__repr__ = lambda self: (\n",
    "    f\"<{self.__class__.__name__} size {self.bbox.size[0]:g}\"\n",
    "    f\"x{self.bbox.size[1]:g} with {len(self.axes)} Axes>\")\n",
    "import matplotlib.pyplot as plt"
   ]
  },
  {
   "cell_type": "markdown",
   "metadata": {},
   "source": [
    "Preberimo datoteke"
   ]
  },
  {
   "cell_type": "code",
   "execution_count": null,
   "metadata": {},
   "outputs": [],
   "source": [
    "netflix = pd.read_csv(\"Data\\\\netflix_titles.csv\")\n",
    "\n",
    "movies = pd.read_csv(\"Data\\\\akas.csv\")\n",
    "ratings = pd.read_csv(\"Data\\\\ratings.csv\")\n",
    "names = pd.read_csv(\"Data\\\\names_basic.csv\")\n",
    "crew=pd.read_csv(\"Data\\\\crew.csv\")\n",
    "crew.rename(columns = {'tconst':'titleId'}, inplace = True) \n",
    "\n",
    "director_names_and_stats=pd.read_csv(\"Data\\\\namebasics.csv\")\n",
    "director_names_and_stats.rename(columns = {'tconst':'titleId'}, inplace = True) \n",
    "\n"
   ]
  },
  {
   "cell_type": "code",
   "execution_count": null,
   "metadata": {},
   "outputs": [],
   "source": [
    "ratings = ratings.rename(columns = {'tconst':'titleId'})\n",
    "originals = movies[movies[\"types\"] == \"original\"]\n",
    "originals = originals[[\"titleId\", \"title\"]]\n",
    "originals = originals.merge(ratings, on=\"titleId\")\n",
    "netflix1 = netflix.merge(originals, on=\"title\")\n",
    "\n",
    "projekt = originals.merge(crew[[\"titleId\",\"directors\"]],on=\"titleId\")"
   ]
  },
  {
   "cell_type": "code",
   "execution_count": null,
   "metadata": {},
   "outputs": [],
   "source": [
    "def najdi(table):\n",
    "    if table.empty:\n",
    "        return table\n",
    "    else:\n",
    "        return table.iloc[table[\"numVotes\"].argmax()]\n",
    "\n",
    "def getMovieDirID(MovieName):\n",
    "    for index, row in projekt.iterrows():\n",
    "        if (projekt.loc[index, row[\"title\"]] == MovieName):\n",
    "            return projekt.loc[index, row[\"directors\"]]\n",
    "\n",
    "def getDirector(dirID):\n",
    "    df=director_names_and_stats[[\"nconst\",\"primaryName\"]]\n",
    "    for index, row in df.iterrows():     \n",
    "        if(df.loc[index, row[\"nconst\"]] == dirID):\n",
    "            return df.loc[index,\"primaryName\"]\n",
    "            "
   ]
  },
  {
   "cell_type": "code",
   "execution_count": null,
   "metadata": {},
   "outputs": [],
   "source": [
    "netflix1=netflix.fillna(0)"
   ]
  },
  {
   "cell_type": "code",
   "execution_count": null,
   "metadata": {},
   "outputs": [],
   "source": [
    "i = 0\n",
    "for idx, naslov in enumerate(netflix1[\"title\"]):\n",
    "    i += 1\n",
    "    table = originals[originals[\"title\"] == naslov]\n",
    "    if table.empty:\n",
    "        pass\n",
    "    else:\n",
    "        a = najdi(originals[originals[\"title\"] == naslov])\n",
    "        netflix1.loc[idx, \"averageRating\"] = a[\"averageRating\"]\n",
    "        netflix1.loc[idx, \"numVotes\"] = a[\"numVotes\"]"
   ]
  },
  {
   "cell_type": "markdown",
   "metadata": {},
   "source": [
    "Preberemo imdb bazo za mankajoce podatke"
   ]
  },
  {
   "cell_type": "code",
   "execution_count": null,
   "metadata": {},
   "outputs": [],
   "source": [
    "from imdb import IMDb\n",
    "from imdb import IMDbDataAccessError\n",
    "\n",
    "movs = IMDb()\n",
    "i = 0\n",
    "\n",
    "for idx, naslov in enumerate(netflix1[\"title\"]):\n",
    "    i += 1\n",
    "    if netflix1.loc[idx, \"director\"] == \"0\":\n",
    "        m = movs.search_movie(naslov)\n",
    "        if len(m) > 0:\n",
    "            try:\n",
    "                data = movs.get_movie(m[0].movieID)\n",
    "                netflix1.loc[idx, \"director\"] = data[\"director\"][0]['name']\n",
    "            except KeyError as e:\n",
    "                netflix1.loc[idx, \"director\"] = \"-1\"\n",
    "            except (URLError, IMDbDataAccessErro) as e:\n",
    "                print(data)\n",
    "    if i%100 == 0:\n",
    "        print(i)"
   ]
  },
  {
   "cell_type": "markdown",
   "metadata": {},
   "source": [
    "Popravilo datumov"
   ]
  },
  {
   "cell_type": "code",
   "execution_count": null,
   "metadata": {},
   "outputs": [],
   "source": []
  },
  {
   "cell_type": "code",
   "execution_count": null,
   "metadata": {},
   "outputs": [],
   "source": [
    "dic = {'January':'1', 'February':'2', 'March':'3', 'April':'4', 'May':'5', 'June':'6', 'July':'7', 'August':'8', 'September':'9', 'October':'10', 'November':'11', 'December':'12', '':'0'}\n",
    "netflix1['month_added'] = 0\n",
    "netflix1['year_added'] = 0\n",
    "for index, row in netflix1.iterrows():\n",
    "    if(row['date_added'] != \"0\"):\n",
    "        monthDay_year = row['date_added'].split(\", \")\n",
    "        day_month = monthDay_year[0].split(\" \")\n",
    "        if(len(day_month) > 2):\n",
    "            netflix1.loc[index, \"date_added\"] = \"%s-%s-%s\" % (day_month[2], dic[day_month[1]],                                  monthDay_year[1])\n",
    "            netflix1.loc[index, \"month_added\"]= dic[day_month[1]]\n",
    "            netflix1.loc[index, \"year_added\"]= monthDay_year[1]\n",
    "        else:\n",
    "            netflix1.loc[index, \"date_added\"] = \"%s-%s-%s\" % (day_month[1], dic[day_month[0]],                                  monthDay_year[1])\n",
    "            netflix1.loc[index, \"month_added\"]= dic[day_month[0]]\n",
    "            netflix1.loc[index, \"year_added\"]= monthDay_year[1]"
   ]
  },
  {
   "cell_type": "markdown",
   "metadata": {},
   "source": [
    "tu nevemo kaj nrdi"
   ]
  },
  {
   "cell_type": "code",
   "execution_count": null,
   "metadata": {},
   "outputs": [],
   "source": [
    "#netflix1.to_csv(\"/Users/gregorsink/Desktop/PR Projekt/PR19KKZDBMPBPGS/Netflix_all.csv\", index=False)\n",
    "netflixContentByYears = netflix1.groupby(['year_added'])['year_added'].agg(['count'])\n",
    "netflixContentByYears = netflixContentByYears.reset_index()\n",
    "netflixContentByYears.drop([0])\n",
    "\n",
    "#netflixContentByYears.set_index('index')"
   ]
  },
  {
   "cell_type": "code",
   "execution_count": null,
   "metadata": {},
   "outputs": [],
   "source": [
    "#netflix1 = netflix1.sort_values(by='date_added', ascending=False)\n",
    "#netflix1 = pd.to_datetime(netflix1['date_added'], dayfirst=True)\n",
    "#netflix1['date_added'] = pd.to_datetime(netflix1['date_added']).dt.year\n",
    "#netflix1['Year'] = pd.DatetimeIndex(netflix1['date_added']).month \n",
    "#tv_show = df[df[\"type\"] == \"TV Show\"]\n",
    "#movies = df[df[\"type\"] == \"Movie\"]\n",
    "for index, row in netflix1.iterrows():\n",
    "    if(row['date_added'] != '0'):\n",
    "        aaa = row['date_added']\n",
    "        new = aaa.split(\"-\")\n",
    "        netflix1.loc[index, \"month_added\"]= new[1]\n",
    "        netflix1[index, \"year_added\"]= new[2] \n",
    "        "
   ]
  }
 ],
 "metadata": {
  "language_info": {
   "codemirror_mode": {
    "name": "ipython",
    "version": 3
   },
   "file_extension": ".py",
   "mimetype": "text/x-python",
   "name": "python",
   "nbconvert_exporter": "python",
   "pygments_lexer": "ipython3",
   "version": "3.8.2-final"
  },
  "orig_nbformat": 2,
  "kernelspec": {
   "name": "python38232bit0f273536a880427981ba134bca0553b7",
   "display_name": "Python 3.8.2 32-bit"
  }
 },
 "nbformat": 4,
 "nbformat_minor": 2
}