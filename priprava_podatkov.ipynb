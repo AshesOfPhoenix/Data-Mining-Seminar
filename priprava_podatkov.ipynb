{
 "cells": [
  {
   "cell_type": "code",
   "execution_count": 1,
   "metadata": {},
   "outputs": [],
   "source": [
    "import numpy as np\n",
    "import pandas as pd \n",
    "from datetime import datetime\n",
    "\n",
    "%matplotlib inline\n",
    "import matplotlib\n",
    "%config InlineBackend.figure_format = 'jpg'\n",
    "matplotlib.figure.Figure.__repr__ = lambda self: (\n",
    "    f\"<{self.__class__.__name__} size {self.bbox.size[0]:g}\"\n",
    "    f\"x{self.bbox.size[1]:g} with {len(self.axes)} Axes>\")\n",
    "import matplotlib.pyplot as plt"
   ]
  },
  {
   "cell_type": "markdown",
   "metadata": {},
   "source": [
    "Branje podatkov"
   ]
  },
  {
   "cell_type": "code",
   "execution_count": null,
   "metadata": {},
   "outputs": [],
   "source": [
    "netflix = pd.read_csv(\"Data\\\\netflix_titles.csv\")\n",
    "\n",
    "movies = pd.read_csv(\"Data\\\\akas.csv\")\n",
    "ratings = pd.read_csv(\"Data\\\\ratings.csv\")\n",
    "names = pd.read_csv(\"Data\\\\names_basic.csv\")\n",
    "\n",
    "crew=pd.read_csv(\"Data\\\\crew.csv\")\n",
    "crew.rename(columns = {'tconst':'titleId'}, inplace = True) \n",
    "\n",
    "director_names_and_stats=pd.read_csv(\"Data\\\\namebasics.csv\")\n",
    "director_names_and_stats.rename(columns = {'tconst':'titleId'}, inplace = True) "
   ]
  },
  {
   "cell_type": "code",
   "execution_count": null,
   "metadata": {},
   "outputs": [],
   "source": [
    "ratings = ratings.rename(columns = {'tconst':'titleId'})\n",
    "originals = movies[movies[\"types\"] == \"original\"]\n",
    "originals = originals[[\"titleId\", \"title\"]]\n",
    "originals = originals.merge(ratings, on=\"titleId\")\n",
    "\n",
    "projekt = originals.merge(crew[[\"titleId\",\"directors\"]], on=\"titleId\")\n",
    "\n",
    "originals = originals.rename(columns = {'tconst':'title'})\n",
    "netflix = netflix.merge(originals, on=\"title\")\n"
   ]
  },
  {
   "cell_type": "code",
   "execution_count": null,
   "metadata": {},
   "outputs": [],
   "source": [
    "def najdi(table):\n",
    "    if table.empty:\n",
    "        return table\n",
    "    else:\n",
    "        return table.iloc[table[\"numVotes\"].argmax()]\n",
    "\n",
    "def getMovieDirID(MovieName):\n",
    "    for index, row in projekt.iterrows():\n",
    "        if (projekt.loc[index, row[\"titleId\"]] == MovieName):\n",
    "            return projekt.loc[index, row[\"directors\"]]\n",
    "\n",
    "def getDirector(dirID):\n",
    "    df=director_names_and_stats[[\"nconst\",\"primaryName\"]]\n",
    "    for index, row in df.iterrows():     \n",
    "        if(df.loc[index, row[\"nconst\"]] == dirID):\n",
    "            return df.loc[index,\"primaryName\"]\n",
    "            "
   ]
  },
  {
   "cell_type": "code",
   "execution_count": null,
   "metadata": {},
   "outputs": [],
   "source": [
    "netflix1=netflix.fillna(0)"
   ]
  },
  {
   "cell_type": "code",
   "execution_count": null,
   "metadata": {},
   "outputs": [],
   "source": [
    "i = 0\n",
    "for idx, naslov in enumerate(netflix1[\"title\"]):\n",
    "    i += 1\n",
    "    table = originals[originals[\"title\"] == naslov]\n",
    "    if table.empty:\n",
    "        pass\n",
    "    else:\n",
    "        a = najdi(originals[originals[\"title\"] == naslov])\n",
    "        netflix1.loc[idx, \"averageRating\"] = a[\"averageRating\"]\n",
    "        netflix1.loc[idx, \"numVotes\"] = a[\"numVotes\"]"
   ]
  },
  {
   "cell_type": "markdown",
   "metadata": {},
   "source": [
    "Preberemo imdb bazo za mankajoce podatke"
   ]
  },
  {
   "cell_type": "code",
   "execution_count": null,
   "metadata": {},
   "outputs": [],
   "source": [
    "from imdb import IMDb\n",
    "from imdb import IMDbDataAccessError\n",
    "\n",
    "movs = IMDb()\n",
    "i = 0\n",
    "\n",
    "for idx, naslov in enumerate(netflix1[\"title\"]):\n",
    "    i += 1\n",
    "    if netflix1.loc[idx, \"director\"] == \"0\":\n",
    "        m = movs.search_movie(naslov)\n",
    "        if len(m) > 0:\n",
    "            try:\n",
    "                data = movs.get_movie(m[0].movieID)\n",
    "                netflix1.loc[idx, \"director\"] = data[\"director\"][0]['name']\n",
    "            except KeyError as e:\n",
    "                netflix1.loc[idx, \"director\"] = \"-1\"\n",
    "            except (URLError, IMDbDataAccessErro) as e:\n",
    "                print(data)\n",
    "    if i%100 == 0:\n",
    "        print(i)"
   ]
  },
  {
   "cell_type": "code",
   "execution_count": 77,
   "metadata": {},
   "outputs": [],
   "source": [
    "netflix1 = pd.read_csv(\"Netflix_all.csv\")\n",
    "#netflix1['date_added'].to_csv(\"D:\\\\OneDrive\\\\PhenixZeroPrime\\FRI\\\\2. Letnik 2. Semester\\\\Podatkovno Rudarjenje\\\\PR_Projektna\\\\PR19KZMBG\\\\datumi.csv\", index=False)\n",
    "netflixWithoutMissingDate = netflix1[netflix1['date_added'] != '0']"
   ]
  },
  {
   "cell_type": "markdown",
   "metadata": {},
   "source": [
    "Popravilo datumov"
   ]
  },
  {
   "cell_type": "code",
   "execution_count": 78,
   "metadata": {
    "tags": [
     "outputPrepend",
     "outputPrepend",
     "outputPrepend",
     "outputPrepend",
     "outputPrepend",
     "outputPrepend",
     "outputPrepend",
     "outputPrepend",
     "outputPrepend",
     "outputPrepend",
     "outputPrepend",
     "outputPrepend",
     "outputPrepend",
     "outputPrepend",
     "outputPrepend",
     "outputPrepend",
     "outputPrepend",
     "outputPrepend",
     "outputPrepend",
     "outputPrepend",
     "outputPrepend",
     "outputPrepend",
     "outputPrepend",
     "outputPrepend",
     "outputPrepend",
     "outputPrepend",
     "outputPrepend",
     "outputPrepend",
     "outputPrepend",
     "outputPrepend",
     "outputPrepend",
     "outputPrepend",
     "outputPrepend",
     "outputPrepend",
     "outputPrepend",
     "outputPrepend",
     "outputPrepend",
     "outputPrepend",
     "outputPrepend",
     "outputPrepend"
    ]
   },
   "outputs": [],
   "source": [
    "dic = {'January':'1', 'February':'2', 'March':'3', 'April':'4', 'May':'5', 'June':'6', 'July':'7', 'August':'8', 'September':'9', 'October':'10', 'November':'11', 'December':'12', '':'0'}\n",
    "netflixWithoutMissingDate['month_added'] = 0\n",
    "netflixWithoutMissingDate['year_added'] = 0\n",
    "#September 9, 2019\n",
    "for index, row in netflix1.iterrows():\n",
    "    if(row['date_added'] != \"0\"):  \n",
    "        monthDay_year = row['date_added'].split(\", \") #[September 9, 2019]\n",
    "        month_day = monthDay_year[0].split(\" \") #[September, 9]\n",
    "\n",
    "        if(len(month_day) == 2): #Če je split enak: month_day == [September, 9]\n",
    "            netflixWithoutMissingDate.loc[index, \"date_added\"] = \"%s/%s/%s\" % (dic[month_day[0]], month_day[1], monthDay_year[1])\n",
    "\n",
    "            try:\n",
    "                netflixWithoutMissingDate.loc[index, 'date_added'] = pd.to_datetime(netflixWithoutMissingDate.loc[index, 'date_added'], format=\"%m/%d/%Y\")\n",
    "            except (TypeError, ValueError) as e:\n",
    "                print(netflixWithoutMissingDate.loc[index, 'date_added'])\n",
    "            \n",
    "            netflixWithoutMissingDate.loc[index, \"month_added\"]= month_day[0]\n",
    "            netflixWithoutMissingDate.loc[index, \"year_added\"]= monthDay_year[1]\n",
    "\n",
    "        elif(len(month_day) == 3): #Če je split napačen: month_day == ['', September, 9]\n",
    "            netflixWithoutMissingDate.loc[index, \"date_added\"] = \"%s/%s/%s\" % (dic[month_day[1]], month_day[2], monthDay_year[1])\n",
    "            \n",
    "            try:\n",
    "                netflixWithoutMissingDate.loc[index, 'date_added'] = pd.to_datetime(netflixWithoutMissingDate.loc[index, 'date_added'], format=\"%m/%d/%Y\")\n",
    "            except (TypeError, ValueError) as e:\n",
    "                print(netflixWithoutMissingDate.loc[index, 'date_added'])\n",
    "                print(month_day[1])\n",
    "            \n",
    "            netflixWithoutMissingDate.loc[index, \"month_added\"]= month_day[1]\n",
    "            netflixWithoutMissingDate.loc[index, \"year_added\"]= monthDay_year[1]"
   ]
  },
  {
   "cell_type": "code",
   "execution_count": 79,
   "metadata": {},
   "outputs": [],
   "source": [
    "netflixWithoutMissingDate = netflixWithoutMissingDate.astype({'year_added': 'int64'})\n",
    "netflixWithoutMissingDate['date_added']= pd.to_datetime(netflixWithoutMissingDate['date_added']) "
   ]
  },
  {
   "cell_type": "code",
   "execution_count": 80,
   "metadata": {},
   "outputs": [
    {
     "output_type": "execute_result",
     "data": {
      "text/plain": "show_id                   int64\ntype                     object\ntitle                    object\ndirector                 object\ncast                     object\ncountry                  object\ndate_added       datetime64[ns]\nrelease_year              int64\nrating                   object\nduration                 object\nlisted_in                object\ndescription              object\naverageRating           float64\nnumVotes                float64\nmonth_added              object\nyear_added                int64\ndtype: object"
     },
     "metadata": {},
     "execution_count": 80
    }
   ],
   "source": [
    "netflixWithoutMissingDate.dtypes"
   ]
  },
  {
   "cell_type": "code",
   "execution_count": 82,
   "metadata": {},
   "outputs": [
    {
     "output_type": "execute_result",
     "data": {
      "text/plain": "       show_id     type                                    title  \\\n6194  80046347  TV Show                             Señora Acero   \n6195  80136790  TV Show                           Goodnight DJ 1   \n6196  80127464  TV Show                          Mar de Plástico   \n6197  80987209  TV Show                     Rica, Famosa, Latina   \n6198  80189829  TV Show                            The Protector   \n6199  80244228  TV Show                   Beauty and the Bitches   \n6200  80018869  TV Show                           Liv and Maddie   \n6201  80050007  TV Show         The Mr. Peabody and Sherman Show   \n6202  80116626  TV Show                             The Cravings   \n6203  70158329  TV Show           Star Trek: The Next Generation   \n6204  80091341  TV Show                                   Cuckoo   \n6205  80036747  TV Show              Pororo - The Little Penguin   \n6206  80173174  TV Show                                Samantha!   \n6207  80190407  TV Show                        Murderous Affairs   \n6208  70227189  TV Show                                Lost Girl   \n6209  70264078  TV Show                                Mr. Young   \n6210  80239700  TV Show                              Psiconautas   \n6211  80231523  TV Show                      The Minimighty Kids   \n6212  80126877  TV Show                                  Filinta   \n6213  80126599  TV Show                         Leyla and Mecnun   \n6214  80049872  TV Show                                  Chelsea   \n6215  80066227  TV Show                      Crazy Ex-Girlfriend   \n6216  80108373  TV Show         The Magic School Bus Rides Again   \n6217  70196145  TV Show                                 New Girl   \n6218  80162994  TV Show                  Talking Tom and Friends   \n6219  80186475  TV Show                       Pokémon the Series   \n6220  70272742  TV Show                              Justin Time   \n6221  80067942  TV Show  Terrace House: Boys & Girls in the City   \n6222  70136122  TV Show                                    Weeds   \n\n           director                                               cast  \\\n6194             -1  Blanca Soto, Litzy, Damián Alcázar, Marco Pére...   \n6195   Jake Paltrow  Chan Fong, Z-Chen, Frederick Lee, Melvin Sia, ...   \n6196             -1  Rodolfo Sancho, Belén López, Pedro Casablanc, ...   \n6197             -1                                                  0   \n6198             -1  Çağatay Ulusoy, Ayça Ayşin Turan, Hazar Ergüçl...   \n6199  Johnny Parker  Methinee Kingpayome, Son Songpaisarn, Yingying...   \n6200             -1  Dove Cameron, Joey Bragg, Tenzing Norgay Train...   \n6201             -1  Chris Parnell, Max Charles, Dieter Jansen, Da'...   \n6202             -1  Park Hee-bon, Phillip Choi, Hong Wan-pyo, Choi...   \n6203             -1  Patrick Stewart, Jonathan Frakes, LeVar Burton...   \n6204             -1  Andy Samberg, Taylor Lautner, Greg Davies, Hel...   \n6205             -1                                                  0   \n6206             -1  Emmanuelle Araújo, Douglas Silva, Sabrina Nona...   \n6207             -1                                                  0   \n6208             -1  Anna Silk, Kris Holden-Ried, Ksenia Solo, Rich...   \n6209             -1  Brendan Meyer, Matreya Fedor, Gig Morton, Kurt...   \n6210   Pedro Rivero  Guillermo Toledo, Gabriel Goity, Florencia Peñ...   \n6211             -1                                                  0   \n6212             -1  Onur Tuna, Serhat Tutumluer, Mehmet Özgür, Naz...   \n6213      Onur Ünlü  Ali Atay, Melis Birkan, Serkan Keskin, Ahmet M...   \n6214             -1                                                  0   \n6215             -1  Rachel Bloom, Vincent Rodriguez III, Santino F...   \n6216             -1  Kate McKinnon, Miles Koseleci-Vieira, Mikaela ...   \n6217             -1  Zooey Deschanel, Jake Johnson, Max Greenfield,...   \n6218             -1  Colin Hanks, Tom Kenny, James Adomian, Lisa Sc...   \n6219             -1  Sarah Natochenny, Laurie Hymes, Jessica Paquet...   \n6220             -1            Gage Munroe, Scott McCord, Jenna Warren   \n6221             -1  You, Reina Triendl, Ryota Yamasato, Yoshimi To...   \n6222             -1  Mary-Louise Parker, Hunter Parrish, Alexander ...   \n\n                        country date_added  release_year    rating   duration  \\\n6194      Mexico, United States 2019-04-28          2018     TV-14  5 Seasons   \n6195                          0 2018-04-27          2016     TV-14  2 Seasons   \n6196                      Spain 2017-04-27          2017     TV-MA  2 Seasons   \n6197              United States 2019-04-26          2016     TV-14  4 Seasons   \n6198                     Turkey 2019-04-26          2019     TV-MA  2 Seasons   \n6199                          0 2019-04-23          2016     TV-14  2 Seasons   \n6200              United States 2017-04-23          2017      TV-G  4 Seasons   \n6201              United States 2017-04-21          2017     TV-Y7  4 Seasons   \n6202                South Korea 2017-04-20          2016     TV-14  2 Seasons   \n6203              United States 2018-04-02          1993     TV-PG  7 Seasons   \n6204             United Kingdom 2019-04-19          2019     TV-14  5 Seasons   \n6205                South Korea 2019-04-19          2013      TV-Y  2 Seasons   \n6206                     Brazil 2019-04-19          2019     TV-MA  2 Seasons   \n6207              United States 2018-04-17          2017     TV-14  3 Seasons   \n6208                     Canada 2016-04-17          2015     TV-14  5 Seasons   \n6209                     Canada 2019-04-16          2013      TV-G  2 Seasons   \n6210                  Argentina 2018-04-15          2016     TV-MA  2 Seasons   \n6211                     France 2018-04-15          2012      TV-G  2 Seasons   \n6212                     Turkey 2017-04-15          2015     TV-14  2 Seasons   \n6213                     Turkey 2017-04-15          2014     TV-PG  3 Seasons   \n6214              United States 2017-04-14          2017     TV-MA  2 Seasons   \n6215              United States 2019-04-13          2019     TV-14  4 Seasons   \n6216              United States 2018-04-13          2018      TV-Y  2 Seasons   \n6217              United States 2019-04-11          2017     TV-14  7 Seasons   \n6218  Cyprus, Austria, Thailand 2019-04-10          2017      TV-G  2 Seasons   \n6219                      Japan 2019-04-01          2019  TV-Y7-FV  2 Seasons   \n6220                     Canada 2016-04-01          2012      TV-Y  2 Seasons   \n6221                      Japan 2016-04-01          2016     TV-14  2 Seasons   \n6222              United States 2014-04-01          2012     TV-MA  8 Seasons   \n\n                                              listed_in  \\\n6194  Crime TV Shows, International TV Shows, Spanis...   \n6195       International TV Shows, TV Dramas, TV Horror   \n6196  Crime TV Shows, International TV Shows, Spanis...   \n6197  International TV Shows, Reality TV, Spanish-La...   \n6198  International TV Shows, Romantic TV Shows, TV ...   \n6199  International TV Shows, Romantic TV Shows, TV ...   \n6200                              Kids' TV, TV Comedies   \n6201                              Kids' TV, TV Comedies   \n6202  International TV Shows, Korean TV Shows, TV Co...   \n6203         TV Action & Adventure, TV Sci-Fi & Fantasy   \n6204  British TV Shows, International TV Shows, TV C...   \n6205                          Kids' TV, Korean TV Shows   \n6206                International TV Shows, TV Comedies   \n6207                         Crime TV Shows, Docuseries   \n6208                 TV Dramas, TV Horror, TV Mysteries   \n6209                              Kids' TV, TV Comedies   \n6210  International TV Shows, Spanish-Language TV Sh...   \n6211                              Kids' TV, TV Comedies   \n6212  Crime TV Shows, International TV Shows, TV Act...   \n6213  International TV Shows, Romantic TV Shows, TV ...   \n6214          Stand-Up Comedy & Talk Shows, TV Comedies   \n6215                     Romantic TV Shows, TV Comedies   \n6216                                           Kids' TV   \n6217                     Romantic TV Shows, TV Comedies   \n6218                              Kids' TV, TV Comedies   \n6219                             Anime Series, Kids' TV   \n6220                                           Kids' TV   \n6221                 International TV Shows, Reality TV   \n6222                             TV Comedies, TV Dramas   \n\n                                            description  averageRating  \\\n6194  When her drug-trafficking husband dies, an una...            7.2   \n6195  Young radio announcers from varying background...            5.8   \n6196  In a town in southern Spain where racial tensi...            7.2   \n6197  This reality series follows the lives of a gro...            5.7   \n6198  Discovering his ties to a secret ancient order...            6.9   \n6199  Beauty pageant contestants from all over Thail...           -1.0   \n6200  After four years in Hollywood as a television ...            6.3   \n6201  Mr. Peabody and Sherman host a zany late-night...            5.6   \n6202  Thirtysomething career woman Jae-yeong attempt...            7.2   \n6203  Decades after the adventures of the original E...            8.6   \n6204  Rachel shocks her proper British parents when ...            7.3   \n6205  On a tiny island, Pororo the penguin has fun a...            5.7   \n6206  A child star in the '80s, Samantha clings to t...            6.5   \n6207  Mixing interviews with dramatic re-enactments,...            6.8   \n6208  Discovering she's a succubus who sustains hers...            7.7   \n6209  After Adam graduates from college at age 14, h...            6.1   \n6210  A Spanish con man masquerades as a therapist a...            7.0   \n6211  Some have big feet or a sniffly nose, others a...            5.8   \n6212  In 19th-century Istanbul, a young police offic...            6.7   \n6213  Destiny brings Mecnun and Leyla together as ne...            9.1   \n6214  It's not her first talk show, but it is a firs...            6.1   \n6215  Still pining for Josh, the boy who dumped her ...            7.8   \n6216  Ms. Frizzle's kid sister Fiona takes the wheel...            6.2   \n6217  Still rebounding from a breakup, Jessica Day m...            7.7   \n6218  Full of funny one-liners and always ready for ...            6.2   \n6219  Ash and his Pikachu travel to the Alola region...            7.5   \n6220  In Justin's dreams, he and his imaginary frien...            6.6   \n6221  A new set of six men and women start their liv...            7.3   \n6222  A suburban mother starts selling marijuana to ...            7.9   \n\n      numVotes month_added  year_added  \n6194     232.0       April        2019  \n6195    8113.0       April        2018  \n6196    1202.0       April        2017  \n6197      46.0       April        2019  \n6198   28150.0       April        2019  \n6199      -1.0       April        2019  \n6200    6073.0       April        2017  \n6201     285.0       April        2017  \n6202      50.0       April        2017  \n6203   93178.0       April        2018  \n6204    7132.0       April        2019  \n6205      41.0       April        2019  \n6206     428.0       April        2019  \n6207     153.0       April        2018  \n6208   27777.0       April        2016  \n6209    1138.0       April        2019  \n6210     101.0       April        2018  \n6211      26.0       April        2018  \n6212    2393.0       April        2017  \n6213   85391.0       April        2017  \n6214    1882.0       April        2017  \n6215   15228.0       April        2019  \n6216     553.0       April        2018  \n6217  175738.0       April        2019  \n6218     194.0       April        2019  \n6219   35370.0       April        2019  \n6220     154.0       April        2016  \n6221      34.0       April        2016  \n6222   99777.0       April        2014  ",
      "text/html": "<div>\n<style scoped>\n    .dataframe tbody tr th:only-of-type {\n        vertical-align: middle;\n    }\n\n    .dataframe tbody tr th {\n        vertical-align: top;\n    }\n\n    .dataframe thead th {\n        text-align: right;\n    }\n</style>\n<table border=\"1\" class=\"dataframe\">\n  <thead>\n    <tr style=\"text-align: right;\">\n      <th></th>\n      <th>show_id</th>\n      <th>type</th>\n      <th>title</th>\n      <th>director</th>\n      <th>cast</th>\n      <th>country</th>\n      <th>date_added</th>\n      <th>release_year</th>\n      <th>rating</th>\n      <th>duration</th>\n      <th>listed_in</th>\n      <th>description</th>\n      <th>averageRating</th>\n      <th>numVotes</th>\n      <th>month_added</th>\n      <th>year_added</th>\n    </tr>\n  </thead>\n  <tbody>\n    <tr>\n      <th>6194</th>\n      <td>80046347</td>\n      <td>TV Show</td>\n      <td>Señora Acero</td>\n      <td>-1</td>\n      <td>Blanca Soto, Litzy, Damián Alcázar, Marco Pére...</td>\n      <td>Mexico, United States</td>\n      <td>2019-04-28</td>\n      <td>2018</td>\n      <td>TV-14</td>\n      <td>5 Seasons</td>\n      <td>Crime TV Shows, International TV Shows, Spanis...</td>\n      <td>When her drug-trafficking husband dies, an una...</td>\n      <td>7.2</td>\n      <td>232.0</td>\n      <td>April</td>\n      <td>2019</td>\n    </tr>\n    <tr>\n      <th>6195</th>\n      <td>80136790</td>\n      <td>TV Show</td>\n      <td>Goodnight DJ 1</td>\n      <td>Jake Paltrow</td>\n      <td>Chan Fong, Z-Chen, Frederick Lee, Melvin Sia, ...</td>\n      <td>0</td>\n      <td>2018-04-27</td>\n      <td>2016</td>\n      <td>TV-14</td>\n      <td>2 Seasons</td>\n      <td>International TV Shows, TV Dramas, TV Horror</td>\n      <td>Young radio announcers from varying background...</td>\n      <td>5.8</td>\n      <td>8113.0</td>\n      <td>April</td>\n      <td>2018</td>\n    </tr>\n    <tr>\n      <th>6196</th>\n      <td>80127464</td>\n      <td>TV Show</td>\n      <td>Mar de Plástico</td>\n      <td>-1</td>\n      <td>Rodolfo Sancho, Belén López, Pedro Casablanc, ...</td>\n      <td>Spain</td>\n      <td>2017-04-27</td>\n      <td>2017</td>\n      <td>TV-MA</td>\n      <td>2 Seasons</td>\n      <td>Crime TV Shows, International TV Shows, Spanis...</td>\n      <td>In a town in southern Spain where racial tensi...</td>\n      <td>7.2</td>\n      <td>1202.0</td>\n      <td>April</td>\n      <td>2017</td>\n    </tr>\n    <tr>\n      <th>6197</th>\n      <td>80987209</td>\n      <td>TV Show</td>\n      <td>Rica, Famosa, Latina</td>\n      <td>-1</td>\n      <td>0</td>\n      <td>United States</td>\n      <td>2019-04-26</td>\n      <td>2016</td>\n      <td>TV-14</td>\n      <td>4 Seasons</td>\n      <td>International TV Shows, Reality TV, Spanish-La...</td>\n      <td>This reality series follows the lives of a gro...</td>\n      <td>5.7</td>\n      <td>46.0</td>\n      <td>April</td>\n      <td>2019</td>\n    </tr>\n    <tr>\n      <th>6198</th>\n      <td>80189829</td>\n      <td>TV Show</td>\n      <td>The Protector</td>\n      <td>-1</td>\n      <td>Çağatay Ulusoy, Ayça Ayşin Turan, Hazar Ergüçl...</td>\n      <td>Turkey</td>\n      <td>2019-04-26</td>\n      <td>2019</td>\n      <td>TV-MA</td>\n      <td>2 Seasons</td>\n      <td>International TV Shows, Romantic TV Shows, TV ...</td>\n      <td>Discovering his ties to a secret ancient order...</td>\n      <td>6.9</td>\n      <td>28150.0</td>\n      <td>April</td>\n      <td>2019</td>\n    </tr>\n    <tr>\n      <th>6199</th>\n      <td>80244228</td>\n      <td>TV Show</td>\n      <td>Beauty and the Bitches</td>\n      <td>Johnny Parker</td>\n      <td>Methinee Kingpayome, Son Songpaisarn, Yingying...</td>\n      <td>0</td>\n      <td>2019-04-23</td>\n      <td>2016</td>\n      <td>TV-14</td>\n      <td>2 Seasons</td>\n      <td>International TV Shows, Romantic TV Shows, TV ...</td>\n      <td>Beauty pageant contestants from all over Thail...</td>\n      <td>-1.0</td>\n      <td>-1.0</td>\n      <td>April</td>\n      <td>2019</td>\n    </tr>\n    <tr>\n      <th>6200</th>\n      <td>80018869</td>\n      <td>TV Show</td>\n      <td>Liv and Maddie</td>\n      <td>-1</td>\n      <td>Dove Cameron, Joey Bragg, Tenzing Norgay Train...</td>\n      <td>United States</td>\n      <td>2017-04-23</td>\n      <td>2017</td>\n      <td>TV-G</td>\n      <td>4 Seasons</td>\n      <td>Kids' TV, TV Comedies</td>\n      <td>After four years in Hollywood as a television ...</td>\n      <td>6.3</td>\n      <td>6073.0</td>\n      <td>April</td>\n      <td>2017</td>\n    </tr>\n    <tr>\n      <th>6201</th>\n      <td>80050007</td>\n      <td>TV Show</td>\n      <td>The Mr. Peabody and Sherman Show</td>\n      <td>-1</td>\n      <td>Chris Parnell, Max Charles, Dieter Jansen, Da'...</td>\n      <td>United States</td>\n      <td>2017-04-21</td>\n      <td>2017</td>\n      <td>TV-Y7</td>\n      <td>4 Seasons</td>\n      <td>Kids' TV, TV Comedies</td>\n      <td>Mr. Peabody and Sherman host a zany late-night...</td>\n      <td>5.6</td>\n      <td>285.0</td>\n      <td>April</td>\n      <td>2017</td>\n    </tr>\n    <tr>\n      <th>6202</th>\n      <td>80116626</td>\n      <td>TV Show</td>\n      <td>The Cravings</td>\n      <td>-1</td>\n      <td>Park Hee-bon, Phillip Choi, Hong Wan-pyo, Choi...</td>\n      <td>South Korea</td>\n      <td>2017-04-20</td>\n      <td>2016</td>\n      <td>TV-14</td>\n      <td>2 Seasons</td>\n      <td>International TV Shows, Korean TV Shows, TV Co...</td>\n      <td>Thirtysomething career woman Jae-yeong attempt...</td>\n      <td>7.2</td>\n      <td>50.0</td>\n      <td>April</td>\n      <td>2017</td>\n    </tr>\n    <tr>\n      <th>6203</th>\n      <td>70158329</td>\n      <td>TV Show</td>\n      <td>Star Trek: The Next Generation</td>\n      <td>-1</td>\n      <td>Patrick Stewart, Jonathan Frakes, LeVar Burton...</td>\n      <td>United States</td>\n      <td>2018-04-02</td>\n      <td>1993</td>\n      <td>TV-PG</td>\n      <td>7 Seasons</td>\n      <td>TV Action &amp; Adventure, TV Sci-Fi &amp; Fantasy</td>\n      <td>Decades after the adventures of the original E...</td>\n      <td>8.6</td>\n      <td>93178.0</td>\n      <td>April</td>\n      <td>2018</td>\n    </tr>\n    <tr>\n      <th>6204</th>\n      <td>80091341</td>\n      <td>TV Show</td>\n      <td>Cuckoo</td>\n      <td>-1</td>\n      <td>Andy Samberg, Taylor Lautner, Greg Davies, Hel...</td>\n      <td>United Kingdom</td>\n      <td>2019-04-19</td>\n      <td>2019</td>\n      <td>TV-14</td>\n      <td>5 Seasons</td>\n      <td>British TV Shows, International TV Shows, TV C...</td>\n      <td>Rachel shocks her proper British parents when ...</td>\n      <td>7.3</td>\n      <td>7132.0</td>\n      <td>April</td>\n      <td>2019</td>\n    </tr>\n    <tr>\n      <th>6205</th>\n      <td>80036747</td>\n      <td>TV Show</td>\n      <td>Pororo - The Little Penguin</td>\n      <td>-1</td>\n      <td>0</td>\n      <td>South Korea</td>\n      <td>2019-04-19</td>\n      <td>2013</td>\n      <td>TV-Y</td>\n      <td>2 Seasons</td>\n      <td>Kids' TV, Korean TV Shows</td>\n      <td>On a tiny island, Pororo the penguin has fun a...</td>\n      <td>5.7</td>\n      <td>41.0</td>\n      <td>April</td>\n      <td>2019</td>\n    </tr>\n    <tr>\n      <th>6206</th>\n      <td>80173174</td>\n      <td>TV Show</td>\n      <td>Samantha!</td>\n      <td>-1</td>\n      <td>Emmanuelle Araújo, Douglas Silva, Sabrina Nona...</td>\n      <td>Brazil</td>\n      <td>2019-04-19</td>\n      <td>2019</td>\n      <td>TV-MA</td>\n      <td>2 Seasons</td>\n      <td>International TV Shows, TV Comedies</td>\n      <td>A child star in the '80s, Samantha clings to t...</td>\n      <td>6.5</td>\n      <td>428.0</td>\n      <td>April</td>\n      <td>2019</td>\n    </tr>\n    <tr>\n      <th>6207</th>\n      <td>80190407</td>\n      <td>TV Show</td>\n      <td>Murderous Affairs</td>\n      <td>-1</td>\n      <td>0</td>\n      <td>United States</td>\n      <td>2018-04-17</td>\n      <td>2017</td>\n      <td>TV-14</td>\n      <td>3 Seasons</td>\n      <td>Crime TV Shows, Docuseries</td>\n      <td>Mixing interviews with dramatic re-enactments,...</td>\n      <td>6.8</td>\n      <td>153.0</td>\n      <td>April</td>\n      <td>2018</td>\n    </tr>\n    <tr>\n      <th>6208</th>\n      <td>70227189</td>\n      <td>TV Show</td>\n      <td>Lost Girl</td>\n      <td>-1</td>\n      <td>Anna Silk, Kris Holden-Ried, Ksenia Solo, Rich...</td>\n      <td>Canada</td>\n      <td>2016-04-17</td>\n      <td>2015</td>\n      <td>TV-14</td>\n      <td>5 Seasons</td>\n      <td>TV Dramas, TV Horror, TV Mysteries</td>\n      <td>Discovering she's a succubus who sustains hers...</td>\n      <td>7.7</td>\n      <td>27777.0</td>\n      <td>April</td>\n      <td>2016</td>\n    </tr>\n    <tr>\n      <th>6209</th>\n      <td>70264078</td>\n      <td>TV Show</td>\n      <td>Mr. Young</td>\n      <td>-1</td>\n      <td>Brendan Meyer, Matreya Fedor, Gig Morton, Kurt...</td>\n      <td>Canada</td>\n      <td>2019-04-16</td>\n      <td>2013</td>\n      <td>TV-G</td>\n      <td>2 Seasons</td>\n      <td>Kids' TV, TV Comedies</td>\n      <td>After Adam graduates from college at age 14, h...</td>\n      <td>6.1</td>\n      <td>1138.0</td>\n      <td>April</td>\n      <td>2019</td>\n    </tr>\n    <tr>\n      <th>6210</th>\n      <td>80239700</td>\n      <td>TV Show</td>\n      <td>Psiconautas</td>\n      <td>Pedro Rivero</td>\n      <td>Guillermo Toledo, Gabriel Goity, Florencia Peñ...</td>\n      <td>Argentina</td>\n      <td>2018-04-15</td>\n      <td>2016</td>\n      <td>TV-MA</td>\n      <td>2 Seasons</td>\n      <td>International TV Shows, Spanish-Language TV Sh...</td>\n      <td>A Spanish con man masquerades as a therapist a...</td>\n      <td>7.0</td>\n      <td>101.0</td>\n      <td>April</td>\n      <td>2018</td>\n    </tr>\n    <tr>\n      <th>6211</th>\n      <td>80231523</td>\n      <td>TV Show</td>\n      <td>The Minimighty Kids</td>\n      <td>-1</td>\n      <td>0</td>\n      <td>France</td>\n      <td>2018-04-15</td>\n      <td>2012</td>\n      <td>TV-G</td>\n      <td>2 Seasons</td>\n      <td>Kids' TV, TV Comedies</td>\n      <td>Some have big feet or a sniffly nose, others a...</td>\n      <td>5.8</td>\n      <td>26.0</td>\n      <td>April</td>\n      <td>2018</td>\n    </tr>\n    <tr>\n      <th>6212</th>\n      <td>80126877</td>\n      <td>TV Show</td>\n      <td>Filinta</td>\n      <td>-1</td>\n      <td>Onur Tuna, Serhat Tutumluer, Mehmet Özgür, Naz...</td>\n      <td>Turkey</td>\n      <td>2017-04-15</td>\n      <td>2015</td>\n      <td>TV-14</td>\n      <td>2 Seasons</td>\n      <td>Crime TV Shows, International TV Shows, TV Act...</td>\n      <td>In 19th-century Istanbul, a young police offic...</td>\n      <td>6.7</td>\n      <td>2393.0</td>\n      <td>April</td>\n      <td>2017</td>\n    </tr>\n    <tr>\n      <th>6213</th>\n      <td>80126599</td>\n      <td>TV Show</td>\n      <td>Leyla and Mecnun</td>\n      <td>Onur Ünlü</td>\n      <td>Ali Atay, Melis Birkan, Serkan Keskin, Ahmet M...</td>\n      <td>Turkey</td>\n      <td>2017-04-15</td>\n      <td>2014</td>\n      <td>TV-PG</td>\n      <td>3 Seasons</td>\n      <td>International TV Shows, Romantic TV Shows, TV ...</td>\n      <td>Destiny brings Mecnun and Leyla together as ne...</td>\n      <td>9.1</td>\n      <td>85391.0</td>\n      <td>April</td>\n      <td>2017</td>\n    </tr>\n    <tr>\n      <th>6214</th>\n      <td>80049872</td>\n      <td>TV Show</td>\n      <td>Chelsea</td>\n      <td>-1</td>\n      <td>0</td>\n      <td>United States</td>\n      <td>2017-04-14</td>\n      <td>2017</td>\n      <td>TV-MA</td>\n      <td>2 Seasons</td>\n      <td>Stand-Up Comedy &amp; Talk Shows, TV Comedies</td>\n      <td>It's not her first talk show, but it is a firs...</td>\n      <td>6.1</td>\n      <td>1882.0</td>\n      <td>April</td>\n      <td>2017</td>\n    </tr>\n    <tr>\n      <th>6215</th>\n      <td>80066227</td>\n      <td>TV Show</td>\n      <td>Crazy Ex-Girlfriend</td>\n      <td>-1</td>\n      <td>Rachel Bloom, Vincent Rodriguez III, Santino F...</td>\n      <td>United States</td>\n      <td>2019-04-13</td>\n      <td>2019</td>\n      <td>TV-14</td>\n      <td>4 Seasons</td>\n      <td>Romantic TV Shows, TV Comedies</td>\n      <td>Still pining for Josh, the boy who dumped her ...</td>\n      <td>7.8</td>\n      <td>15228.0</td>\n      <td>April</td>\n      <td>2019</td>\n    </tr>\n    <tr>\n      <th>6216</th>\n      <td>80108373</td>\n      <td>TV Show</td>\n      <td>The Magic School Bus Rides Again</td>\n      <td>-1</td>\n      <td>Kate McKinnon, Miles Koseleci-Vieira, Mikaela ...</td>\n      <td>United States</td>\n      <td>2018-04-13</td>\n      <td>2018</td>\n      <td>TV-Y</td>\n      <td>2 Seasons</td>\n      <td>Kids' TV</td>\n      <td>Ms. Frizzle's kid sister Fiona takes the wheel...</td>\n      <td>6.2</td>\n      <td>553.0</td>\n      <td>April</td>\n      <td>2018</td>\n    </tr>\n    <tr>\n      <th>6217</th>\n      <td>70196145</td>\n      <td>TV Show</td>\n      <td>New Girl</td>\n      <td>-1</td>\n      <td>Zooey Deschanel, Jake Johnson, Max Greenfield,...</td>\n      <td>United States</td>\n      <td>2019-04-11</td>\n      <td>2017</td>\n      <td>TV-14</td>\n      <td>7 Seasons</td>\n      <td>Romantic TV Shows, TV Comedies</td>\n      <td>Still rebounding from a breakup, Jessica Day m...</td>\n      <td>7.7</td>\n      <td>175738.0</td>\n      <td>April</td>\n      <td>2019</td>\n    </tr>\n    <tr>\n      <th>6218</th>\n      <td>80162994</td>\n      <td>TV Show</td>\n      <td>Talking Tom and Friends</td>\n      <td>-1</td>\n      <td>Colin Hanks, Tom Kenny, James Adomian, Lisa Sc...</td>\n      <td>Cyprus, Austria, Thailand</td>\n      <td>2019-04-10</td>\n      <td>2017</td>\n      <td>TV-G</td>\n      <td>2 Seasons</td>\n      <td>Kids' TV, TV Comedies</td>\n      <td>Full of funny one-liners and always ready for ...</td>\n      <td>6.2</td>\n      <td>194.0</td>\n      <td>April</td>\n      <td>2019</td>\n    </tr>\n    <tr>\n      <th>6219</th>\n      <td>80186475</td>\n      <td>TV Show</td>\n      <td>Pokémon the Series</td>\n      <td>-1</td>\n      <td>Sarah Natochenny, Laurie Hymes, Jessica Paquet...</td>\n      <td>Japan</td>\n      <td>2019-04-01</td>\n      <td>2019</td>\n      <td>TV-Y7-FV</td>\n      <td>2 Seasons</td>\n      <td>Anime Series, Kids' TV</td>\n      <td>Ash and his Pikachu travel to the Alola region...</td>\n      <td>7.5</td>\n      <td>35370.0</td>\n      <td>April</td>\n      <td>2019</td>\n    </tr>\n    <tr>\n      <th>6220</th>\n      <td>70272742</td>\n      <td>TV Show</td>\n      <td>Justin Time</td>\n      <td>-1</td>\n      <td>Gage Munroe, Scott McCord, Jenna Warren</td>\n      <td>Canada</td>\n      <td>2016-04-01</td>\n      <td>2012</td>\n      <td>TV-Y</td>\n      <td>2 Seasons</td>\n      <td>Kids' TV</td>\n      <td>In Justin's dreams, he and his imaginary frien...</td>\n      <td>6.6</td>\n      <td>154.0</td>\n      <td>April</td>\n      <td>2016</td>\n    </tr>\n    <tr>\n      <th>6221</th>\n      <td>80067942</td>\n      <td>TV Show</td>\n      <td>Terrace House: Boys &amp; Girls in the City</td>\n      <td>-1</td>\n      <td>You, Reina Triendl, Ryota Yamasato, Yoshimi To...</td>\n      <td>Japan</td>\n      <td>2016-04-01</td>\n      <td>2016</td>\n      <td>TV-14</td>\n      <td>2 Seasons</td>\n      <td>International TV Shows, Reality TV</td>\n      <td>A new set of six men and women start their liv...</td>\n      <td>7.3</td>\n      <td>34.0</td>\n      <td>April</td>\n      <td>2016</td>\n    </tr>\n    <tr>\n      <th>6222</th>\n      <td>70136122</td>\n      <td>TV Show</td>\n      <td>Weeds</td>\n      <td>-1</td>\n      <td>Mary-Louise Parker, Hunter Parrish, Alexander ...</td>\n      <td>United States</td>\n      <td>2014-04-01</td>\n      <td>2012</td>\n      <td>TV-MA</td>\n      <td>8 Seasons</td>\n      <td>TV Comedies, TV Dramas</td>\n      <td>A suburban mother starts selling marijuana to ...</td>\n      <td>7.9</td>\n      <td>99777.0</td>\n      <td>April</td>\n      <td>2014</td>\n    </tr>\n  </tbody>\n</table>\n</div>"
     },
     "metadata": {},
     "execution_count": 82
    }
   ],
   "source": [
    "\n",
    "netflixWithoutMissingDate.tail(29)"
   ]
  },
  {
   "cell_type": "markdown",
   "metadata": {},
   "source": [
    "tu nevemo kaj nrdi"
   ]
  },
  {
   "cell_type": "code",
   "execution_count": null,
   "metadata": {},
   "outputs": [],
   "source": [
    "#netflix1.to_csv(\"/Users/gregorsink/Desktop/PR Projekt/PR19KKZDBMPBPGS/Netflix_all.csv\", index=False)\n",
    "netflixContentByYears = netflix1.groupby(['year_added'])['year_added'].agg(['count'])\n",
    "netflixContentByYears = netflixContentByYears.reset_index()\n",
    "netflixContentByYears.drop([0])\n",
    "\n",
    "#netflixContentByYears.set_index('index')"
   ]
  },
  {
   "cell_type": "code",
   "execution_count": null,
   "metadata": {},
   "outputs": [],
   "source": [
    "#netflix1 = netflix1.sort_values(by='date_added', ascending=False)\n",
    "#netflix1 = pd.to_datetime(netflix1['date_added'], dayfirst=True)\n",
    "#netflix1['date_added'] = pd.to_datetime(netflix1['date_added']).dt.year\n",
    "#netflix1['Year'] = pd.DatetimeIndex(netflix1['date_added']).month \n",
    "#tv_show = df[df[\"type\"] == \"TV Show\"]\n",
    "#movies = df[df[\"type\"] == \"Movie\"]\n",
    "for index, row in netflix1.iterrows():\n",
    "    if(row['date_added'] != '0'):\n",
    "        aaa = row['date_added']\n",
    "        new = aaa.split(\"-\")\n",
    "        netflix1.loc[index, \"month_added\"]= new[1]\n",
    "        netflix1[index, \"year_added\"]= new[2] \n",
    "        "
   ]
  }
 ],
 "metadata": {
  "language_info": {
   "codemirror_mode": {
    "name": "ipython",
    "version": 3
   },
   "file_extension": ".py",
   "mimetype": "text/x-python",
   "name": "python",
   "nbconvert_exporter": "python",
   "pygments_lexer": "ipython3",
   "version": "3.8.2-final"
  },
  "orig_nbformat": 2,
  "kernelspec": {
   "name": "python38232bit0f273536a880427981ba134bca0553b7",
   "display_name": "Python 3.8.2 32-bit"
  }
 },
 "nbformat": 4,
 "nbformat_minor": 2
}