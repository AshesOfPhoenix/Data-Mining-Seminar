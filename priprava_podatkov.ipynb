{
 "cells": [
  {
   "cell_type": "code",
   "execution_count": 2,
   "metadata": {},
   "outputs": [],
   "source": [
    "import numpy as np\n",
    "import pandas as pd \n",
    "from datetime import datetime\n",
    "\n",
    "%matplotlib inline\n",
    "import matplotlib\n",
    "%config InlineBackend.figure_format = 'jpg'\n",
    "matplotlib.figure.Figure.__repr__ = lambda self: (\n",
    "    f\"<{self.__class__.__name__} size {self.bbox.size[0]:g}\"\n",
    "    f\"x{self.bbox.size[1]:g} with {len(self.axes)} Axes>\")\n",
    "import matplotlib.pyplot as plt"
   ]
  },
  {
   "cell_type": "markdown",
   "metadata": {},
   "source": [
    "Branje podatkov"
   ]
  },
  {
   "cell_type": "code",
   "execution_count": null,
   "metadata": {},
   "outputs": [],
   "source": [
    "netflix = pd.read_csv(\"Data\\\\netflix_titles.csv\")\n",
    "\n",
    "movies = pd.read_csv(\"Data\\\\akas.csv\")\n",
    "ratings = pd.read_csv(\"Data\\\\ratings.csv\")\n",
    "names = pd.read_csv(\"Data\\\\names_basic.csv\")\n",
    "\n",
    "crew=pd.read_csv(\"Data\\\\crew.csv\")\n",
    "crew.rename(columns = {'tconst':'titleId'}, inplace = True) \n",
    "\n",
    "director_names_and_stats=pd.read_csv(\"Data\\\\namebasics.csv\")\n",
    "director_names_and_stats.rename(columns = {'tconst':'titleId'}, inplace = True) "
   ]
  },
  {
   "cell_type": "code",
   "execution_count": null,
   "metadata": {},
   "outputs": [],
   "source": [
    "ratings = ratings.rename(columns = {'tconst':'titleId'})\n",
    "originals = movies[movies[\"types\"] == \"original\"]\n",
    "originals = originals[[\"titleId\", \"title\"]]\n",
    "originals = originals.merge(ratings, on=\"titleId\")\n",
    "\n",
    "projekt = originals.merge(crew[[\"titleId\",\"directors\"]], on=\"titleId\")\n",
    "\n",
    "originals = originals.rename(columns = {'tconst':'title'})\n",
    "netflix = netflix.merge(originals, on=\"title\")\n"
   ]
  },
  {
   "cell_type": "code",
   "execution_count": null,
   "metadata": {},
   "outputs": [],
   "source": [
    "def najdi(table):\n",
    "    if table.empty:\n",
    "        return table\n",
    "    else:\n",
    "        return table.iloc[table[\"numVotes\"].argmax()]\n",
    "\n",
    "def getMovieDirID(MovieName):\n",
    "    for index, row in projekt.iterrows():\n",
    "        if (projekt.loc[index, row[\"titleId\"]] == MovieName):\n",
    "            return projekt.loc[index, row[\"directors\"]]\n",
    "\n",
    "def getDirector(dirID):\n",
    "    df=director_names_and_stats[[\"nconst\",\"primaryName\"]]\n",
    "    for index, row in df.iterrows():     \n",
    "        if(df.loc[index, row[\"nconst\"]] == dirID):\n",
    "            return df.loc[index,\"primaryName\"]\n",
    "            "
   ]
  },
  {
   "cell_type": "code",
   "execution_count": null,
   "metadata": {},
   "outputs": [],
   "source": [
    "netflix1=netflix.fillna(0)"
   ]
  },
  {
   "cell_type": "code",
   "execution_count": null,
   "metadata": {},
   "outputs": [],
   "source": [
    "i = 0\n",
    "for idx, naslov in enumerate(netflix1[\"title\"]):\n",
    "    i += 1\n",
    "    table = originals[originals[\"title\"] == naslov]\n",
    "    if table.empty:\n",
    "        pass\n",
    "    else:\n",
    "        a = najdi(originals[originals[\"title\"] == naslov])\n",
    "        netflix1.loc[idx, \"averageRating\"] = a[\"averageRating\"]\n",
    "        netflix1.loc[idx, \"numVotes\"] = a[\"numVotes\"]"
   ]
  },
  {
   "cell_type": "markdown",
   "metadata": {},
   "source": [
    "Preberemo imdb bazo za mankajoce podatke"
   ]
  },
  {
   "cell_type": "code",
   "execution_count": null,
   "metadata": {},
   "outputs": [],
   "source": [
    "from imdb import IMDb\n",
    "from imdb import IMDbDataAccessError\n",
    "\n",
    "movs = IMDb()\n",
    "i = 0\n",
    "\n",
    "for idx, naslov in enumerate(netflix1[\"title\"]):\n",
    "    i += 1\n",
    "    if netflix1.loc[idx, \"director\"] == \"0\":\n",
    "        m = movs.search_movie(naslov)\n",
    "        if len(m) > 0:\n",
    "            try:\n",
    "                data = movs.get_movie(m[0].movieID)\n",
    "                netflix1.loc[idx, \"director\"] = data[\"director\"][0]['name']\n",
    "            except KeyError as e:\n",
    "                netflix1.loc[idx, \"director\"] = \"-1\"\n",
    "            except (URLError, IMDbDataAccessErro) as e:\n",
    "                print(data)\n",
    "    if i%100 == 0:\n",
    "        print(i)"
   ]
  },
  {
   "cell_type": "code",
   "execution_count": 15,
   "metadata": {},
   "outputs": [],
   "source": [
    "netflix1 = pd.read_csv(\"Netflix_all.csv\")\n",
    "#netflix1['date_added'].to_csv(\"D:\\\\OneDrive\\\\PhenixZeroPrime\\FRI\\\\2. Letnik 2. Semester\\\\Podatkovno Rudarjenje\\\\PR_Projektna\\\\PR19KZMBG\\\\datumi.csv\", index=False)\n"
   ]
  },
  {
   "cell_type": "markdown",
   "metadata": {},
   "source": [
    "Popravilo datumov"
   ]
  },
  {
   "cell_type": "code",
   "execution_count": 4,
   "metadata": {
    "tags": [
     "outputPrepend",
     "outputPrepend",
     "outputPrepend",
     "outputPrepend",
     "outputPrepend",
     "outputPrepend",
     "outputPrepend",
     "outputPrepend",
     "outputPrepend",
     "outputPrepend",
     "outputPrepend",
     "outputPrepend",
     "outputPrepend",
     "outputPrepend",
     "outputPrepend",
     "outputPrepend",
     "outputPrepend",
     "outputPrepend",
     "outputPrepend",
     "outputPrepend",
     "outputPrepend",
     "outputPrepend",
     "outputPrepend",
     "outputPrepend",
     "outputPrepend",
     "outputPrepend",
     "outputPrepend",
     "outputPrepend",
     "outputPrepend",
     "outputPrepend",
     "outputPrepend",
     "outputPrepend",
     "outputPrepend",
     "outputPrepend",
     "outputPrepend",
     "outputPrepend",
     "outputPrepend",
     "outputPrepend",
     "outputPrepend",
     "outputPrepend"
    ]
   },
   "outputs": [],
   "source": [
    "dic = {'January':'1', 'February':'2', 'March':'3', 'April':'4', 'May':'5', 'June':'6', 'July':'7', 'August':'8', 'September':'9', 'October':'10', 'November':'11', 'December':'12', '':'0'}\n",
    "netflix1['month_added'] = 0\n",
    "netflix1['year_added'] = 0\n",
    "for index, row in netflix1.iterrows():\n",
    "    if(row['date_added'] != \"0\"):  \n",
    "        monthDay_year = row['date_added'].split(\", \") #[September 9, 2019]\n",
    "        month_day = monthDay_year[0].split(\" \") #[September, 9]\n",
    "        if(len(month_day) == 2): #Če je split enak: month_day == [September, 9]\n",
    "            netflix1.loc[index, \"date_added\"] = \"%s/%s/%s\" % (dic[month_day[0]], month_day[1], monthDay_year[1])\n",
    "            try:\n",
    "                netflix1.loc[index, 'date_added'] = pd.to_datetime(netflix1.loc[index, 'date_added'], format=\"%m/%d/%Y\")\n",
    "            except (TypeError, ValueError) as e:\n",
    "                print(netflix1.loc[index, 'date_added'])\n",
    "            netflix1.loc[index, \"month_added\"]= month_day[0]\n",
    "            netflix1.loc[index, \"year_added\"]= monthDay_year[1]\n",
    "\n",
    "        elif(len(month_day) == 3): #Če je split napačen: month_day == ['', September, 9]\n",
    "            netflix1.loc[index, \"date_added\"] = \"%s/%s/%s\" % (dic[month_day[1]], month_day[2], monthDay_year[1])\n",
    "            try:\n",
    "                netflix1.loc[index, 'date_added'] = pd.to_datetime(netflix1.loc[index, 'date_added'], format=\"%m/%d/%Y\")\n",
    "            except (TypeError, ValueError) as e:\n",
    "                print(netflix1.loc[index, 'date_added'])\n",
    "                print(month_day[1]) \n",
    "            netflix1.loc[index, \"month_added\"]= month_day[1]\n",
    "            netflix1.loc[index, \"year_added\"]= monthDay_year[1]"
   ]
  },
  {
   "cell_type": "code",
   "execution_count": 10,
   "metadata": {},
   "outputs": [],
   "source": [
    "netflixWithoutMissingDate = netflix1[netflix1['date_added'] != '0']\n",
    "netflixWithoutMissingDate = netflixWithoutMissingDate.astype({'year_added': 'int64'})\n",
    "netflixWithoutMissingDate['date_added']= pd.to_datetime(netflixWithoutMissingDate['date_added'], format=\"%d/%m/%Y\") "
   ]
  },
  {
   "cell_type": "code",
   "execution_count": 19,
   "metadata": {},
   "outputs": [
    {
     "output_type": "execute_result",
     "data": {
      "text/plain": "       show_id     type                                        title  \\\n6205  80036747  TV Show                  Pororo - The Little Penguin   \n6206  80173174  TV Show                                    Samantha!   \n6207  80190407  TV Show                            Murderous Affairs   \n6208  70227189  TV Show                                    Lost Girl   \n6209  70264078  TV Show                                    Mr. Young   \n6210  80239700  TV Show                                  Psiconautas   \n6211  80231523  TV Show                          The Minimighty Kids   \n6212  80126877  TV Show                                      Filinta   \n6213  80126599  TV Show                             Leyla and Mecnun   \n6214  80049872  TV Show                                      Chelsea   \n6215  80066227  TV Show                          Crazy Ex-Girlfriend   \n6216  80108373  TV Show             The Magic School Bus Rides Again   \n6217  70196145  TV Show                                     New Girl   \n6218  80162994  TV Show                      Talking Tom and Friends   \n6219  80186475  TV Show                           Pokémon the Series   \n6220  70272742  TV Show                                  Justin Time   \n6221  80067942  TV Show      Terrace House: Boys & Girls in the City   \n6222  70136122  TV Show                                        Weeds   \n6223  70204989  TV Show                              Gunslinger Girl   \n6224  70304979  TV Show              Anthony Bourdain: Parts Unknown   \n6225  70153412  TV Show                                      Frasier   \n6226  70243132  TV Show                          La Familia P. Luche   \n6227  80005756  TV Show                 The Adventures of Figaro Pho   \n6228  80159925  TV Show                                     Kikoriki   \n6229  80000063  TV Show                                 Red vs. Blue   \n6230  70286564  TV Show                                        Maron   \n6231  80116008    Movie       Little Baby Bum: Nursery Rhyme Friends   \n6232  70281022  TV Show  A Young Doctor's Notebook and Other Stories   \n6233  70153404  TV Show                                      Friends   \n\n          director                                               cast  \\\n6205            -1                                                  0   \n6206            -1  Emmanuelle Araújo, Douglas Silva, Sabrina Nona...   \n6207            -1                                                  0   \n6208            -1  Anna Silk, Kris Holden-Ried, Ksenia Solo, Rich...   \n6209            -1  Brendan Meyer, Matreya Fedor, Gig Morton, Kurt...   \n6210  Pedro Rivero  Guillermo Toledo, Gabriel Goity, Florencia Peñ...   \n6211            -1                                                  0   \n6212            -1  Onur Tuna, Serhat Tutumluer, Mehmet Özgür, Naz...   \n6213     Onur Ünlü  Ali Atay, Melis Birkan, Serkan Keskin, Ahmet M...   \n6214            -1                                                  0   \n6215            -1  Rachel Bloom, Vincent Rodriguez III, Santino F...   \n6216            -1  Kate McKinnon, Miles Koseleci-Vieira, Mikaela ...   \n6217            -1  Zooey Deschanel, Jake Johnson, Max Greenfield,...   \n6218            -1  Colin Hanks, Tom Kenny, James Adomian, Lisa Sc...   \n6219            -1  Sarah Natochenny, Laurie Hymes, Jessica Paquet...   \n6220            -1            Gage Munroe, Scott McCord, Jenna Warren   \n6221            -1  You, Reina Triendl, Ryota Yamasato, Yoshimi To...   \n6222            -1  Mary-Louise Parker, Hunter Parrish, Alexander ...   \n6223            -1  Yuuka Nanri, Kanako Mitsuhashi, Eri Sendai, Am...   \n6224            -1                                   Anthony Bourdain   \n6225            -1  Kelsey Grammer, Jane Leeves, David Hyde Pierce...   \n6226            -1  Eugenio Derbez, Consuelo Duval, Luis Manuel Áv...   \n6227            -1  Luke Jurevicius, Craig Behenna, Charlotte Haml...   \n6228            -1                                      Igor Dmitriev   \n6229            -1  Burnie Burns, Jason Saldaña, Gustavo Sorola, G...   \n6230            -1  Marc Maron, Judd Hirsch, Josh Brener, Nora Zeh...   \n6231            -1                                                  0   \n6232            -1  Daniel Radcliffe, Jon Hamm, Adam Godley, Chris...   \n6233            -1  Jennifer Aniston, Courteney Cox, Lisa Kudrow, ...   \n\n                        country date_added  release_year    rating  \\\n6205                South Korea 2019-04-19          2013      TV-Y   \n6206                     Brazil 2019-04-19          2019     TV-MA   \n6207              United States 2018-04-17          2017     TV-14   \n6208                     Canada 2016-04-17          2015     TV-14   \n6209                     Canada 2019-04-16          2013      TV-G   \n6210                  Argentina 2018-04-15          2016     TV-MA   \n6211                     France 2018-04-15          2012      TV-G   \n6212                     Turkey 2017-04-15          2015     TV-14   \n6213                     Turkey 2017-04-15          2014     TV-PG   \n6214              United States 2017-04-14          2017     TV-MA   \n6215              United States 2019-04-13          2019     TV-14   \n6216              United States 2018-04-13          2018      TV-Y   \n6217              United States 2019-04-11          2017     TV-14   \n6218  Cyprus, Austria, Thailand 2019-04-10          2017      TV-G   \n6219                      Japan 2019-04-01          2019  TV-Y7-FV   \n6220                     Canada 2016-04-01          2012      TV-Y   \n6221                      Japan 2016-04-01          2016     TV-14   \n6222              United States 2014-04-01          2012     TV-MA   \n6223                      Japan        NaT          2008     TV-14   \n6224              United States        NaT          2018     TV-PG   \n6225              United States        NaT          2003     TV-PG   \n6226              United States        NaT          2012     TV-14   \n6227                  Australia        NaT          2015     TV-Y7   \n6228                          0        NaT          2010      TV-Y   \n6229              United States        NaT          2015        NR   \n6230              United States        NaT          2016     TV-MA   \n6231                          0        NaT          2016         0   \n6232             United Kingdom        NaT          2013     TV-MA   \n6233              United States        NaT          2003     TV-14   \n\n        duration                                          listed_in  \\\n6205   2 Seasons                          Kids' TV, Korean TV Shows   \n6206   2 Seasons                International TV Shows, TV Comedies   \n6207   3 Seasons                         Crime TV Shows, Docuseries   \n6208   5 Seasons                 TV Dramas, TV Horror, TV Mysteries   \n6209   2 Seasons                              Kids' TV, TV Comedies   \n6210   2 Seasons  International TV Shows, Spanish-Language TV Sh...   \n6211   2 Seasons                              Kids' TV, TV Comedies   \n6212   2 Seasons  Crime TV Shows, International TV Shows, TV Act...   \n6213   3 Seasons  International TV Shows, Romantic TV Shows, TV ...   \n6214   2 Seasons          Stand-Up Comedy & Talk Shows, TV Comedies   \n6215   4 Seasons                     Romantic TV Shows, TV Comedies   \n6216   2 Seasons                                           Kids' TV   \n6217   7 Seasons                     Romantic TV Shows, TV Comedies   \n6218   2 Seasons                              Kids' TV, TV Comedies   \n6219   2 Seasons                             Anime Series, Kids' TV   \n6220   2 Seasons                                           Kids' TV   \n6221   2 Seasons                 International TV Shows, Reality TV   \n6222   8 Seasons                             TV Comedies, TV Dramas   \n6223   2 Seasons                       Anime Series, Crime TV Shows   \n6224   5 Seasons                                         Docuseries   \n6225  11 Seasons                     Classic & Cult TV, TV Comedies   \n6226   3 Seasons  International TV Shows, Spanish-Language TV Sh...   \n6227   2 Seasons                              Kids' TV, TV Comedies   \n6228   2 Seasons                                           Kids' TV   \n6229  13 Seasons  TV Action & Adventure, TV Comedies, TV Sci-Fi ...   \n6230   4 Seasons                                        TV Comedies   \n6231      60 min                                             Movies   \n6232   2 Seasons           British TV Shows, TV Comedies, TV Dramas   \n6233  10 Seasons                     Classic & Cult TV, TV Comedies   \n\n                                            description  averageRating  \\\n6205  On a tiny island, Pororo the penguin has fun a...            5.7   \n6206  A child star in the '80s, Samantha clings to t...            6.5   \n6207  Mixing interviews with dramatic re-enactments,...            6.8   \n6208  Discovering she's a succubus who sustains hers...            7.7   \n6209  After Adam graduates from college at age 14, h...            6.1   \n6210  A Spanish con man masquerades as a therapist a...            7.0   \n6211  Some have big feet or a sniffly nose, others a...            5.8   \n6212  In 19th-century Istanbul, a young police offic...            6.7   \n6213  Destiny brings Mecnun and Leyla together as ne...            9.1   \n6214  It's not her first talk show, but it is a firs...            6.1   \n6215  Still pining for Josh, the boy who dumped her ...            7.8   \n6216  Ms. Frizzle's kid sister Fiona takes the wheel...            6.2   \n6217  Still rebounding from a breakup, Jessica Day m...            7.7   \n6218  Full of funny one-liners and always ready for ...            6.2   \n6219  Ash and his Pikachu travel to the Alola region...            7.5   \n6220  In Justin's dreams, he and his imaginary frien...            6.6   \n6221  A new set of six men and women start their liv...            7.3   \n6222  A suburban mother starts selling marijuana to ...            7.9   \n6223  On the surface, the Social Welfare Agency appe...            7.4   \n6224  This CNN original series has chef Anthony Bour...            8.8   \n6225  Frasier Crane is a snooty but lovable Seattle ...            8.0   \n6226  This irreverent sitcom featues Ludovico, Feder...            7.7   \n6227  Imagine your worst fears, then multiply them: ...            7.4   \n6228  A wacky rabbit and his gang of animal pals hav...            7.5   \n6229  This parody of first-person shooter games, mil...            8.3   \n6230  Marc Maron stars as Marc Maron, who interviews...            7.7   \n6231  Nursery rhymes and original music for children...            5.0   \n6232  Set during the Russian Revolution, this comic ...            7.9   \n6233  This hit sitcom follows the merry misadventure...            8.9   \n\n      numVotes month_added  year_added  \n6205      41.0       April        2019  \n6206     428.0       April        2019  \n6207     153.0       April        2018  \n6208   27777.0       April        2016  \n6209    1138.0       April        2019  \n6210     101.0       April        2018  \n6211      26.0       April        2018  \n6212    2393.0       April        2017  \n6213   85391.0       April        2017  \n6214    1882.0       April        2017  \n6215   15228.0       April        2019  \n6216     553.0       April        2018  \n6217  175738.0       April        2019  \n6218     194.0       April        2019  \n6219   35370.0       April        2019  \n6220     154.0       April        2016  \n6221      34.0       April        2016  \n6222   99777.0       April        2014  \n6223    2022.0           0           0  \n6224    4252.0           0           0  \n6225   69925.0           0           0  \n6226     730.0           0           0  \n6227     131.0           0           0  \n6228     595.0           0           0  \n6229    8711.0           0           0  \n6230    4423.0           0           0  \n6231       6.0           0           0  \n6232   13839.0           0           0  \n6233  745757.0           0           0  ",
      "text/html": "<div>\n<style scoped>\n    .dataframe tbody tr th:only-of-type {\n        vertical-align: middle;\n    }\n\n    .dataframe tbody tr th {\n        vertical-align: top;\n    }\n\n    .dataframe thead th {\n        text-align: right;\n    }\n</style>\n<table border=\"1\" class=\"dataframe\">\n  <thead>\n    <tr style=\"text-align: right;\">\n      <th></th>\n      <th>show_id</th>\n      <th>type</th>\n      <th>title</th>\n      <th>director</th>\n      <th>cast</th>\n      <th>country</th>\n      <th>date_added</th>\n      <th>release_year</th>\n      <th>rating</th>\n      <th>duration</th>\n      <th>listed_in</th>\n      <th>description</th>\n      <th>averageRating</th>\n      <th>numVotes</th>\n      <th>month_added</th>\n      <th>year_added</th>\n    </tr>\n  </thead>\n  <tbody>\n    <tr>\n      <th>6205</th>\n      <td>80036747</td>\n      <td>TV Show</td>\n      <td>Pororo - The Little Penguin</td>\n      <td>-1</td>\n      <td>0</td>\n      <td>South Korea</td>\n      <td>2019-04-19</td>\n      <td>2013</td>\n      <td>TV-Y</td>\n      <td>2 Seasons</td>\n      <td>Kids' TV, Korean TV Shows</td>\n      <td>On a tiny island, Pororo the penguin has fun a...</td>\n      <td>5.7</td>\n      <td>41.0</td>\n      <td>April</td>\n      <td>2019</td>\n    </tr>\n    <tr>\n      <th>6206</th>\n      <td>80173174</td>\n      <td>TV Show</td>\n      <td>Samantha!</td>\n      <td>-1</td>\n      <td>Emmanuelle Araújo, Douglas Silva, Sabrina Nona...</td>\n      <td>Brazil</td>\n      <td>2019-04-19</td>\n      <td>2019</td>\n      <td>TV-MA</td>\n      <td>2 Seasons</td>\n      <td>International TV Shows, TV Comedies</td>\n      <td>A child star in the '80s, Samantha clings to t...</td>\n      <td>6.5</td>\n      <td>428.0</td>\n      <td>April</td>\n      <td>2019</td>\n    </tr>\n    <tr>\n      <th>6207</th>\n      <td>80190407</td>\n      <td>TV Show</td>\n      <td>Murderous Affairs</td>\n      <td>-1</td>\n      <td>0</td>\n      <td>United States</td>\n      <td>2018-04-17</td>\n      <td>2017</td>\n      <td>TV-14</td>\n      <td>3 Seasons</td>\n      <td>Crime TV Shows, Docuseries</td>\n      <td>Mixing interviews with dramatic re-enactments,...</td>\n      <td>6.8</td>\n      <td>153.0</td>\n      <td>April</td>\n      <td>2018</td>\n    </tr>\n    <tr>\n      <th>6208</th>\n      <td>70227189</td>\n      <td>TV Show</td>\n      <td>Lost Girl</td>\n      <td>-1</td>\n      <td>Anna Silk, Kris Holden-Ried, Ksenia Solo, Rich...</td>\n      <td>Canada</td>\n      <td>2016-04-17</td>\n      <td>2015</td>\n      <td>TV-14</td>\n      <td>5 Seasons</td>\n      <td>TV Dramas, TV Horror, TV Mysteries</td>\n      <td>Discovering she's a succubus who sustains hers...</td>\n      <td>7.7</td>\n      <td>27777.0</td>\n      <td>April</td>\n      <td>2016</td>\n    </tr>\n    <tr>\n      <th>6209</th>\n      <td>70264078</td>\n      <td>TV Show</td>\n      <td>Mr. Young</td>\n      <td>-1</td>\n      <td>Brendan Meyer, Matreya Fedor, Gig Morton, Kurt...</td>\n      <td>Canada</td>\n      <td>2019-04-16</td>\n      <td>2013</td>\n      <td>TV-G</td>\n      <td>2 Seasons</td>\n      <td>Kids' TV, TV Comedies</td>\n      <td>After Adam graduates from college at age 14, h...</td>\n      <td>6.1</td>\n      <td>1138.0</td>\n      <td>April</td>\n      <td>2019</td>\n    </tr>\n    <tr>\n      <th>6210</th>\n      <td>80239700</td>\n      <td>TV Show</td>\n      <td>Psiconautas</td>\n      <td>Pedro Rivero</td>\n      <td>Guillermo Toledo, Gabriel Goity, Florencia Peñ...</td>\n      <td>Argentina</td>\n      <td>2018-04-15</td>\n      <td>2016</td>\n      <td>TV-MA</td>\n      <td>2 Seasons</td>\n      <td>International TV Shows, Spanish-Language TV Sh...</td>\n      <td>A Spanish con man masquerades as a therapist a...</td>\n      <td>7.0</td>\n      <td>101.0</td>\n      <td>April</td>\n      <td>2018</td>\n    </tr>\n    <tr>\n      <th>6211</th>\n      <td>80231523</td>\n      <td>TV Show</td>\n      <td>The Minimighty Kids</td>\n      <td>-1</td>\n      <td>0</td>\n      <td>France</td>\n      <td>2018-04-15</td>\n      <td>2012</td>\n      <td>TV-G</td>\n      <td>2 Seasons</td>\n      <td>Kids' TV, TV Comedies</td>\n      <td>Some have big feet or a sniffly nose, others a...</td>\n      <td>5.8</td>\n      <td>26.0</td>\n      <td>April</td>\n      <td>2018</td>\n    </tr>\n    <tr>\n      <th>6212</th>\n      <td>80126877</td>\n      <td>TV Show</td>\n      <td>Filinta</td>\n      <td>-1</td>\n      <td>Onur Tuna, Serhat Tutumluer, Mehmet Özgür, Naz...</td>\n      <td>Turkey</td>\n      <td>2017-04-15</td>\n      <td>2015</td>\n      <td>TV-14</td>\n      <td>2 Seasons</td>\n      <td>Crime TV Shows, International TV Shows, TV Act...</td>\n      <td>In 19th-century Istanbul, a young police offic...</td>\n      <td>6.7</td>\n      <td>2393.0</td>\n      <td>April</td>\n      <td>2017</td>\n    </tr>\n    <tr>\n      <th>6213</th>\n      <td>80126599</td>\n      <td>TV Show</td>\n      <td>Leyla and Mecnun</td>\n      <td>Onur Ünlü</td>\n      <td>Ali Atay, Melis Birkan, Serkan Keskin, Ahmet M...</td>\n      <td>Turkey</td>\n      <td>2017-04-15</td>\n      <td>2014</td>\n      <td>TV-PG</td>\n      <td>3 Seasons</td>\n      <td>International TV Shows, Romantic TV Shows, TV ...</td>\n      <td>Destiny brings Mecnun and Leyla together as ne...</td>\n      <td>9.1</td>\n      <td>85391.0</td>\n      <td>April</td>\n      <td>2017</td>\n    </tr>\n    <tr>\n      <th>6214</th>\n      <td>80049872</td>\n      <td>TV Show</td>\n      <td>Chelsea</td>\n      <td>-1</td>\n      <td>0</td>\n      <td>United States</td>\n      <td>2017-04-14</td>\n      <td>2017</td>\n      <td>TV-MA</td>\n      <td>2 Seasons</td>\n      <td>Stand-Up Comedy &amp; Talk Shows, TV Comedies</td>\n      <td>It's not her first talk show, but it is a firs...</td>\n      <td>6.1</td>\n      <td>1882.0</td>\n      <td>April</td>\n      <td>2017</td>\n    </tr>\n    <tr>\n      <th>6215</th>\n      <td>80066227</td>\n      <td>TV Show</td>\n      <td>Crazy Ex-Girlfriend</td>\n      <td>-1</td>\n      <td>Rachel Bloom, Vincent Rodriguez III, Santino F...</td>\n      <td>United States</td>\n      <td>2019-04-13</td>\n      <td>2019</td>\n      <td>TV-14</td>\n      <td>4 Seasons</td>\n      <td>Romantic TV Shows, TV Comedies</td>\n      <td>Still pining for Josh, the boy who dumped her ...</td>\n      <td>7.8</td>\n      <td>15228.0</td>\n      <td>April</td>\n      <td>2019</td>\n    </tr>\n    <tr>\n      <th>6216</th>\n      <td>80108373</td>\n      <td>TV Show</td>\n      <td>The Magic School Bus Rides Again</td>\n      <td>-1</td>\n      <td>Kate McKinnon, Miles Koseleci-Vieira, Mikaela ...</td>\n      <td>United States</td>\n      <td>2018-04-13</td>\n      <td>2018</td>\n      <td>TV-Y</td>\n      <td>2 Seasons</td>\n      <td>Kids' TV</td>\n      <td>Ms. Frizzle's kid sister Fiona takes the wheel...</td>\n      <td>6.2</td>\n      <td>553.0</td>\n      <td>April</td>\n      <td>2018</td>\n    </tr>\n    <tr>\n      <th>6217</th>\n      <td>70196145</td>\n      <td>TV Show</td>\n      <td>New Girl</td>\n      <td>-1</td>\n      <td>Zooey Deschanel, Jake Johnson, Max Greenfield,...</td>\n      <td>United States</td>\n      <td>2019-04-11</td>\n      <td>2017</td>\n      <td>TV-14</td>\n      <td>7 Seasons</td>\n      <td>Romantic TV Shows, TV Comedies</td>\n      <td>Still rebounding from a breakup, Jessica Day m...</td>\n      <td>7.7</td>\n      <td>175738.0</td>\n      <td>April</td>\n      <td>2019</td>\n    </tr>\n    <tr>\n      <th>6218</th>\n      <td>80162994</td>\n      <td>TV Show</td>\n      <td>Talking Tom and Friends</td>\n      <td>-1</td>\n      <td>Colin Hanks, Tom Kenny, James Adomian, Lisa Sc...</td>\n      <td>Cyprus, Austria, Thailand</td>\n      <td>2019-04-10</td>\n      <td>2017</td>\n      <td>TV-G</td>\n      <td>2 Seasons</td>\n      <td>Kids' TV, TV Comedies</td>\n      <td>Full of funny one-liners and always ready for ...</td>\n      <td>6.2</td>\n      <td>194.0</td>\n      <td>April</td>\n      <td>2019</td>\n    </tr>\n    <tr>\n      <th>6219</th>\n      <td>80186475</td>\n      <td>TV Show</td>\n      <td>Pokémon the Series</td>\n      <td>-1</td>\n      <td>Sarah Natochenny, Laurie Hymes, Jessica Paquet...</td>\n      <td>Japan</td>\n      <td>2019-04-01</td>\n      <td>2019</td>\n      <td>TV-Y7-FV</td>\n      <td>2 Seasons</td>\n      <td>Anime Series, Kids' TV</td>\n      <td>Ash and his Pikachu travel to the Alola region...</td>\n      <td>7.5</td>\n      <td>35370.0</td>\n      <td>April</td>\n      <td>2019</td>\n    </tr>\n    <tr>\n      <th>6220</th>\n      <td>70272742</td>\n      <td>TV Show</td>\n      <td>Justin Time</td>\n      <td>-1</td>\n      <td>Gage Munroe, Scott McCord, Jenna Warren</td>\n      <td>Canada</td>\n      <td>2016-04-01</td>\n      <td>2012</td>\n      <td>TV-Y</td>\n      <td>2 Seasons</td>\n      <td>Kids' TV</td>\n      <td>In Justin's dreams, he and his imaginary frien...</td>\n      <td>6.6</td>\n      <td>154.0</td>\n      <td>April</td>\n      <td>2016</td>\n    </tr>\n    <tr>\n      <th>6221</th>\n      <td>80067942</td>\n      <td>TV Show</td>\n      <td>Terrace House: Boys &amp; Girls in the City</td>\n      <td>-1</td>\n      <td>You, Reina Triendl, Ryota Yamasato, Yoshimi To...</td>\n      <td>Japan</td>\n      <td>2016-04-01</td>\n      <td>2016</td>\n      <td>TV-14</td>\n      <td>2 Seasons</td>\n      <td>International TV Shows, Reality TV</td>\n      <td>A new set of six men and women start their liv...</td>\n      <td>7.3</td>\n      <td>34.0</td>\n      <td>April</td>\n      <td>2016</td>\n    </tr>\n    <tr>\n      <th>6222</th>\n      <td>70136122</td>\n      <td>TV Show</td>\n      <td>Weeds</td>\n      <td>-1</td>\n      <td>Mary-Louise Parker, Hunter Parrish, Alexander ...</td>\n      <td>United States</td>\n      <td>2014-04-01</td>\n      <td>2012</td>\n      <td>TV-MA</td>\n      <td>8 Seasons</td>\n      <td>TV Comedies, TV Dramas</td>\n      <td>A suburban mother starts selling marijuana to ...</td>\n      <td>7.9</td>\n      <td>99777.0</td>\n      <td>April</td>\n      <td>2014</td>\n    </tr>\n    <tr>\n      <th>6223</th>\n      <td>70204989</td>\n      <td>TV Show</td>\n      <td>Gunslinger Girl</td>\n      <td>-1</td>\n      <td>Yuuka Nanri, Kanako Mitsuhashi, Eri Sendai, Am...</td>\n      <td>Japan</td>\n      <td>NaT</td>\n      <td>2008</td>\n      <td>TV-14</td>\n      <td>2 Seasons</td>\n      <td>Anime Series, Crime TV Shows</td>\n      <td>On the surface, the Social Welfare Agency appe...</td>\n      <td>7.4</td>\n      <td>2022.0</td>\n      <td>0</td>\n      <td>0</td>\n    </tr>\n    <tr>\n      <th>6224</th>\n      <td>70304979</td>\n      <td>TV Show</td>\n      <td>Anthony Bourdain: Parts Unknown</td>\n      <td>-1</td>\n      <td>Anthony Bourdain</td>\n      <td>United States</td>\n      <td>NaT</td>\n      <td>2018</td>\n      <td>TV-PG</td>\n      <td>5 Seasons</td>\n      <td>Docuseries</td>\n      <td>This CNN original series has chef Anthony Bour...</td>\n      <td>8.8</td>\n      <td>4252.0</td>\n      <td>0</td>\n      <td>0</td>\n    </tr>\n    <tr>\n      <th>6225</th>\n      <td>70153412</td>\n      <td>TV Show</td>\n      <td>Frasier</td>\n      <td>-1</td>\n      <td>Kelsey Grammer, Jane Leeves, David Hyde Pierce...</td>\n      <td>United States</td>\n      <td>NaT</td>\n      <td>2003</td>\n      <td>TV-PG</td>\n      <td>11 Seasons</td>\n      <td>Classic &amp; Cult TV, TV Comedies</td>\n      <td>Frasier Crane is a snooty but lovable Seattle ...</td>\n      <td>8.0</td>\n      <td>69925.0</td>\n      <td>0</td>\n      <td>0</td>\n    </tr>\n    <tr>\n      <th>6226</th>\n      <td>70243132</td>\n      <td>TV Show</td>\n      <td>La Familia P. Luche</td>\n      <td>-1</td>\n      <td>Eugenio Derbez, Consuelo Duval, Luis Manuel Áv...</td>\n      <td>United States</td>\n      <td>NaT</td>\n      <td>2012</td>\n      <td>TV-14</td>\n      <td>3 Seasons</td>\n      <td>International TV Shows, Spanish-Language TV Sh...</td>\n      <td>This irreverent sitcom featues Ludovico, Feder...</td>\n      <td>7.7</td>\n      <td>730.0</td>\n      <td>0</td>\n      <td>0</td>\n    </tr>\n    <tr>\n      <th>6227</th>\n      <td>80005756</td>\n      <td>TV Show</td>\n      <td>The Adventures of Figaro Pho</td>\n      <td>-1</td>\n      <td>Luke Jurevicius, Craig Behenna, Charlotte Haml...</td>\n      <td>Australia</td>\n      <td>NaT</td>\n      <td>2015</td>\n      <td>TV-Y7</td>\n      <td>2 Seasons</td>\n      <td>Kids' TV, TV Comedies</td>\n      <td>Imagine your worst fears, then multiply them: ...</td>\n      <td>7.4</td>\n      <td>131.0</td>\n      <td>0</td>\n      <td>0</td>\n    </tr>\n    <tr>\n      <th>6228</th>\n      <td>80159925</td>\n      <td>TV Show</td>\n      <td>Kikoriki</td>\n      <td>-1</td>\n      <td>Igor Dmitriev</td>\n      <td>0</td>\n      <td>NaT</td>\n      <td>2010</td>\n      <td>TV-Y</td>\n      <td>2 Seasons</td>\n      <td>Kids' TV</td>\n      <td>A wacky rabbit and his gang of animal pals hav...</td>\n      <td>7.5</td>\n      <td>595.0</td>\n      <td>0</td>\n      <td>0</td>\n    </tr>\n    <tr>\n      <th>6229</th>\n      <td>80000063</td>\n      <td>TV Show</td>\n      <td>Red vs. Blue</td>\n      <td>-1</td>\n      <td>Burnie Burns, Jason Saldaña, Gustavo Sorola, G...</td>\n      <td>United States</td>\n      <td>NaT</td>\n      <td>2015</td>\n      <td>NR</td>\n      <td>13 Seasons</td>\n      <td>TV Action &amp; Adventure, TV Comedies, TV Sci-Fi ...</td>\n      <td>This parody of first-person shooter games, mil...</td>\n      <td>8.3</td>\n      <td>8711.0</td>\n      <td>0</td>\n      <td>0</td>\n    </tr>\n    <tr>\n      <th>6230</th>\n      <td>70286564</td>\n      <td>TV Show</td>\n      <td>Maron</td>\n      <td>-1</td>\n      <td>Marc Maron, Judd Hirsch, Josh Brener, Nora Zeh...</td>\n      <td>United States</td>\n      <td>NaT</td>\n      <td>2016</td>\n      <td>TV-MA</td>\n      <td>4 Seasons</td>\n      <td>TV Comedies</td>\n      <td>Marc Maron stars as Marc Maron, who interviews...</td>\n      <td>7.7</td>\n      <td>4423.0</td>\n      <td>0</td>\n      <td>0</td>\n    </tr>\n    <tr>\n      <th>6231</th>\n      <td>80116008</td>\n      <td>Movie</td>\n      <td>Little Baby Bum: Nursery Rhyme Friends</td>\n      <td>-1</td>\n      <td>0</td>\n      <td>0</td>\n      <td>NaT</td>\n      <td>2016</td>\n      <td>0</td>\n      <td>60 min</td>\n      <td>Movies</td>\n      <td>Nursery rhymes and original music for children...</td>\n      <td>5.0</td>\n      <td>6.0</td>\n      <td>0</td>\n      <td>0</td>\n    </tr>\n    <tr>\n      <th>6232</th>\n      <td>70281022</td>\n      <td>TV Show</td>\n      <td>A Young Doctor's Notebook and Other Stories</td>\n      <td>-1</td>\n      <td>Daniel Radcliffe, Jon Hamm, Adam Godley, Chris...</td>\n      <td>United Kingdom</td>\n      <td>NaT</td>\n      <td>2013</td>\n      <td>TV-MA</td>\n      <td>2 Seasons</td>\n      <td>British TV Shows, TV Comedies, TV Dramas</td>\n      <td>Set during the Russian Revolution, this comic ...</td>\n      <td>7.9</td>\n      <td>13839.0</td>\n      <td>0</td>\n      <td>0</td>\n    </tr>\n    <tr>\n      <th>6233</th>\n      <td>70153404</td>\n      <td>TV Show</td>\n      <td>Friends</td>\n      <td>-1</td>\n      <td>Jennifer Aniston, Courteney Cox, Lisa Kudrow, ...</td>\n      <td>United States</td>\n      <td>NaT</td>\n      <td>2003</td>\n      <td>TV-14</td>\n      <td>10 Seasons</td>\n      <td>Classic &amp; Cult TV, TV Comedies</td>\n      <td>This hit sitcom follows the merry misadventure...</td>\n      <td>8.9</td>\n      <td>745757.0</td>\n      <td>0</td>\n      <td>0</td>\n    </tr>\n  </tbody>\n</table>\n</div>"
     },
     "metadata": {},
     "execution_count": 19
    }
   ],
   "source": [
    "netflix1 = netflix1.astype({'year_added': 'int64'})\n",
    "netflix1['date_added']= pd.to_datetime(netflix1['date_added'], format=\"%Y/%m/%d\", errors='coerce') \n",
    "netflix1.tail(29)"
   ]
  },
  {
   "cell_type": "markdown",
   "metadata": {},
   "source": [
    "tu nevemo kaj nrdi"
   ]
  },
  {
   "cell_type": "code",
   "execution_count": 20,
   "metadata": {},
   "outputs": [],
   "source": [
    "netflix1.to_csv(\"D:\\\\OneDrive\\\\PhenixZeroPrime\\FRI\\\\2. Letnik 2. Semester\\\\Podatkovno Rudarjenje\\\\PR_Projektna\\\\PR19KZMBG\\\\Netflix_all.csv\", index=False)"
   ]
  },
  {
   "cell_type": "code",
   "execution_count": null,
   "metadata": {},
   "outputs": [],
   "source": [
    "#netflix1 = netflix1.sort_values(by='date_added', ascending=False)\n",
    "#netflix1 = pd.to_datetime(netflix1['date_added'], dayfirst=True)\n",
    "#netflix1['date_added'] = pd.to_datetime(netflix1['date_added']).dt.year\n",
    "#netflix1['Year'] = pd.DatetimeIndex(netflix1['date_added']).month \n",
    "#tv_show = df[df[\"type\"] == \"TV Show\"]\n",
    "#movies = df[df[\"type\"] == \"Movie\"]\n",
    "for index, row in netflix1.iterrows():\n",
    "    if(row['date_added'] != '0'):\n",
    "        aaa = row['date_added']\n",
    "        new = aaa.split(\"-\")\n",
    "        netflix1.loc[index, \"month_added\"]= new[1]\n",
    "        netflix1[index, \"year_added\"]= new[2] \n",
    "        "
   ]
  }
 ],
 "metadata": {
  "language_info": {
   "codemirror_mode": {
    "name": "ipython",
    "version": 3
   },
   "file_extension": ".py",
   "mimetype": "text/x-python",
   "name": "python",
   "nbconvert_exporter": "python",
   "pygments_lexer": "ipython3",
   "version": "3.7.6-final"
  },
  "orig_nbformat": 2,
  "kernelspec": {
   "name": "python3",
   "display_name": "Python 3"
  }
 },
 "nbformat": 4,
 "nbformat_minor": 2
}