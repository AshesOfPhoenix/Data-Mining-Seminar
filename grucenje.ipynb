{
 "cells": [
  {
   "cell_type": "code",
   "execution_count": 1,
   "metadata": {},
   "outputs": [],
   "source": [
    "import numpy as np\n",
    "import pandas as pd \n",
    "from pandas import DataFrame\n",
    "import matplotlib.pyplot as plt\n",
    "baza=pd.read_csv(\"Netflix_all.csv\")\n"
   ]
  },
  {
   "cell_type": "code",
   "execution_count": 2,
   "metadata": {},
   "outputs": [],
   "source": [
    "seznam={}\n",
    "for jak,avg in baza[[\"listed_in\"]].iterrows():\n",
    "    for name in avg:\n",
    "        splitansez=name.split(\", \")\n",
    "        for sp in splitansez:\n",
    "            if sp not in seznam:\n",
    "                seznam[sp]=[]"
   ]
  },
  {
   "cell_type": "code",
   "execution_count": 3,
   "metadata": {},
   "outputs": [
    {
     "output_type": "execute_result",
     "data": {
      "text/plain": "42"
     },
     "metadata": {},
     "execution_count": 3
    }
   ],
   "source": [
    "len(seznam.keys())"
   ]
  },
  {
   "cell_type": "code",
   "execution_count": 4,
   "metadata": {},
   "outputs": [],
   "source": [
    "bb = baza.sort_values(by=['numVotes'], ascending=False)"
   ]
  },
  {
   "cell_type": "code",
   "execution_count": 5,
   "metadata": {},
   "outputs": [],
   "source": [
    "najboljpopularni=bb.head(100)"
   ]
  },
  {
   "cell_type": "code",
   "execution_count": 6,
   "metadata": {},
   "outputs": [
    {
     "output_type": "execute_result",
     "data": {
      "text/plain": "       show_id     type                                          title  \\\n3524  70131314    Movie                                      Inception   \n3628    880640    Movie                                   Pulp Fiction   \n3580  60004484    Movie  The Lord of the Rings: The Return of the King   \n3581  60004483    Movie          The Lord of the Rings: The Two Towers   \n6160  70143836  TV Show                                   Breaking Bad   \n...        ...      ...                                            ...   \n3543  70112500    Movie                                           Moon   \n3601  70100379    Movie                                        Yes Man   \n5054  70121522    Movie                                       3 Idiots   \n3588  60024914    Movie                                       The Ring   \n3596  70117902    Movie                                  Up in the Air   \n\n               director                                               cast  \\\n3524  Christopher Nolan  Leonardo DiCaprio, Joseph Gordon-Levitt, Ellen...   \n3628  Quentin Tarantino  John Travolta, Samuel L. Jackson, Uma Thurman,...   \n3580      Peter Jackson  Elijah Wood, Ian McKellen, Liv Tyler, Viggo Mo...   \n3581      Peter Jackson  Elijah Wood, Ian McKellen, Liv Tyler, Viggo Mo...   \n6160                 -1  Bryan Cranston, Aaron Paul, Anna Gunn, Dean No...   \n...                 ...                                                ...   \n3543       Duncan Jones  Sam Rockwell, Kevin Spacey, Dominique McElligo...   \n3601        Peyton Reed  Jim Carrey, Zooey Deschanel, Bradley Cooper, J...   \n5054    Rajkumar Hirani  Aamir Khan, Kareena Kapoor, Madhavan, Sharman ...   \n3588     Gore Verbinski  Naomi Watts, Martin Henderson, David Dorfman, ...   \n3596      Jason Reitman  George Clooney, Vera Farmiga, Anna Kendrick, J...   \n\n                            country  date_added  release_year rating  \\\n3524  United States, United Kingdom  2020-01-01          2010  PG-13   \n3628                  United States  2019-01-01          1994      R   \n3580     New Zealand, United States  2020-01-01          2003  PG-13   \n3581     New Zealand, United States  2020-01-01          2002  PG-13   \n6160                  United States  2013-08-02          2013  TV-MA   \n...                             ...         ...           ...    ...   \n3543  United Kingdom, United States  2020-01-01          2009      R   \n3601  United States, United Kingdom  2020-01-01          2008  PG-13   \n5054                          India  2019-08-01          2009  PG-13   \n3588                  United States  2020-01-01          2002  PG-13   \n3596                  United States  2020-01-01          2009      R   \n\n       duration                                        listed_in  \\\n3524    148 min  Action & Adventure, Sci-Fi & Fantasy, Thrillers   \n3628    154 min              Classic Movies, Cult Movies, Dramas   \n3580    201 min             Action & Adventure, Sci-Fi & Fantasy   \n3581    179 min             Action & Adventure, Sci-Fi & Fantasy   \n6160  5 Seasons          Crime TV Shows, TV Dramas, TV Thrillers   \n...         ...                                              ...   \n3543     97 min     Dramas, Independent Movies, Sci-Fi & Fantasy   \n3601    104 min                        Comedies, Romantic Movies   \n5054    164 min           Comedies, Dramas, International Movies   \n3588    116 min                         Horror Movies, Thrillers   \n3596    110 min                Comedies, Dramas, Romantic Movies   \n\n                                            description  averageRating  \\\n3524  In this mind-bending sci-fi thriller, a man ru...            8.8   \n3628  This stylized crime caper weaves together stor...            8.9   \n3580  Aragorn is revealed as the heir to the ancient...            8.9   \n3581  Frodo and Sam head to Mordor to destroy the On...            8.7   \n6160  A high school chemistry teacher dying of cance...            9.5   \n...                                                 ...            ...   \n3543  As he nears the end of a lonely three-year sti...            7.9   \n3601  After a bitter divorce, a bank drone falls und...            6.8   \n5054  While attending one of India's premier college...            8.4   \n3588  A reporter watches a video that supposedly set...            7.1   \n3596  Ryan Bingham flies around the country firing e...            7.4   \n\n       numVotes month_added  year_added  \n3524  1936206.0     January        2020  \n3628  1733848.0     January        2019  \n3580  1567633.0     January        2020  \n3581  1415496.0     January        2020  \n6160  1323484.0      August        2013  \n...         ...         ...         ...  \n3543   322684.0     January        2020  \n3601   322363.0     January        2020  \n5054   318965.0      August        2019  \n3588   309047.0     January        2020  \n3596   309012.0     January        2020  \n\n[100 rows x 16 columns]",
      "text/html": "<div>\n<style scoped>\n    .dataframe tbody tr th:only-of-type {\n        vertical-align: middle;\n    }\n\n    .dataframe tbody tr th {\n        vertical-align: top;\n    }\n\n    .dataframe thead th {\n        text-align: right;\n    }\n</style>\n<table border=\"1\" class=\"dataframe\">\n  <thead>\n    <tr style=\"text-align: right;\">\n      <th></th>\n      <th>show_id</th>\n      <th>type</th>\n      <th>title</th>\n      <th>director</th>\n      <th>cast</th>\n      <th>country</th>\n      <th>date_added</th>\n      <th>release_year</th>\n      <th>rating</th>\n      <th>duration</th>\n      <th>listed_in</th>\n      <th>description</th>\n      <th>averageRating</th>\n      <th>numVotes</th>\n      <th>month_added</th>\n      <th>year_added</th>\n    </tr>\n  </thead>\n  <tbody>\n    <tr>\n      <th>3524</th>\n      <td>70131314</td>\n      <td>Movie</td>\n      <td>Inception</td>\n      <td>Christopher Nolan</td>\n      <td>Leonardo DiCaprio, Joseph Gordon-Levitt, Ellen...</td>\n      <td>United States, United Kingdom</td>\n      <td>2020-01-01</td>\n      <td>2010</td>\n      <td>PG-13</td>\n      <td>148 min</td>\n      <td>Action &amp; Adventure, Sci-Fi &amp; Fantasy, Thrillers</td>\n      <td>In this mind-bending sci-fi thriller, a man ru...</td>\n      <td>8.8</td>\n      <td>1936206.0</td>\n      <td>January</td>\n      <td>2020</td>\n    </tr>\n    <tr>\n      <th>3628</th>\n      <td>880640</td>\n      <td>Movie</td>\n      <td>Pulp Fiction</td>\n      <td>Quentin Tarantino</td>\n      <td>John Travolta, Samuel L. Jackson, Uma Thurman,...</td>\n      <td>United States</td>\n      <td>2019-01-01</td>\n      <td>1994</td>\n      <td>R</td>\n      <td>154 min</td>\n      <td>Classic Movies, Cult Movies, Dramas</td>\n      <td>This stylized crime caper weaves together stor...</td>\n      <td>8.9</td>\n      <td>1733848.0</td>\n      <td>January</td>\n      <td>2019</td>\n    </tr>\n    <tr>\n      <th>3580</th>\n      <td>60004484</td>\n      <td>Movie</td>\n      <td>The Lord of the Rings: The Return of the King</td>\n      <td>Peter Jackson</td>\n      <td>Elijah Wood, Ian McKellen, Liv Tyler, Viggo Mo...</td>\n      <td>New Zealand, United States</td>\n      <td>2020-01-01</td>\n      <td>2003</td>\n      <td>PG-13</td>\n      <td>201 min</td>\n      <td>Action &amp; Adventure, Sci-Fi &amp; Fantasy</td>\n      <td>Aragorn is revealed as the heir to the ancient...</td>\n      <td>8.9</td>\n      <td>1567633.0</td>\n      <td>January</td>\n      <td>2020</td>\n    </tr>\n    <tr>\n      <th>3581</th>\n      <td>60004483</td>\n      <td>Movie</td>\n      <td>The Lord of the Rings: The Two Towers</td>\n      <td>Peter Jackson</td>\n      <td>Elijah Wood, Ian McKellen, Liv Tyler, Viggo Mo...</td>\n      <td>New Zealand, United States</td>\n      <td>2020-01-01</td>\n      <td>2002</td>\n      <td>PG-13</td>\n      <td>179 min</td>\n      <td>Action &amp; Adventure, Sci-Fi &amp; Fantasy</td>\n      <td>Frodo and Sam head to Mordor to destroy the On...</td>\n      <td>8.7</td>\n      <td>1415496.0</td>\n      <td>January</td>\n      <td>2020</td>\n    </tr>\n    <tr>\n      <th>6160</th>\n      <td>70143836</td>\n      <td>TV Show</td>\n      <td>Breaking Bad</td>\n      <td>-1</td>\n      <td>Bryan Cranston, Aaron Paul, Anna Gunn, Dean No...</td>\n      <td>United States</td>\n      <td>2013-08-02</td>\n      <td>2013</td>\n      <td>TV-MA</td>\n      <td>5 Seasons</td>\n      <td>Crime TV Shows, TV Dramas, TV Thrillers</td>\n      <td>A high school chemistry teacher dying of cance...</td>\n      <td>9.5</td>\n      <td>1323484.0</td>\n      <td>August</td>\n      <td>2013</td>\n    </tr>\n    <tr>\n      <th>...</th>\n      <td>...</td>\n      <td>...</td>\n      <td>...</td>\n      <td>...</td>\n      <td>...</td>\n      <td>...</td>\n      <td>...</td>\n      <td>...</td>\n      <td>...</td>\n      <td>...</td>\n      <td>...</td>\n      <td>...</td>\n      <td>...</td>\n      <td>...</td>\n      <td>...</td>\n      <td>...</td>\n    </tr>\n    <tr>\n      <th>3543</th>\n      <td>70112500</td>\n      <td>Movie</td>\n      <td>Moon</td>\n      <td>Duncan Jones</td>\n      <td>Sam Rockwell, Kevin Spacey, Dominique McElligo...</td>\n      <td>United Kingdom, United States</td>\n      <td>2020-01-01</td>\n      <td>2009</td>\n      <td>R</td>\n      <td>97 min</td>\n      <td>Dramas, Independent Movies, Sci-Fi &amp; Fantasy</td>\n      <td>As he nears the end of a lonely three-year sti...</td>\n      <td>7.9</td>\n      <td>322684.0</td>\n      <td>January</td>\n      <td>2020</td>\n    </tr>\n    <tr>\n      <th>3601</th>\n      <td>70100379</td>\n      <td>Movie</td>\n      <td>Yes Man</td>\n      <td>Peyton Reed</td>\n      <td>Jim Carrey, Zooey Deschanel, Bradley Cooper, J...</td>\n      <td>United States, United Kingdom</td>\n      <td>2020-01-01</td>\n      <td>2008</td>\n      <td>PG-13</td>\n      <td>104 min</td>\n      <td>Comedies, Romantic Movies</td>\n      <td>After a bitter divorce, a bank drone falls und...</td>\n      <td>6.8</td>\n      <td>322363.0</td>\n      <td>January</td>\n      <td>2020</td>\n    </tr>\n    <tr>\n      <th>5054</th>\n      <td>70121522</td>\n      <td>Movie</td>\n      <td>3 Idiots</td>\n      <td>Rajkumar Hirani</td>\n      <td>Aamir Khan, Kareena Kapoor, Madhavan, Sharman ...</td>\n      <td>India</td>\n      <td>2019-08-01</td>\n      <td>2009</td>\n      <td>PG-13</td>\n      <td>164 min</td>\n      <td>Comedies, Dramas, International Movies</td>\n      <td>While attending one of India's premier college...</td>\n      <td>8.4</td>\n      <td>318965.0</td>\n      <td>August</td>\n      <td>2019</td>\n    </tr>\n    <tr>\n      <th>3588</th>\n      <td>60024914</td>\n      <td>Movie</td>\n      <td>The Ring</td>\n      <td>Gore Verbinski</td>\n      <td>Naomi Watts, Martin Henderson, David Dorfman, ...</td>\n      <td>United States</td>\n      <td>2020-01-01</td>\n      <td>2002</td>\n      <td>PG-13</td>\n      <td>116 min</td>\n      <td>Horror Movies, Thrillers</td>\n      <td>A reporter watches a video that supposedly set...</td>\n      <td>7.1</td>\n      <td>309047.0</td>\n      <td>January</td>\n      <td>2020</td>\n    </tr>\n    <tr>\n      <th>3596</th>\n      <td>70117902</td>\n      <td>Movie</td>\n      <td>Up in the Air</td>\n      <td>Jason Reitman</td>\n      <td>George Clooney, Vera Farmiga, Anna Kendrick, J...</td>\n      <td>United States</td>\n      <td>2020-01-01</td>\n      <td>2009</td>\n      <td>R</td>\n      <td>110 min</td>\n      <td>Comedies, Dramas, Romantic Movies</td>\n      <td>Ryan Bingham flies around the country firing e...</td>\n      <td>7.4</td>\n      <td>309012.0</td>\n      <td>January</td>\n      <td>2020</td>\n    </tr>\n  </tbody>\n</table>\n<p>100 rows × 16 columns</p>\n</div>"
     },
     "metadata": {},
     "execution_count": 6
    }
   ],
   "source": [
    "table=[][\n",
    "for index, row in najboljpopularni.iterrows():\n",
    "    for zanr in row['listed_in'].split(\", \"):\n",
    "        najboljpopularni.loc[index, zanr] = int(1)\n",
    "najboljpopularni = table.drop(columns=[ 'type', 'show_id', 'director', 'cast','country','date_added','release_year','rating','duration','listed_in','description','averageRating','numVotes','month_added','year_added']).fillna(0)\n",
    "najboljpopularni = table_from_frame(najboljpopularni)"
   ]
  },
  {
   "cell_type": "code",
   "execution_count": null,
   "metadata": {},
   "outputs": [],
   "source": []
  }
 ],
 "metadata": {
  "language_info": {
   "codemirror_mode": {
    "name": "ipython",
    "version": 3
   },
   "file_extension": ".py",
   "mimetype": "text/x-python",
   "name": "python",
   "nbconvert_exporter": "python",
   "pygments_lexer": "ipython3",
   "version": "3.7.6-final"
  },
  "orig_nbformat": 2,
  "kernelspec": {
   "name": "python37664bit6692b6271fd544f8b15eca3f177d9dda",
   "display_name": "Python 3.7.6 64-bit"
  }
 },
 "nbformat": 4,
 "nbformat_minor": 2
}